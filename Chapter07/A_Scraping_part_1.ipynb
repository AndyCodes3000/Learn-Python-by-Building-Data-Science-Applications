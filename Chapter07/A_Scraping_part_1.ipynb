{
 "cells": [
  {
   "cell_type": "code",
   "execution_count": 1,
   "metadata": {},
   "outputs": [],
   "source": [
    "import requests as rq\n",
    "from bs4 import BeautifulSoup\n",
    "import json"
   ]
  },
  {
   "cell_type": "markdown",
   "metadata": {},
   "source": [
    "### Task\n",
    "\n",
    "Collect a tabular dataset of all battles of WWII from wikipedia.\n",
    "for each battle collect it's theater, location, date, outcomes and as much of additional info as there is"
   ]
  },
  {
   "cell_type": "markdown",
   "metadata": {},
   "source": [
    "# Collect page and parse as a DOM"
   ]
  },
  {
   "cell_type": "code",
   "execution_count": 2,
   "metadata": {},
   "outputs": [],
   "source": [
    "base_url = 'https://en.wikipedia.org/wiki/List_of_World_War_II_battles'"
   ]
  },
  {
   "cell_type": "code",
   "execution_count": 3,
   "metadata": {},
   "outputs": [],
   "source": [
    "def get_dom(url):\n",
    "    response = rq.get(url)\n",
    "    response.raise_for_status()\n",
    "    return BeautifulSoup(response.content, 'html.parser')"
   ]
  },
  {
   "cell_type": "markdown",
   "metadata": {},
   "source": [
    "## Search for the content"
   ]
  },
  {
   "cell_type": "code",
   "execution_count": 13,
   "metadata": {},
   "outputs": [],
   "source": [
    "soup = get_dom(base_url)\n",
    "content = soup.select('div#mw-content-text>div.mw-parser-output', limit=1)[0]"
   ]
  },
  {
   "cell_type": "code",
   "execution_count": 15,
   "metadata": {},
   "outputs": [],
   "source": [
    "# content"
   ]
  },
  {
   "cell_type": "code",
   "execution_count": 5,
   "metadata": {},
   "outputs": [],
   "source": [
    "# also can use :not(:last-of-type) in css\n",
    "fronts = content.select('div.mw-parser-output>h2')[:-1]"
   ]
  },
  {
   "cell_type": "code",
   "execution_count": 6,
   "metadata": {},
   "outputs": [
    {
     "name": "stdout",
     "output_type": "stream",
     "text": [
      "African Front\n",
      "Mediterranean Front\n",
      "Western Front\n",
      "Atlantic Ocean\n",
      "Eastern Front\n",
      "Indian Ocean\n",
      "Pacific Theatre\n",
      "China Front\n",
      "Southeast Asia Front\n"
     ]
    }
   ],
   "source": [
    "for front in fronts:\n",
    "    print(front.text[:-6])"
   ]
  },
  {
   "cell_type": "code",
   "execution_count": 7,
   "metadata": {},
   "outputs": [],
   "source": [
    "def _abs_link(link, base='https://en.wikipedia.org'):\n",
    "    return base + link\n",
    "        "
   ]
  },
  {
   "cell_type": "code",
   "execution_count": 8,
   "metadata": {},
   "outputs": [],
   "source": [
    "def dictify(ul, level=0):\n",
    "    result = dict()\n",
    "    \n",
    "    for li in ul.find_all(\"li\", recursive=False):\n",
    "        text = li.stripped_strings\n",
    "        key = next(text)\n",
    "        \n",
    "        try:\n",
    "            time = next(text).replace(':', '').strip()\n",
    "        except StopIteration:\n",
    "            time = None\n",
    "\n",
    "        ul, link = li.find(\"ul\"), li.find('a')\n",
    "        if link:\n",
    "            link = _abs_link(link.get('href'))\n",
    "            \n",
    "\n",
    "        r ={'url': link,\n",
    "            'time':time,\n",
    "            'level': level} \n",
    "        \n",
    "        if ul:\n",
    "            r['children'] = dictify(ul, level=(level + 1))\n",
    "\n",
    "        result[key] = r\n",
    "    return result"
   ]
  },
  {
   "cell_type": "markdown",
   "metadata": {},
   "source": [
    "## Try on one"
   ]
  },
  {
   "cell_type": "code",
   "execution_count": 16,
   "metadata": {},
   "outputs": [],
   "source": [
    "# z = dictify(fronts[0].find_next_siblings(\"div\", \"div-col columns column-width\")[0].ul)\n",
    "# z"
   ]
  },
  {
   "cell_type": "markdown",
   "metadata": {},
   "source": [
    "# Collect for all Fronts"
   ]
  },
  {
   "cell_type": "code",
   "execution_count": 17,
   "metadata": {},
   "outputs": [],
   "source": [
    "theaters = {}\n",
    "\n",
    "for front in fronts:\n",
    "    list_element = front.find_next_siblings(\"div\", \"div-col columns column-width\")[0].ul\n",
    "    theaters[front.text[:-6]] = dictify(list_element)"
   ]
  },
  {
   "cell_type": "code",
   "execution_count": 18,
   "metadata": {},
   "outputs": [
    {
     "data": {
      "text/plain": [
       "dict_keys(['African Front', 'Mediterranean Front', 'Western Front', 'Atlantic Ocean', 'Eastern Front', 'Indian Ocean', 'Pacific Theatre', 'China Front', 'Southeast Asia Front'])"
      ]
     },
     "execution_count": 18,
     "metadata": {},
     "output_type": "execute_result"
    }
   ],
   "source": [
    "theaters.keys()"
   ]
  },
  {
   "cell_type": "code",
   "execution_count": 12,
   "metadata": {},
   "outputs": [],
   "source": [
    "with open('all_battles.json', 'w') as f:\n",
    "    json.dump(theaters, f)"
   ]
  },
  {
   "cell_type": "code",
   "execution_count": null,
   "metadata": {},
   "outputs": [],
   "source": []
  }
 ],
 "metadata": {
  "kernelspec": {
   "display_name": "Python 3",
   "language": "python",
   "name": "python3"
  },
  "language_info": {
   "codemirror_mode": {
    "name": "ipython",
    "version": 3
   },
   "file_extension": ".py",
   "mimetype": "text/x-python",
   "name": "python",
   "nbconvert_exporter": "python",
   "pygments_lexer": "ipython3",
   "version": "3.7.3"
  }
 },
 "nbformat": 4,
 "nbformat_minor": 4
}
