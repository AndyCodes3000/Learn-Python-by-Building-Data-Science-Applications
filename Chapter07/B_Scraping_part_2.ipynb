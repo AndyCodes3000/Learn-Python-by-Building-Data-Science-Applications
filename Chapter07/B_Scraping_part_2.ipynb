{
 "cells": [
  {
   "cell_type": "code",
   "execution_count": 1,
   "metadata": {},
   "outputs": [],
   "source": [
    "import requests as rq\n",
    "from bs4 import BeautifulSoup"
   ]
  },
  {
   "cell_type": "markdown",
   "metadata": {},
   "source": [
    "# Test on one link"
   ]
  },
  {
   "cell_type": "code",
   "execution_count": 2,
   "metadata": {},
   "outputs": [
    {
     "data": {
      "text/plain": [
       "'https://en.wikipedia.org//wiki/Operation_Skorpion'"
      ]
     },
     "execution_count": 2,
     "metadata": {},
     "output_type": "execute_result"
    }
   ],
   "source": [
    "url = 'https://en.wikipedia.org//wiki/Operation_Skorpion'\n",
    "# url = 'https://en.wikipedia.org//wiki/Siege_of_Giarabub'\n",
    "# url = 'https://en.wikipedia.org/wiki/Siege_of_Giarabub'\n",
    "# url = 'https://en.wikipedia.org/wiki/Battle_of_Dakar'\n",
    "# url = 'https://en.wikipedia.org/wiki/Vilnius_Offensive'\n",
    "url"
   ]
  },
  {
   "cell_type": "code",
   "execution_count": 3,
   "metadata": {},
   "outputs": [],
   "source": [
    "def get_dom(url):\n",
    "    response = rq.get(url)\n",
    "    response.raise_for_status()\n",
    "    return BeautifulSoup(response.content, 'html.parser')"
   ]
  },
  {
   "cell_type": "code",
   "execution_count": 4,
   "metadata": {},
   "outputs": [],
   "source": [
    "info = get_dom(url)"
   ]
  },
  {
   "cell_type": "markdown",
   "metadata": {},
   "source": [
    "## Processing one link\n",
    "\n",
    "- actors\n",
    "- date\n",
    "- geolocation\n",
    "- who wins\n",
    "- casualities\n",
    "- map?"
   ]
  },
  {
   "cell_type": "code",
   "execution_count": 6,
   "metadata": {},
   "outputs": [],
   "source": [
    "table = info.select('table.infobox.vevent')[0]"
   ]
  },
  {
   "cell_type": "code",
   "execution_count": null,
   "metadata": {},
   "outputs": [],
   "source": []
  },
  {
   "cell_type": "code",
   "execution_count": 8,
   "metadata": {},
   "outputs": [],
   "source": [
    "def _table_to_dict(table):\n",
    "    result = {}\n",
    "    for row in table.find_all('tr'):\n",
    "        result[row.th.text] = row.td.get_text().strip()\n",
    "        \n",
    "    return result"
   ]
  },
  {
   "cell_type": "code",
   "execution_count": 9,
   "metadata": {},
   "outputs": [],
   "source": [
    "def _get_main_info(table):\n",
    "    main = [el for el in table.tbody.find_all('tr', recursive=False) if 'Location' in el.get_text()][0]\n",
    "    return  {'main': _table_to_dict(main) }\n"
   ]
  },
  {
   "cell_type": "code",
   "execution_count": 10,
   "metadata": {},
   "outputs": [
    {
     "data": {
      "text/plain": [
       "{'main': {'Date': '26–27 May 1941',\n",
       "  'Location': 'Halfaya Pass, Egypt31°30′N 25°11′E\\ufeff / \\ufeff31.500°N 25.183°E\\ufeff / 31.500; 25.183Coordinates: 31°30′N 25°11′E\\ufeff / \\ufeff31.500°N 25.183°E\\ufeff / 31.500; 25.183',\n",
       "  'Result': 'Axis victory',\n",
       "  'Territorialchanges': 'Axis re-captured Halfaya Pass'}}"
      ]
     },
     "execution_count": 10,
     "metadata": {},
     "output_type": "execute_result"
    }
   ],
   "source": [
    "_get_main_info(table)"
   ]
  },
  {
   "cell_type": "markdown",
   "metadata": {},
   "source": [
    "# Additional"
   ]
  },
  {
   "cell_type": "code",
   "execution_count": 23,
   "metadata": {},
   "outputs": [],
   "source": [
    "def _parse_row(row, names=(\"allies\", \"axis\", \"third party\")):\n",
    "    \"\"\"parse secondory info row\n",
    "    as dict of info points\n",
    "    \"\"\"\n",
    "    cells = row.find_all(\"td\", recursive=False)\n",
    "    if len(cells) == 1:\n",
    "        return {\"total\": cells[0].get_text(separator=\" \").strip()}\n",
    "\n",
    "    return {\n",
    "        name: cell.get_text(separator=\" \").strip() for name, cell in zip(names, cells)\n",
    "    }\n",
    "\n",
    "    \n",
    "def _find_row_by_header(table, string):\n",
    "    header = table.tbody.find('tr', text=string)\n",
    "    if header is not None:\n",
    "        return header.next_sibling\n",
    "    \n",
    "\n",
    "def _additional(table):\n",
    "    \"\"\"collects additional info\n",
    "    using header keywords and returning\n",
    "    data from the row below each\n",
    "    \"\"\"\n",
    "\n",
    "    keywords = (\n",
    "        \"Belligerents\",\n",
    "        \"Commanders and leaders\",\n",
    "        \"Strength\",\n",
    "        \"Casualties and losses\",\n",
    "    )\n",
    "\n",
    "    result = {}\n",
    "    for keyword in keywords:\n",
    "        try:\n",
    "            data = _find_row_by_header(table, keyword)\n",
    "            if data:\n",
    "                result[keyword] = _parse_row(data)\n",
    "        except Exception as e:\n",
    "            raise Exception(keyword, e)\n",
    "\n",
    "    return result\n"
   ]
  },
  {
   "cell_type": "code",
   "execution_count": 24,
   "metadata": {},
   "outputs": [
    {
     "data": {
      "text/plain": [
       "{'Belligerents': {'allies': 'United Kingdom', 'axis': 'Germany'},\n",
       " 'Commanders and leaders': {'allies': 'William Gott',\n",
       "  'axis': 'Maximilian von Herff'},\n",
       " 'Strength': {'allies': 'Infantry battalion and supporting arms',\n",
       "  'axis': 'Kampfgruppe von Herff'},\n",
       " 'Casualties and losses': {'total': '173 men 12 guns 5  Infantry tanks'}}"
      ]
     },
     "execution_count": 24,
     "metadata": {},
     "output_type": "execute_result"
    }
   ],
   "source": [
    "_additional(table)"
   ]
  },
  {
   "cell_type": "markdown",
   "metadata": {},
   "source": [
    "## Test on  a few "
   ]
  },
  {
   "cell_type": "code",
   "execution_count": 25,
   "metadata": {},
   "outputs": [],
   "source": [
    "urls = {\n",
    "'Dakar': 'https://en.wikipedia.org/wiki/Battle_of_Dakar',\n",
    "'Brest': 'https://en.wikipedia.org/wiki/Battle_for_Brest',\n",
    "'Torpedo Alley': 'https://en.wikipedia.org/wiki/Torpedo_Alley',\n",
    "'Moravo': 'https://en.wikipedia.org/wiki/Battle_of_Morava%E2%80%93Ivan'\n",
    "}"
   ]
  },
  {
   "cell_type": "code",
   "execution_count": 26,
   "metadata": {},
   "outputs": [],
   "source": [
    "def _parse_battle_page(url):\n",
    "    print(url)\n",
    "    dom = get_dom(url)\n",
    "    dom['url'] = url\n",
    "    \n",
    "    table = dom.find('table','infobox vevent')\n",
    "    if table is None:\n",
    "        return {}\n",
    "    \n",
    "    data = _get_main_info(table)\n",
    "    \n",
    "    additional = _additional(table)\n",
    "    data.update(additional)\n",
    "    return data\n",
    "\n"
   ]
  },
  {
   "cell_type": "code",
   "execution_count": 27,
   "metadata": {},
   "outputs": [
    {
     "name": "stdout",
     "output_type": "stream",
     "text": [
      "https://en.wikipedia.org//wiki/Operation_Skorpion\n"
     ]
    },
    {
     "data": {
      "text/plain": [
       "{'main': {'Date': '26–27 May 1941',\n",
       "  'Location': 'Halfaya Pass, Egypt31°30′N 25°11′E\\ufeff / \\ufeff31.500°N 25.183°E\\ufeff / 31.500; 25.183Coordinates: 31°30′N 25°11′E\\ufeff / \\ufeff31.500°N 25.183°E\\ufeff / 31.500; 25.183',\n",
       "  'Result': 'Axis victory',\n",
       "  'Territorialchanges': 'Axis re-captured Halfaya Pass'},\n",
       " 'Belligerents': {'allies': 'United Kingdom', 'axis': 'Germany'},\n",
       " 'Commanders and leaders': {'allies': 'William Gott',\n",
       "  'axis': 'Maximilian von Herff'},\n",
       " 'Strength': {'allies': 'Infantry battalion and supporting arms',\n",
       "  'axis': 'Kampfgruppe von Herff'},\n",
       " 'Casualties and losses': {'total': '173 men 12 guns 5  Infantry tanks'}}"
      ]
     },
     "execution_count": 27,
     "metadata": {},
     "output_type": "execute_result"
    }
   ],
   "source": [
    "_parse_battle_page(url)"
   ]
  },
  {
   "cell_type": "code",
   "execution_count": 28,
   "metadata": {},
   "outputs": [
    {
     "name": "stdout",
     "output_type": "stream",
     "text": [
      "https://en.wikipedia.org/wiki/Battle_of_Dakar\n",
      "https://en.wikipedia.org/wiki/Battle_for_Brest\n",
      "https://en.wikipedia.org/wiki/Torpedo_Alley\n",
      "https://en.wikipedia.org/wiki/Battle_of_Morava%E2%80%93Ivan\n"
     ]
    }
   ],
   "source": [
    "result = {k:_parse_battle_page(v) for k, v in urls.items()}"
   ]
  },
  {
   "cell_type": "code",
   "execution_count": 29,
   "metadata": {},
   "outputs": [
    {
     "data": {
      "text/plain": [
       "{'main': {'Date': '14–23 November 1940',\n",
       "  'Location': 'Morava mountains, south-east AlbaniaCoordinates: 40°35′N 20°40′E\\ufeff / \\ufeff40.583°N 20.667°E\\ufeff / 40.583; 20.667',\n",
       "  'Result': 'Greek victory \\n\\nGreeks capture Korçë and Argyrokastro.'},\n",
       " 'Belligerents': {'allies': 'Italy', 'axis': 'Greece'},\n",
       " 'Commanders and leaders': {'allies': 'Gabriele Nasci',\n",
       "  'axis': 'Ioannis Pitsikas   Georgios Kosmas'},\n",
       " 'Strength': {'allies': '55,000 200 field guns',\n",
       "  'axis': '70,000 198 field guns'},\n",
       " 'Casualties and losses': {'allies': 'unknown killed & wounded 1,000 captured',\n",
       "  'axis': '624 killed 2,348 wounded'}}"
      ]
     },
     "execution_count": 29,
     "metadata": {},
     "output_type": "execute_result"
    }
   ],
   "source": [
    "result['Moravo']"
   ]
  },
  {
   "cell_type": "code",
   "execution_count": 30,
   "metadata": {},
   "outputs": [
    {
     "data": {
      "text/plain": [
       "{'main': {'Date': '7 August – 19 September 1944',\n",
       "  'Location': 'Brittany, France',\n",
       "  'Result': 'Allied victory'},\n",
       " 'Belligerents': {'allies': 'United States \\xa0 United Kingdom',\n",
       "  'axis': 'Germany'},\n",
       " 'Commanders and leaders': {'allies': 'Troy H. Middleton   Walter M. Robertson   Donald A. Stroh   Charles H. Gerhardt',\n",
       "  'axis': 'Hermann-Bernhard Ramcke \\xa0   Hans Kroh \\xa0   Erwin Rauch'},\n",
       " 'Strength': {'allies': 'VIII Corps \\n \\n 2nd Infantry Division \\n 8th Infantry Division \\n 29th Infantry Division \\n 2nd Ranger Battalion \\n 5th Ranger Battalion \\n 79th Armoured Division  (elements) \\n 6th Armored Division  (elements)',\n",
       "  'axis': '2nd Fallschirmjäger-Division 266. Infanterie-Division 343. Infanterie-Division'},\n",
       " 'Casualties and losses': {'allies': '9,831 killed or wounded [1]',\n",
       "  'axis': '38,000 captured [1]'}}"
      ]
     },
     "execution_count": 30,
     "metadata": {},
     "output_type": "execute_result"
    }
   ],
   "source": [
    "result['Brest']"
   ]
  },
  {
   "cell_type": "code",
   "execution_count": null,
   "metadata": {},
   "outputs": [],
   "source": []
  }
 ],
 "metadata": {
  "kernelspec": {
   "display_name": "Python 3",
   "language": "python",
   "name": "python3"
  },
  "language_info": {
   "codemirror_mode": {
    "name": "ipython",
    "version": 3
   },
   "file_extension": ".py",
   "mimetype": "text/x-python",
   "name": "python",
   "nbconvert_exporter": "python",
   "pygments_lexer": "ipython3",
   "version": "3.7.3"
  }
 },
 "nbformat": 4,
 "nbformat_minor": 4
}
