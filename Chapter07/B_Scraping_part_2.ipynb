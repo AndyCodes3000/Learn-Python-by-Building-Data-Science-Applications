{
 "cells": [
  {
   "cell_type": "code",
   "execution_count": 1,
   "metadata": {},
   "outputs": [],
   "source": [
    "import requests as rq\n",
    "from bs4 import BeautifulSoup"
   ]
  },
  {
   "cell_type": "markdown",
   "metadata": {},
   "source": [
    "# Test on one link"
   ]
  },
  {
   "cell_type": "code",
   "execution_count": 2,
   "metadata": {},
   "outputs": [
    {
     "data": {
      "text/plain": [
       "'https://en.wikipedia.org//wiki/Operation_Skorpion'"
      ]
     },
     "execution_count": 2,
     "metadata": {},
     "output_type": "execute_result"
    }
   ],
   "source": [
    "url = 'https://en.wikipedia.org//wiki/Operation_Skorpion'\n",
    "# url = 'https://en.wikipedia.org//wiki/Siege_of_Giarabub'\n",
    "# url = 'https://en.wikipedia.org/wiki/Siege_of_Giarabub'\n",
    "# url = 'https://en.wikipedia.org/wiki/Battle_of_Dakar'\n",
    "# url = 'https://en.wikipedia.org/wiki/Vilnius_Offensive'\n",
    "url"
   ]
  },
  {
   "cell_type": "code",
   "execution_count": 3,
   "metadata": {},
   "outputs": [],
   "source": [
    "def get_dom(url):\n",
    "    response = rq.get(url)\n",
    "    response.raise_for_status()\n",
    "    return BeautifulSoup(response.content, 'html.parser')"
   ]
  },
  {
   "cell_type": "code",
   "execution_count": 4,
   "metadata": {},
   "outputs": [],
   "source": [
    "info = get_dom(url)"
   ]
  },
  {
   "cell_type": "markdown",
   "metadata": {},
   "source": [
    "## Processing one link\n",
    "\n",
    "- actors\n",
    "- date\n",
    "- geolocation\n",
    "- who wins\n",
    "- casualities\n",
    "- map?"
   ]
  },
  {
   "cell_type": "code",
   "execution_count": 5,
   "metadata": {},
   "outputs": [],
   "source": [
    "table = info.find('table','infobox vevent')"
   ]
  },
  {
   "cell_type": "code",
   "execution_count": null,
   "metadata": {},
   "outputs": [],
   "source": []
  },
  {
   "cell_type": "code",
   "execution_count": 6,
   "metadata": {},
   "outputs": [],
   "source": [
    "def _table_to_dict(table):\n",
    "    result = {}\n",
    "    for row in table.find_all('tr'):\n",
    "        key = next(row.th.stripped_strings)\n",
    "        value = row.td.get_text().strip()\n",
    "        \n",
    "        result[key] = value\n",
    "        \n",
    "    return result"
   ]
  },
  {
   "cell_type": "code",
   "execution_count": 7,
   "metadata": {},
   "outputs": [],
   "source": [
    "def _get_main_info(table):\n",
    "    main = [el for el in table.tbody.find_all('tr', recursive=False) if 'Location' in el.get_text()][0]\n",
    "    return  {'main': _table_to_dict(main) }\n"
   ]
  },
  {
   "cell_type": "code",
   "execution_count": 8,
   "metadata": {},
   "outputs": [
    {
     "data": {
      "text/plain": [
       "{'main': {'Date': '26–27 May 1941',\n",
       "  'Location': 'Halfaya Pass, Egypt31°30′N 25°11′E\\ufeff / \\ufeff31.500°N 25.183°E\\ufeff / 31.500; 25.183Coordinates: 31°30′N 25°11′E\\ufeff / \\ufeff31.500°N 25.183°E\\ufeff / 31.500; 25.183',\n",
       "  'Result': 'Axis victory',\n",
       "  'Territorial': 'Axis re-captured Halfaya Pass'}}"
      ]
     },
     "execution_count": 8,
     "metadata": {},
     "output_type": "execute_result"
    }
   ],
   "source": [
    "_get_main_info(table)"
   ]
  },
  {
   "cell_type": "markdown",
   "metadata": {},
   "source": [
    "# Additional"
   ]
  },
  {
   "cell_type": "code",
   "execution_count": 9,
   "metadata": {},
   "outputs": [],
   "source": [
    "def _parse_row(row):\n",
    "    '''parse secondory info row\n",
    "    as dict of info points - for allies and axis\n",
    "    '''\n",
    "    cells = row.find_all('td', recursive=False)\n",
    "    return [cell.get_text().strip() for cell in cells]\n",
    "\n",
    "\n",
    "\n",
    "    \n",
    "def _find_row_by_header(table, string):\n",
    "    header = table.tbody.find('tr', text=string)\n",
    "    if header is not None:\n",
    "        return header.next_sibling\n",
    "    \n",
    "\n",
    "def _additional(table):\n",
    "    \n",
    "    keywords = (\n",
    "        'Belligerents',\n",
    "        'Commanders and leaders',\n",
    "        'Strength',\n",
    "        'Casualties and losses',\n",
    "    )\n",
    "    \n",
    "    result = {}\n",
    "    for keyword in keywords:\n",
    "        try:\n",
    "            data = _find_row_by_header(table, keyword)\n",
    "            if data:\n",
    "                result[keyword] = _parse_row(data)\n",
    "        except Exception as e:\n",
    "            raise Exception(keyword, e)\n",
    "        \n",
    "    return result"
   ]
  },
  {
   "cell_type": "code",
   "execution_count": 10,
   "metadata": {},
   "outputs": [
    {
     "data": {
      "text/plain": [
       "{'Belligerents': ['United Kingdom', 'Germany'],\n",
       " 'Commanders and leaders': ['William Gott', 'Maximilian von Herff'],\n",
       " 'Strength': ['Infantry battalion and supporting arms',\n",
       "  'Kampfgruppe von Herff'],\n",
       " 'Casualties and losses': ['173 men12 guns5 Infantry tanks']}"
      ]
     },
     "execution_count": 10,
     "metadata": {},
     "output_type": "execute_result"
    }
   ],
   "source": [
    "_additional(table)"
   ]
  },
  {
   "cell_type": "markdown",
   "metadata": {},
   "source": [
    "## Test on  a few "
   ]
  },
  {
   "cell_type": "code",
   "execution_count": 11,
   "metadata": {},
   "outputs": [],
   "source": [
    "urls = {\n",
    "'Dakar': 'https://en.wikipedia.org/wiki/Battle_of_Dakar',\n",
    "'Brest': 'https://en.wikipedia.org/wiki/Battle_for_Brest',\n",
    "'Torpedo Alley': 'https://en.wikipedia.org/wiki/Torpedo_Alley',\n",
    "'Moravo': 'https://en.wikipedia.org/wiki/Battle_of_Morava%E2%80%93Ivan'\n",
    "}"
   ]
  },
  {
   "cell_type": "code",
   "execution_count": 12,
   "metadata": {},
   "outputs": [],
   "source": [
    "def _parse_battle_page(url):\n",
    "    print(url)\n",
    "    dom = get_dom(url)\n",
    "    dom['url'] = url\n",
    "    \n",
    "    table = dom.find('table','infobox vevent')\n",
    "    if table is None:\n",
    "        return {}\n",
    "    \n",
    "    data = _get_main_info(table)\n",
    "    \n",
    "    additional = _additional(table)\n",
    "    data.update(additional)\n",
    "    return data\n",
    "\n"
   ]
  },
  {
   "cell_type": "code",
   "execution_count": 13,
   "metadata": {},
   "outputs": [
    {
     "name": "stdout",
     "output_type": "stream",
     "text": [
      "https://en.wikipedia.org//wiki/Operation_Skorpion\n"
     ]
    },
    {
     "data": {
      "text/plain": [
       "{'main': {'Date': '26–27 May 1941',\n",
       "  'Location': 'Halfaya Pass, Egypt31°30′N 25°11′E\\ufeff / \\ufeff31.500°N 25.183°E\\ufeff / 31.500; 25.183Coordinates: 31°30′N 25°11′E\\ufeff / \\ufeff31.500°N 25.183°E\\ufeff / 31.500; 25.183',\n",
       "  'Result': 'Axis victory',\n",
       "  'Territorial': 'Axis re-captured Halfaya Pass'},\n",
       " 'Belligerents': ['United Kingdom', 'Germany'],\n",
       " 'Commanders and leaders': ['William Gott', 'Maximilian von Herff'],\n",
       " 'Strength': ['Infantry battalion and supporting arms',\n",
       "  'Kampfgruppe von Herff'],\n",
       " 'Casualties and losses': ['173 men12 guns5 Infantry tanks']}"
      ]
     },
     "execution_count": 13,
     "metadata": {},
     "output_type": "execute_result"
    }
   ],
   "source": [
    "_parse_battle_page(url)"
   ]
  },
  {
   "cell_type": "code",
   "execution_count": 14,
   "metadata": {},
   "outputs": [
    {
     "name": "stdout",
     "output_type": "stream",
     "text": [
      "https://en.wikipedia.org/wiki/Battle_of_Dakar\n",
      "https://en.wikipedia.org/wiki/Battle_for_Brest\n",
      "https://en.wikipedia.org/wiki/Torpedo_Alley\n",
      "https://en.wikipedia.org/wiki/Battle_of_Morava%E2%80%93Ivan\n"
     ]
    }
   ],
   "source": [
    "result = {k:_parse_battle_page(v) for k, v in urls.items()}"
   ]
  },
  {
   "cell_type": "code",
   "execution_count": 15,
   "metadata": {},
   "outputs": [
    {
     "data": {
      "text/plain": [
       "{'main': {'Date': '14–23 November 1940',\n",
       "  'Location': 'Morava mountains, south-east AlbaniaCoordinates: 40°35′N 20°40′E\\ufeff / \\ufeff40.583°N 20.667°E\\ufeff / 40.583; 20.667',\n",
       "  'Result': 'Greek victory \\n\\nGreeks capture Korçë and Argyrokastro.'},\n",
       " 'Belligerents': ['Italy', 'Greece'],\n",
       " 'Commanders and leaders': ['Gabriele Nasci',\n",
       "  'Ioannis Pitsikas Georgios Kosmas'],\n",
       " 'Strength': ['55,000200 field guns', '70,000198 field guns'],\n",
       " 'Casualties and losses': ['unknown killed & wounded1,000 captured',\n",
       "  '624 killed2,348 wounded']}"
      ]
     },
     "execution_count": 15,
     "metadata": {},
     "output_type": "execute_result"
    }
   ],
   "source": [
    "result['Moravo']"
   ]
  },
  {
   "cell_type": "code",
   "execution_count": 16,
   "metadata": {},
   "outputs": [
    {
     "data": {
      "text/plain": [
       "{'main': {'Date': '7 August – 19 September 1944',\n",
       "  'Location': 'Brittany, France',\n",
       "  'Result': 'Allied victory'},\n",
       " 'Belligerents': ['United States\\xa0United Kingdom', 'Germany'],\n",
       " 'Commanders and leaders': ['Troy H. Middleton Walter M. Robertson Donald A. Stroh Charles H. Gerhardt',\n",
       "  'Hermann-Bernhard Ramcke\\xa0 Hans Kroh\\xa0 Erwin Rauch'],\n",
       " 'Strength': ['VIII Corps\\n\\n2nd Infantry Division\\n8th Infantry Division\\n29th Infantry Division\\n2nd Ranger Battalion\\n5th Ranger Battalion\\n79th Armoured Division (elements)\\n6th Armored Division (elements)',\n",
       "  '2nd Fallschirmjäger-Division266. Infanterie-Division343. Infanterie-Division'],\n",
       " 'Casualties and losses': ['9,831 killed or wounded[1]', '38,000 captured[1]']}"
      ]
     },
     "execution_count": 16,
     "metadata": {},
     "output_type": "execute_result"
    }
   ],
   "source": [
    "result['Brest']"
   ]
  },
  {
   "cell_type": "code",
   "execution_count": null,
   "metadata": {},
   "outputs": [],
   "source": []
  }
 ],
 "metadata": {
  "kernelspec": {
   "display_name": "Python 3",
   "language": "python",
   "name": "python3"
  },
  "language_info": {
   "codemirror_mode": {
    "name": "ipython",
    "version": 3
   },
   "file_extension": ".py",
   "mimetype": "text/x-python",
   "name": "python",
   "nbconvert_exporter": "python",
   "pygments_lexer": "ipython3",
   "version": "3.7.3"
  }
 },
 "nbformat": 4,
 "nbformat_minor": 4
}
