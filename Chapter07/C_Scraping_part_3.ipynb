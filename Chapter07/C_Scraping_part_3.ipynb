{
 "cells": [
  {
   "cell_type": "code",
   "execution_count": 1,
   "metadata": {},
   "outputs": [],
   "source": [
    "import json\n",
    "from wiki import parse_battle_page\n",
    "import time"
   ]
  },
  {
   "cell_type": "markdown",
   "metadata": {},
   "source": [
    "# Load all Links"
   ]
  },
  {
   "cell_type": "code",
   "execution_count": 2,
   "metadata": {},
   "outputs": [],
   "source": [
    "with open('./_all_battles.json', 'r') as f:\n",
    "    campaigns = json.load(f)"
   ]
  },
  {
   "cell_type": "code",
   "execution_count": 3,
   "metadata": {},
   "outputs": [
    {
     "data": {
      "text/plain": [
       "dict_keys(['url', 'time', 'level'])"
      ]
     },
     "execution_count": 3,
     "metadata": {},
     "output_type": "execute_result"
    }
   ],
   "source": [
    "campaigns['African Front']['Syria–Lebanon Campaign'].keys()"
   ]
  },
  {
   "cell_type": "markdown",
   "metadata": {},
   "source": [
    "# Parse all battles"
   ]
  },
  {
   "cell_type": "code",
   "execution_count": 4,
   "metadata": {},
   "outputs": [],
   "source": [
    "def _parse_in_depth(element, name):\n",
    "    '''attempts to scrape data for every\n",
    "    element with url attribute - and all the children\n",
    "    if there are any'''\n",
    "    \n",
    "    if 'children' in element:\n",
    "        for k, child in element['children'].items():\n",
    "            parsed = _parse_in_depth(child, k)\n",
    "            element['children'][k].update(parsed)\n",
    "    \n",
    "    if 'url' in element:\n",
    "        try:\n",
    "            element.update(parse_battle_page(element['url']))       \n",
    "        except Exception as e:\n",
    "            raise Exception(name, e)\n",
    "            \n",
    "    time.sleep(.1) # let's be good citizens!\n",
    "    return element"
   ]
  },
  {
   "cell_type": "code",
   "execution_count": 5,
   "metadata": {},
   "outputs": [
    {
     "data": {
      "text/plain": [
       "{'Date': '15–16 May 1941',\n",
       " 'Location': 'Egyptian and Libyan border31°34′51″N 25°03′08″E\\ufeff / \\ufeff31.58083°N 25.05222°E\\ufeff / 31.58083; 25.05222Coordinates: 31°34′51″N 25°03′08″E\\ufeff / \\ufeff31.58083°N 25.05222°E\\ufeff / 31.58083; 25.05222',\n",
       " 'Result': 'Inconclusive',\n",
       " 'url': 'https://en.wikipedia.org/wiki/Operation_Brevity',\n",
       " 'Belligerents': {'allies': 'United Kingdom \\xa0 Australia',\n",
       "  'axis': 'Germany \\xa0 Italy'},\n",
       " 'Commanders and leaders': {'allies': 'Archibald Wavell   William Gott',\n",
       "  'axis': 'Erwin Rommel   Maximilian von Herff'},\n",
       " 'Strength': {'allies': '3 infantry battalions 53 tanks',\n",
       "  'axis': 'Elements of several battalions 30–50 tanks'},\n",
       " 'Casualties and losses': {'allies': '206+ casualties 5 tanks destroyed 6 aircraft destroyed',\n",
       "  'axis': '605+ casualties 3 tanks destroyed'}}"
      ]
     },
     "execution_count": 5,
     "metadata": {},
     "output_type": "execute_result"
    }
   ],
   "source": [
    "parse_battle_page('https://en.wikipedia.org/wiki/Operation_Brevity')"
   ]
  },
  {
   "cell_type": "code",
   "execution_count": 7,
   "metadata": {},
   "outputs": [
    {
     "name": "stdout",
     "output_type": "stream",
     "text": [
      "African Front\n",
      "    North African Campaign\n",
      "    East African Campaign\n",
      "    West African Campaign\n",
      "    Iraq Campaign\n",
      "    Syria–Lebanon Campaign\n",
      "    Iran Campaign\n",
      "    Operation Torch\n",
      "    Tunisia Campaign\n",
      "Mediterranean Front\n",
      "    Battle of the Mediterranean Sea\n",
      "    Siege of Malta\n",
      "Western Front\n",
      "    French offensive into Germany\n",
      "    Operation Weserübung\n",
      "    Battle of the Netherlands\n",
      "    Battle of Belgium\n",
      "    German invasion of Luxembourg\n",
      "    Battle of France\n",
      "    Italian invasion of France\n",
      "    Battle of Britain\n",
      "    The Blitz\n",
      "    Operation Cerberus\n",
      "    Operation Donnerkeil\n",
      "    St. Nazaire Raid\n",
      "    Dieppe Raid\n",
      "    Battle of Berlin (air)\n",
      "    Operation Overlord\n",
      "    Operation Valkyrie\n",
      "    Operation Dragoon\n",
      "    Allied advance from Paris to the Rhine\n",
      "    Clearing the Channel Coast\n",
      "    Operation Market Garden\n",
      "    Lorraine Campaign\n",
      "    Battle of Moerbrugge\n",
      "    Battle of Aachen\n",
      "    Battle of Overloon\n",
      "    Battle of Hürtgen Forest\n",
      "    Operation Clipper\n",
      "    Battle of Vianden\n",
      "    Battle of Kesternich\n",
      "    Battle of the Bulge\n",
      "    Operation Nordwind\n",
      "    Colmar Pocket\n",
      "    Operation Blackcock\n",
      "    Operation Veritable\n",
      "    Operation Grenade\n",
      "    Operation Lumberjack\n",
      "    Western Allied invasion of Germany\n",
      "    Liberation of Arnhem\n",
      "    Battle of Groningen\n",
      "Atlantic Ocean\n",
      "    Battle of the Atlantic\n",
      "Eastern Front\n",
      "    German Invasion of Poland\n",
      "    Soviet invasion of Poland\n",
      "    Soviet invasion of Finland\n",
      "    Axis invasion of the Soviet Union\n"
     ]
    },
    {
     "name": "stderr",
     "output_type": "stream",
     "text": [
      "/Users/philippk/Dropbox/personal_projects/Packt_book/Chapter07/wiki.py:92: UserWarning: 404 Client Error: Not Found for url: https://en.wikipedia.org/wiki/Operation_Wotan\n",
      "  warnings.warn(str(e))\n"
     ]
    },
    {
     "name": "stdout",
     "output_type": "stream",
     "text": [
      "    Soviet Winter counter-offensive\n",
      "    Operation Kremlin\n",
      "    Case Blue\n",
      "    Operation Uranus\n",
      "    Operation Mars\n",
      "    Operation Little Saturn\n",
      "    Operation Winter Storm\n",
      "    Battle for Velikiye Luki (1943)\n",
      "    Operation Polyarnaya Zvezda\n",
      "    Ostrogozhsk-Rossosh Operation\n",
      "    Battle of Voronezh (1943)\n",
      "    Third Battle of Kharkov\n",
      "    Operation Citadel\n",
      "    Battle of Smolensk (1943)\n",
      "    Fourth Battle of Kharkov\n",
      "    Battle of the Dnieper\n",
      "    Concert (operation)\n",
      "    Dnieper–Carpathian Offensive\n",
      "    Leningrad–Novgorod Offensive\n",
      "    Korsun-Cherkassy Pocket\n",
      "    Battle of Narva (1944)\n",
      "    Crimean Offensive (1944)\n",
      "    Shyaulyay Offensive\n",
      "    Battle of Someri\n",
      "    Vyborg–Petrozavodsk Offensive\n",
      "    Operation Bagration\n",
      "    Battle of Tali-Ihantala\n",
      "    Battle of the Bay of Viipuri\n",
      "    Lvov–Sandomierz Offensive\n",
      "    Battle of Radzymin (1944)\n",
      "    Warsaw Uprising\n",
      "    Battle of Studzianki\n",
      "    Operation Doppelkopf\n",
      "    Romanian campaign\n",
      "    Slovak National Uprising\n",
      "    Battle of the Dukla Pass\n",
      "    Baltic Offensive\n",
      "    Belgrade Offensive\n",
      "    Operation Nordlicht (1944-1945)\n",
      "    Battle of Debrecen\n",
      "    Operation Panzerfaust\n",
      "    Courland Pocket\n",
      "    Gumbinnen Operation\n",
      "    Budapest Offensive\n",
      "    Vistula–Oder Offensive\n",
      "    East Prussian Offensive\n",
      "    Defense of Schwedt Bridgehead\n",
      "    Silesian Offensives\n",
      "    Operation Solstice\n",
      "    East Pomeranian Offensive\n",
      "    Operation Spring Awakening\n",
      "    Operation Margarethe\n",
      "    Nagykanizsa–Kermend Offensive\n",
      "    Vienna Offensive\n",
      "    Samland Offensive\n",
      "    Battle of Berlin\n",
      "    Battle of Bautzen (1945)\n",
      "    Prague Offensive\n",
      "    Battle of Odzak\n",
      "Indian Ocean\n",
      "    Attack on Convoy BN 7\n",
      "    Action of 27 February 1941\n",
      "    Action of 8 May 1941\n",
      "    Japanese occupation of the Andaman Islands\n",
      "    Battle of Christmas Island\n",
      "    Indian Ocean raid\n",
      "    Easter Sunday Raid\n",
      "    Battle of Madagascar\n",
      "    Cocos Island Mutiny\n",
      "    Battle of La Réunion\n",
      "    Indian Ocean raid (1944)\n",
      "Pacific Theatre\n",
      "    Japanese attacks on the U.S.\n",
      "    Japanese occupation of Hong Kong\n",
      "    Japanese occupation of Philippines\n",
      "    Japanese occupation of Dutch East Indies\n",
      "    Japanese Invasion of Rabaul\n",
      "    Japanese attacks on Australia\n",
      "    Japanese Invasion of Salamaua-Lae\n",
      "    Japanese Invasion of Tulagi\n",
      "    Battle of the Coral Sea\n",
      "    Battle of Midway\n",
      "    Japanese Invasion of Buna-Gona\n",
      "    Kokoda Track campaign\n",
      "    Battle of Milne Bay\n",
      "    Guadalcanal Campaign\n",
      "    New Guinea campaign\n",
      "    Aleutian Islands Campaign\n",
      "    Operation Vengeance\n",
      "    Solomon Islands Campaign\n",
      "    Gilbert and Marshall Islands campaign\n",
      "    Mariana and Palau Islands campaign\n",
      "    Battle of Noemfoor\n",
      "    Battle of Morotai\n",
      "    Philippines Campaign (1944–45)\n",
      "    Battle of Iwo Jima\n",
      "    Battle of Okinawa\n",
      "    Battle of Balikpapan (1945)\n",
      "China Front\n",
      "    Second Sino-Japanese War\n",
      "    Manchurian Operation\n",
      "    Second Guangxi Campaign\n",
      "Southeast Asia Front\n",
      "    Japanese invasion of French Indochina\n"
     ]
    },
    {
     "name": "stderr",
     "output_type": "stream",
     "text": [
      "/Users/philippk/Dropbox/personal_projects/Packt_book/Chapter07/wiki.py:92: UserWarning: Invalid URL 'None': No schema supplied. Perhaps you meant http://None?\n",
      "  warnings.warn(str(e))\n"
     ]
    },
    {
     "name": "stdout",
     "output_type": "stream",
     "text": [
      "    Thailand invasion of Laos, Cambodia and French Indochina\n",
      "    Japanese invasion of Thailand\n",
      "    Japanese-Thai occupation of Malaya\n",
      "    Bombing of Bangkok\n",
      "    Japanese occupation of Singapore\n",
      "    Burma Campaign\n",
      "    Burma Campaign 1942–43\n",
      "    Burma Campaign 1944\n",
      "    Japanese invasion of India\n",
      "    Burma Campaign 1944–1945\n",
      "    Allies bombing of South-East Asia\n",
      "    Battle of the Malacca Strait\n",
      "    Operation Tiderace\n"
     ]
    }
   ],
   "source": [
    "campaigns_parsed = {}\n",
    "\n",
    "for fr_name, front in campaigns.items():\n",
    "    print(fr_name)\n",
    "    campaigns_parsed[fr_name] = {}\n",
    "    for cp_name, campaign in front.items():\n",
    "        print(f'    {cp_name}')\n",
    "        \n",
    "        parsed = _parse_in_depth(campaign, cp_name)\n",
    "        if parsed is not None:\n",
    "            campaigns_parsed[fr_name][cp_name] = parsed"
   ]
  },
  {
   "cell_type": "code",
   "execution_count": 8,
   "metadata": {},
   "outputs": [
    {
     "name": "stdout",
     "output_type": "stream",
     "text": [
      "!\n"
     ]
    }
   ],
   "source": [
    "print('!')"
   ]
  },
  {
   "cell_type": "code",
   "execution_count": 10,
   "metadata": {},
   "outputs": [
    {
     "data": {
      "text/plain": [
       "{'url': 'https://en.wikipedia.org/wiki/Defense_of_Brest_Fortress',\n",
       " 'time': 'June 1941',\n",
       " 'level': 3,\n",
       " 'Date': '22–29 June 1941',\n",
       " 'Location': 'Brest, Belarusian SSR, Soviet Union',\n",
       " 'Result': 'German victory',\n",
       " 'Belligerents': {'allies': 'Germany', 'axis': 'Soviet Union'},\n",
       " 'Commanders and leaders': {'allies': 'Fritz Schlieper',\n",
       "  'axis': 'Pyotr Gavrilov \\xa0 ( POW )   Ivan Zubachyov \\xa0 ( POW )   Andrej Kižavataŭ \\xa0 †   Yefim Fomin \\xa0 [1] [2]'},\n",
       " 'Strength': {'allies': 'about 17,000, 2 Panzer Divisions',\n",
       "  'axis': 'over 9,000, 2  T-26  Cavalry Tanks,  BA-20  Bobik [3]'},\n",
       " 'Casualties and losses': {'allies': '429 dead, 668 wounded [4]',\n",
       "  'axis': 'more than 2,000 dead [5] about 6,800 captured [6]'}}"
      ]
     },
     "execution_count": 10,
     "metadata": {},
     "output_type": "execute_result"
    }
   ],
   "source": [
    "campaigns_parsed['Eastern Front']['Axis invasion of the Soviet Union']['children']['Defense of Brest Fortress']"
   ]
  },
  {
   "cell_type": "markdown",
   "metadata": {},
   "source": [
    "## Quality Control"
   ]
  },
  {
   "cell_type": "code",
   "execution_count": 11,
   "metadata": {},
   "outputs": [],
   "source": [
    "STATISTICS = {\n",
    "    'battles_checked':0,\n",
    "    'location_null':0,\n",
    "    'result_null':0,\n",
    "    'territorial_null': 0,\n",
    "    'total': {\n",
    "        'Casualties and losses':0,\n",
    "        'Commanders and leaders':0,\n",
    "        'Strength':0\n",
    "    },\n",
    "    'none': {\n",
    "        'Casualties and losses':0,\n",
    "        'Commanders and leaders':0,\n",
    "        'Strength':0\n",
    "    }\n",
    "}\n",
    "\n",
    "def qa(battle, name='Unknown'):\n",
    "    required = (\n",
    "#         'Location'\n",
    "#         'url', \n",
    "        'level',\n",
    "    )\n",
    "    \n",
    "  \n",
    "    \n",
    "    for el in required:\n",
    "        assert el in battle and battle[el] is not None, (name, el)\n",
    "\n",
    "        \n",
    "    STATISTICS['battles_checked'] +=1\n",
    "    \n",
    "    for el in 'Location', 'Result', 'Territorial':\n",
    "        if el not in battle or battle[el] is None:\n",
    "            STATISTICS[f'{el.lower()}_null'] += 1\n",
    "        \n",
    "    for el in 'Casualties and losses', 'Commanders and leaders', 'Strength':\n",
    "        if el not in battle:\n",
    "            STATISTICS['none'][el] += 1\n",
    "            continue\n",
    "        \n",
    "        if 'total' in battle[el]:\n",
    "            STATISTICS['total'][el] += 1\n",
    "            \n",
    "    if 'children' in battle:\n",
    "         for name, child in battle['children'].items():\n",
    "                qa(child, name)"
   ]
  },
  {
   "cell_type": "code",
   "execution_count": 12,
   "metadata": {},
   "outputs": [],
   "source": [
    "for _, front in campaigns_parsed.items():\n",
    "    for name, campaign in front.items():\n",
    "        qa(campaign, name)"
   ]
  },
  {
   "cell_type": "code",
   "execution_count": 13,
   "metadata": {},
   "outputs": [
    {
     "data": {
      "text/plain": [
       "{'battles_checked': 624,\n",
       " 'location_null': 37,\n",
       " 'result_null': 40,\n",
       " 'territorial_null': 553,\n",
       " 'total': {'Casualties and losses': 7,\n",
       "  'Commanders and leaders': 3,\n",
       "  'Strength': 2},\n",
       " 'none': {'Casualties and losses': 83,\n",
       "  'Commanders and leaders': 44,\n",
       "  'Strength': 109}}"
      ]
     },
     "execution_count": 13,
     "metadata": {},
     "output_type": "execute_result"
    }
   ],
   "source": [
    "STATISTICS"
   ]
  },
  {
   "cell_type": "markdown",
   "metadata": {},
   "source": [
    "# Store all data"
   ]
  },
  {
   "cell_type": "code",
   "execution_count": 14,
   "metadata": {},
   "outputs": [],
   "source": [
    "with open('_all_battles_parsed.json', 'w') as f:\n",
    "    json.dump(campaigns_parsed, f)"
   ]
  },
  {
   "cell_type": "code",
   "execution_count": null,
   "metadata": {},
   "outputs": [],
   "source": []
  }
 ],
 "metadata": {
  "kernelspec": {
   "display_name": "Python 3",
   "language": "python",
   "name": "python3"
  },
  "language_info": {
   "codemirror_mode": {
    "name": "ipython",
    "version": 3
   },
   "file_extension": ".py",
   "mimetype": "text/x-python",
   "name": "python",
   "nbconvert_exporter": "python",
   "pygments_lexer": "ipython3",
   "version": "3.7.3"
  }
 },
 "nbformat": 4,
 "nbformat_minor": 4
}
