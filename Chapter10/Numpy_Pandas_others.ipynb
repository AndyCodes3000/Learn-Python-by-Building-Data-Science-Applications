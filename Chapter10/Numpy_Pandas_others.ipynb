{
 "cells": [
  {
   "cell_type": "markdown",
   "metadata": {},
   "source": [
    "# I. Compare Numpy to Vanila Python"
   ]
  },
  {
   "cell_type": "code",
   "execution_count": 2,
   "metadata": {},
   "outputs": [],
   "source": [
    "A, B, C = [1,2,3,4,5]*1000, [2,3,4,5,6]*1000, [10,9,8,7,6]*1000"
   ]
  },
  {
   "cell_type": "code",
   "execution_count": 9,
   "metadata": {},
   "outputs": [
    {
     "name": "stdout",
     "output_type": "stream",
     "text": [
      "633 µs ± 13.8 µs per loop (mean ± std. dev. of 7 runs, 1000 loops each)\n"
     ]
    }
   ],
   "source": [
    "%timeit result = [sum(row) for row in zip(A,B,C)]"
   ]
  },
  {
   "cell_type": "code",
   "execution_count": 5,
   "metadata": {},
   "outputs": [],
   "source": [
    "import numpy as np\n",
    "\n",
    "Anp = np.array(A)\n",
    "Bnp = np.array(B)\n",
    "Cnp = np.array(C)"
   ]
  },
  {
   "cell_type": "code",
   "execution_count": 8,
   "metadata": {},
   "outputs": [
    {
     "name": "stdout",
     "output_type": "stream",
     "text": [
      "4.67 µs ± 22.4 ns per loop (mean ± std. dev. of 7 runs, 100000 loops each)\n"
     ]
    }
   ],
   "source": [
    "%timeit result2 = Anp + Bnp + Cnp"
   ]
  },
  {
   "cell_type": "markdown",
   "metadata": {},
   "source": [
    "# II. Pandas"
   ]
  },
  {
   "cell_type": "code",
   "execution_count": 10,
   "metadata": {},
   "outputs": [],
   "source": [
    "import pandas as pd"
   ]
  },
  {
   "cell_type": "code",
   "execution_count": 11,
   "metadata": {},
   "outputs": [],
   "source": [
    "df = pd.read_csv('../Chapter06/geocoded.csv')"
   ]
  },
  {
   "cell_type": "code",
   "execution_count": 12,
   "metadata": {},
   "outputs": [
    {
     "data": {
      "text/html": [
       "<div>\n",
       "<style scoped>\n",
       "    .dataframe tbody tr th:only-of-type {\n",
       "        vertical-align: middle;\n",
       "    }\n",
       "\n",
       "    .dataframe tbody tr th {\n",
       "        vertical-align: top;\n",
       "    }\n",
       "\n",
       "    .dataframe thead th {\n",
       "        text-align: right;\n",
       "    }\n",
       "</style>\n",
       "<table border=\"1\" class=\"dataframe\">\n",
       "  <thead>\n",
       "    <tr style=\"text-align: right;\">\n",
       "      <th></th>\n",
       "      <th>place_id</th>\n",
       "      <th>licence</th>\n",
       "      <th>osm_type</th>\n",
       "      <th>osm_id</th>\n",
       "      <th>boundingbox</th>\n",
       "      <th>lat</th>\n",
       "      <th>lon</th>\n",
       "      <th>display_name</th>\n",
       "      <th>class</th>\n",
       "      <th>type</th>\n",
       "      <th>importance</th>\n",
       "      <th>icon</th>\n",
       "      <th>name</th>\n",
       "      <th>population</th>\n",
       "      <th>country</th>\n",
       "    </tr>\n",
       "  </thead>\n",
       "  <tbody>\n",
       "    <tr>\n",
       "      <th>0</th>\n",
       "      <td>756493</td>\n",
       "      <td>Data © OpenStreetMap contributors, ODbL 1.0. h...</td>\n",
       "      <td>node</td>\n",
       "      <td>265018692</td>\n",
       "      <td>['35.5228387', '35.8428387', '139.5994549', '1...</td>\n",
       "      <td>35.682839</td>\n",
       "      <td>139.759455</td>\n",
       "      <td>東京, 千代田区, 東京都, 関東地方, 100-0002, 日本</td>\n",
       "      <td>place</td>\n",
       "      <td>city</td>\n",
       "      <td>0.789852</td>\n",
       "      <td>https://nominatim.openstreetmap.org/images/map...</td>\n",
       "      <td>Tokio</td>\n",
       "      <td>38.05</td>\n",
       "      <td>Japan</td>\n",
       "    </tr>\n",
       "    <tr>\n",
       "      <th>1</th>\n",
       "      <td>198969764</td>\n",
       "      <td>Data © OpenStreetMap contributors, ODbL 1.0. h...</td>\n",
       "      <td>relation</td>\n",
       "      <td>6362934</td>\n",
       "      <td>['-6.3744575', '-4.9993635', '106.3146732', '1...</td>\n",
       "      <td>-6.175394</td>\n",
       "      <td>106.827183</td>\n",
       "      <td>JKT, Indonesia</td>\n",
       "      <td>place</td>\n",
       "      <td>city</td>\n",
       "      <td>0.654439</td>\n",
       "      <td>https://nominatim.openstreetmap.org/images/map...</td>\n",
       "      <td>Jakarta</td>\n",
       "      <td>32.27</td>\n",
       "      <td>Indonesia</td>\n",
       "    </tr>\n",
       "  </tbody>\n",
       "</table>\n",
       "</div>"
      ],
      "text/plain": [
       "    place_id                                            licence  osm_type  \\\n",
       "0     756493  Data © OpenStreetMap contributors, ODbL 1.0. h...      node   \n",
       "1  198969764  Data © OpenStreetMap contributors, ODbL 1.0. h...  relation   \n",
       "\n",
       "      osm_id                                        boundingbox        lat  \\\n",
       "0  265018692  ['35.5228387', '35.8428387', '139.5994549', '1...  35.682839   \n",
       "1    6362934  ['-6.3744575', '-4.9993635', '106.3146732', '1...  -6.175394   \n",
       "\n",
       "          lon                       display_name  class  type  importance  \\\n",
       "0  139.759455  東京, 千代田区, 東京都, 関東地方, 100-0002, 日本  place  city    0.789852   \n",
       "1  106.827183                     JKT, Indonesia  place  city    0.654439   \n",
       "\n",
       "                                                icon     name  population  \\\n",
       "0  https://nominatim.openstreetmap.org/images/map...    Tokio       38.05   \n",
       "1  https://nominatim.openstreetmap.org/images/map...  Jakarta       32.27   \n",
       "\n",
       "     country  \n",
       "0      Japan  \n",
       "1  Indonesia  "
      ]
     },
     "execution_count": 12,
     "metadata": {},
     "output_type": "execute_result"
    }
   ],
   "source": [
    "df.head(2)"
   ]
  },
  {
   "cell_type": "code",
   "execution_count": 14,
   "metadata": {},
   "outputs": [
    {
     "name": "stdout",
     "output_type": "stream",
     "text": [
      "There are 10 cities in the file\n"
     ]
    }
   ],
   "source": [
    "print(f'There are {len(df)} cities in the file')"
   ]
  },
  {
   "cell_type": "code",
   "execution_count": 15,
   "metadata": {},
   "outputs": [],
   "source": [
    "eastern = df[df.lon > 0 ]"
   ]
  },
  {
   "cell_type": "code",
   "execution_count": 16,
   "metadata": {},
   "outputs": [
    {
     "name": "stdout",
     "output_type": "stream",
     "text": [
      "There are 8 cities in the Eastern Hemisphere\n"
     ]
    }
   ],
   "source": [
    "print(f'There are {len(eastern)} cities in the Eastern Hemisphere')"
   ]
  },
  {
   "cell_type": "code",
   "execution_count": 18,
   "metadata": {},
   "outputs": [],
   "source": [
    "result = eastern.groupby('country').agg({'population':'mean', 'icon':'count'})\n",
    "result.rename(columns={'icon':'cities'}, inplace=True)"
   ]
  },
  {
   "cell_type": "code",
   "execution_count": 21,
   "metadata": {},
   "outputs": [
    {
     "data": {
      "text/plain": [
       "'             population  cities\\ncountry                        \\nChina           22.6825       2\\nIndia           25.2725       2\\nIndonesia       32.2700       1\\nJapan           38.0500       1\\nPhilipines      24.6500       1\\nSouth Korea     24.2100       1'"
      ]
     },
     "execution_count": 21,
     "metadata": {},
     "output_type": "execute_result"
    }
   ],
   "source": [
    "result.to_string()"
   ]
  },
  {
   "cell_type": "code",
   "execution_count": 20,
   "metadata": {},
   "outputs": [],
   "source": [
    "result.to_csv('aggregation.csv')"
   ]
  },
  {
   "cell_type": "code",
   "execution_count": null,
   "metadata": {},
   "outputs": [],
   "source": []
  }
 ],
 "metadata": {
  "kernelspec": {
   "display_name": "Python [conda env:py36]",
   "language": "python",
   "name": "conda-env-py36-py"
  },
  "language_info": {
   "codemirror_mode": {
    "name": "ipython",
    "version": 3
   },
   "file_extension": ".py",
   "mimetype": "text/x-python",
   "name": "python",
   "nbconvert_exporter": "python",
   "pygments_lexer": "ipython3",
   "version": "3.6.5"
  }
 },
 "nbformat": 4,
 "nbformat_minor": 2
}
