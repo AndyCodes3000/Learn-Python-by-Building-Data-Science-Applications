{
 "cells": [
  {
   "cell_type": "code",
   "execution_count": 9,
   "metadata": {},
   "outputs": [],
   "source": [
    "%matplotlib inline\n",
    "import pylab as plt\n",
    "plt.style.use('fivethirtyeight')\n",
    "\n",
    "import pandas as pd\n",
    "import json\n",
    "import missingno as msno"
   ]
  },
  {
   "cell_type": "code",
   "execution_count": null,
   "metadata": {},
   "outputs": [],
   "source": []
  },
  {
   "cell_type": "code",
   "execution_count": 2,
   "metadata": {},
   "outputs": [],
   "source": [
    "data = pd.read_csv('./data/Eastern Front.csv')"
   ]
  },
  {
   "cell_type": "code",
   "execution_count": 3,
   "metadata": {},
   "outputs": [
    {
     "data": {
      "text/plain": [
       "(186, 23)"
      ]
     },
     "execution_count": 3,
     "metadata": {},
     "output_type": "execute_result"
    }
   ],
   "source": [
    "data.shape"
   ]
  },
  {
   "cell_type": "code",
   "execution_count": 4,
   "metadata": {},
   "outputs": [
    {
     "data": {
      "text/plain": [
       "Belligerents.allies                   object\n",
       "Belligerents.axis                     object\n",
       "Belligerents.third party              object\n",
       "Casualties and losses.allies          object\n",
       "Casualties and losses.axis            object\n",
       "Casualties and losses.third party     object\n",
       "Casualties and losses.total           object\n",
       "Commanders and leaders.allies         object\n",
       "Commanders and leaders.axis           object\n",
       "Commanders and leaders.third party    object\n",
       "Date                                  object\n",
       "Location                              object\n",
       "Result                                object\n",
       "Strength.allies                       object\n",
       "Strength.axis                         object\n",
       "Strength.third party                  object\n",
       "Strength.total                        object\n",
       "Territorial                           object\n",
       "level                                  int64\n",
       "name                                  object\n",
       "parent                                object\n",
       "time                                  object\n",
       "url                                   object\n",
       "dtype: object"
      ]
     },
     "execution_count": 4,
     "metadata": {},
     "output_type": "execute_result"
    }
   ],
   "source": [
    "data.dtypes"
   ]
  },
  {
   "cell_type": "markdown",
   "metadata": {},
   "source": [
    "# Battles only"
   ]
  },
  {
   "cell_type": "code",
   "execution_count": 5,
   "metadata": {},
   "outputs": [
    {
     "data": {
      "text/plain": [
       "(147, 23)"
      ]
     },
     "execution_count": 5,
     "metadata": {},
     "output_type": "execute_result"
    }
   ],
   "source": [
    "battles = data[data.level == 100]\n",
    "battles.shape"
   ]
  },
  {
   "cell_type": "code",
   "execution_count": 6,
   "metadata": {},
   "outputs": [],
   "source": [
    "columns = ['Location', 'name', 'Date', 'Result', 'Belligerents.allies',\n",
    "           'Belligerents.axis', 'Casualties and losses.allies', 'Casualties and losses.axis']"
   ]
  },
  {
   "cell_type": "code",
   "execution_count": 7,
   "metadata": {},
   "outputs": [
    {
     "data": {
      "text/plain": [
       "'Wilno, Second Polish Republic54°40′N 25°19′E\\ufeff / \\ufeff54.667°N 25.317°E\\ufeff / 54.667; 25.317Coordinates: 54°40′N 25°19′E\\ufeff / \\ufeff54.667°N 25.317°E\\ufeff / 54.667; 25.317'"
      ]
     },
     "execution_count": 7,
     "metadata": {},
     "output_type": "execute_result"
    }
   ],
   "source": [
    "battles['Location'].iloc[15]"
   ]
  },
  {
   "cell_type": "code",
   "execution_count": 8,
   "metadata": {},
   "outputs": [
    {
     "data": {
      "text/html": [
       "<div>\n",
       "<style scoped>\n",
       "    .dataframe tbody tr th:only-of-type {\n",
       "        vertical-align: middle;\n",
       "    }\n",
       "\n",
       "    .dataframe tbody tr th {\n",
       "        vertical-align: top;\n",
       "    }\n",
       "\n",
       "    .dataframe thead th {\n",
       "        text-align: right;\n",
       "    }\n",
       "</style>\n",
       "<table border=\"1\" class=\"dataframe\">\n",
       "  <thead>\n",
       "    <tr style=\"text-align: right;\">\n",
       "      <th></th>\n",
       "      <th>Location</th>\n",
       "      <th>name</th>\n",
       "      <th>Date</th>\n",
       "      <th>Result</th>\n",
       "      <th>Belligerents.allies</th>\n",
       "      <th>Belligerents.axis</th>\n",
       "      <th>Casualties and losses.allies</th>\n",
       "      <th>Casualties and losses.axis</th>\n",
       "    </tr>\n",
       "  </thead>\n",
       "  <tbody>\n",
       "    <tr>\n",
       "      <th>0</th>\n",
       "      <td>Westerplatte, harbor of Free City of Danzig54°...</td>\n",
       "      <td>Battle of Westerplatte</td>\n",
       "      <td>1–7 September 1939</td>\n",
       "      <td>German victory</td>\n",
       "      <td>Poland</td>\n",
       "      <td>Germany   Danzig</td>\n",
       "      <td>15-21 killed and missing 40-53 wounded Remaind...</td>\n",
       "      <td>300-400 casualties</td>\n",
       "    </tr>\n",
       "    <tr>\n",
       "      <th>1</th>\n",
       "      <td>Mokra, Kielce Voivodeship, Poland</td>\n",
       "      <td>Battle of Mokra</td>\n",
       "      <td>September 1, 1939</td>\n",
       "      <td>Polish victory</td>\n",
       "      <td>Germany</td>\n",
       "      <td>Poland</td>\n",
       "      <td>800 killed, missing, captured, or wounded 50 t...</td>\n",
       "      <td>500 killed, missing or wounded 300 horses seve...</td>\n",
       "    </tr>\n",
       "    <tr>\n",
       "      <th>2</th>\n",
       "      <td>Near Mława, Warsaw Voivodeship, Poland</td>\n",
       "      <td>Battle of Mlawa</td>\n",
       "      <td>1–3 September 1939</td>\n",
       "      <td>German victory</td>\n",
       "      <td>Germany</td>\n",
       "      <td>Poland</td>\n",
       "      <td>1,800 killed 3,000 wounded 1,000 missing 72 ta...</td>\n",
       "      <td>1,200 killed 1,500 wounded</td>\n",
       "    </tr>\n",
       "    <tr>\n",
       "      <th>3</th>\n",
       "      <td>Near Tuchola Forest, Pomeranian Voivodeship, P...</td>\n",
       "      <td>Battle of Tuchola Forest</td>\n",
       "      <td>1–5 September 1939</td>\n",
       "      <td>German victory</td>\n",
       "      <td>Germany</td>\n",
       "      <td>Poland</td>\n",
       "      <td>506 killed \\n \\n743 wounded</td>\n",
       "      <td>1600 killed\\n 750 wounded\\n \\nUnknown number c...</td>\n",
       "    </tr>\n",
       "    <tr>\n",
       "      <th>4</th>\n",
       "      <td>Jordanów, Kraków Voivodeship, Poland</td>\n",
       "      <td>Battle of Jordanów</td>\n",
       "      <td>1–3 September 1939</td>\n",
       "      <td>Pyrrhic German victory</td>\n",
       "      <td>Poland</td>\n",
       "      <td>Germany</td>\n",
       "      <td>3+ tanks</td>\n",
       "      <td>70+ tanks and AFVs</td>\n",
       "    </tr>\n",
       "  </tbody>\n",
       "</table>\n",
       "</div>"
      ],
      "text/plain": [
       "                                            Location  \\\n",
       "0  Westerplatte, harbor of Free City of Danzig54°...   \n",
       "1                  Mokra, Kielce Voivodeship, Poland   \n",
       "2             Near Mława, Warsaw Voivodeship, Poland   \n",
       "3  Near Tuchola Forest, Pomeranian Voivodeship, P...   \n",
       "4               Jordanów, Kraków Voivodeship, Poland   \n",
       "\n",
       "                       name                Date                  Result  \\\n",
       "0    Battle of Westerplatte  1–7 September 1939          German victory   \n",
       "1           Battle of Mokra   September 1, 1939          Polish victory   \n",
       "2           Battle of Mlawa  1–3 September 1939          German victory   \n",
       "3  Battle of Tuchola Forest  1–5 September 1939          German victory   \n",
       "4        Battle of Jordanów  1–3 September 1939  Pyrrhic German victory   \n",
       "\n",
       "  Belligerents.allies Belligerents.axis  \\\n",
       "0              Poland  Germany   Danzig   \n",
       "1             Germany            Poland   \n",
       "2             Germany            Poland   \n",
       "3             Germany            Poland   \n",
       "4              Poland           Germany   \n",
       "\n",
       "                        Casualties and losses.allies  \\\n",
       "0  15-21 killed and missing 40-53 wounded Remaind...   \n",
       "1  800 killed, missing, captured, or wounded 50 t...   \n",
       "2  1,800 killed 3,000 wounded 1,000 missing 72 ta...   \n",
       "3                        506 killed \\n \\n743 wounded   \n",
       "4                                           3+ tanks   \n",
       "\n",
       "                          Casualties and losses.axis  \n",
       "0                                 300-400 casualties  \n",
       "1  500 killed, missing or wounded 300 horses seve...  \n",
       "2                         1,200 killed 1,500 wounded  \n",
       "3  1600 killed\\n 750 wounded\\n \\nUnknown number c...  \n",
       "4                                 70+ tanks and AFVs  "
      ]
     },
     "execution_count": 8,
     "metadata": {},
     "output_type": "execute_result"
    }
   ],
   "source": [
    "battles[columns].head()"
   ]
  },
  {
   "cell_type": "markdown",
   "metadata": {},
   "source": [
    "# Empty Cells"
   ]
  },
  {
   "cell_type": "code",
   "execution_count": 11,
   "metadata": {},
   "outputs": [
    {
     "data": {
      "text/plain": [
       "<matplotlib.axes._subplots.AxesSubplot at 0x1a1551ab00>"
      ]
     },
     "execution_count": 11,
     "metadata": {},
     "output_type": "execute_result"
    },
    {
     "data": {
      "image/png": "[encoded data removed]",
      "text/plain": [
       "<Figure size 1800x720 with 1 Axes>"
      ]
     },
     "metadata": {},
     "output_type": "display_data"
    }
   ],
   "source": [
    "msno.matrix(battles, labels=True, sparkline=False)"
   ]
  },
  {
   "cell_type": "code",
   "execution_count": 18,
   "metadata": {},
   "outputs": [],
   "source": [
    "mask = battles[['Date', 'Location']].isnull().all(1)"
   ]
  },
  {
   "cell_type": "code",
   "execution_count": 22,
   "metadata": {},
   "outputs": [
    {
     "data": {
      "text/html": [
       "<div>\n",
       "<style scoped>\n",
       "    .dataframe tbody tr th:only-of-type {\n",
       "        vertical-align: middle;\n",
       "    }\n",
       "\n",
       "    .dataframe tbody tr th {\n",
       "        vertical-align: top;\n",
       "    }\n",
       "\n",
       "    .dataframe thead th {\n",
       "        text-align: right;\n",
       "    }\n",
       "</style>\n",
       "<table border=\"1\" class=\"dataframe\">\n",
       "  <thead>\n",
       "    <tr style=\"text-align: right;\">\n",
       "      <th></th>\n",
       "      <th>name</th>\n",
       "      <th>url</th>\n",
       "    </tr>\n",
       "  </thead>\n",
       "  <tbody>\n",
       "    <tr>\n",
       "      <th>39</th>\n",
       "      <td>Pripyat swamps (punitive operation)</td>\n",
       "      <td>https://en.wikipedia.org/wiki/Pripyat_swamps_(...</td>\n",
       "    </tr>\n",
       "    <tr>\n",
       "      <th>42</th>\n",
       "      <td>Bombing of Tallinn in World War II</td>\n",
       "      <td>https://en.wikipedia.org/wiki/Bombing_of_Talli...</td>\n",
       "    </tr>\n",
       "    <tr>\n",
       "      <th>46</th>\n",
       "      <td>Operation Wotan</td>\n",
       "      <td>https://en.wikipedia.org/w/index.php?title=Ope...</td>\n",
       "    </tr>\n",
       "    <tr>\n",
       "      <th>47</th>\n",
       "      <td>Nevsky Pyatachok</td>\n",
       "      <td>https://en.wikipedia.org/wiki/Nevsky_Pyatachok</td>\n",
       "    </tr>\n",
       "    <tr>\n",
       "      <th>48</th>\n",
       "      <td>Operation Nordlicht (1942)</td>\n",
       "      <td>https://en.wikipedia.org/wiki/Operation_Nordli...</td>\n",
       "    </tr>\n",
       "    <tr>\n",
       "      <th>61</th>\n",
       "      <td>Operation Büffel</td>\n",
       "      <td>https://en.wikipedia.org/wiki/Operation_B%C3%B...</td>\n",
       "    </tr>\n",
       "    <tr>\n",
       "      <th>67</th>\n",
       "      <td>Operation Kremlin</td>\n",
       "      <td>https://en.wikipedia.org/wiki/Operation_Kremlin</td>\n",
       "    </tr>\n",
       "    <tr>\n",
       "      <th>68</th>\n",
       "      <td>Operation Braunschweig</td>\n",
       "      <td>https://en.wikipedia.org/wiki/Operation_Brauns...</td>\n",
       "    </tr>\n",
       "    <tr>\n",
       "      <th>70</th>\n",
       "      <td>Malaya Zemlya</td>\n",
       "      <td>https://en.wikipedia.org/wiki/Malaya_Zemlya</td>\n",
       "    </tr>\n",
       "    <tr>\n",
       "      <th>96</th>\n",
       "      <td>Concert (operation)</td>\n",
       "      <td>https://en.wikipedia.org/wiki/Concert_(operation)</td>\n",
       "    </tr>\n",
       "    <tr>\n",
       "      <th>97</th>\n",
       "      <td>Zhitomir–Berdichev Offensive</td>\n",
       "      <td>https://en.wikipedia.org/wiki/Zhitomir%E2%80%9...</td>\n",
       "    </tr>\n",
       "    <tr>\n",
       "      <th>152</th>\n",
       "      <td>Operation Nordlicht (1944-1945)</td>\n",
       "      <td>https://en.wikipedia.org/wiki/Operation_Nordli...</td>\n",
       "    </tr>\n",
       "    <tr>\n",
       "      <th>157</th>\n",
       "      <td>Operation Konrad</td>\n",
       "      <td>https://en.wikipedia.org/wiki/Operation_Konrad</td>\n",
       "    </tr>\n",
       "    <tr>\n",
       "      <th>175</th>\n",
       "      <td>Operation Margarethe</td>\n",
       "      <td>https://en.wikipedia.org/wiki/Operation_Margar...</td>\n",
       "    </tr>\n",
       "  </tbody>\n",
       "</table>\n",
       "</div>"
      ],
      "text/plain": [
       "                                    name  \\\n",
       "39   Pripyat swamps (punitive operation)   \n",
       "42    Bombing of Tallinn in World War II   \n",
       "46                       Operation Wotan   \n",
       "47                      Nevsky Pyatachok   \n",
       "48            Operation Nordlicht (1942)   \n",
       "61                      Operation Büffel   \n",
       "67                     Operation Kremlin   \n",
       "68                Operation Braunschweig   \n",
       "70                         Malaya Zemlya   \n",
       "96                   Concert (operation)   \n",
       "97          Zhitomir–Berdichev Offensive   \n",
       "152      Operation Nordlicht (1944-1945)   \n",
       "157                     Operation Konrad   \n",
       "175                 Operation Margarethe   \n",
       "\n",
       "                                                   url  \n",
       "39   https://en.wikipedia.org/wiki/Pripyat_swamps_(...  \n",
       "42   https://en.wikipedia.org/wiki/Bombing_of_Talli...  \n",
       "46   https://en.wikipedia.org/w/index.php?title=Ope...  \n",
       "47      https://en.wikipedia.org/wiki/Nevsky_Pyatachok  \n",
       "48   https://en.wikipedia.org/wiki/Operation_Nordli...  \n",
       "61   https://en.wikipedia.org/wiki/Operation_B%C3%B...  \n",
       "67     https://en.wikipedia.org/wiki/Operation_Kremlin  \n",
       "68   https://en.wikipedia.org/wiki/Operation_Brauns...  \n",
       "70         https://en.wikipedia.org/wiki/Malaya_Zemlya  \n",
       "96   https://en.wikipedia.org/wiki/Concert_(operation)  \n",
       "97   https://en.wikipedia.org/wiki/Zhitomir%E2%80%9...  \n",
       "152  https://en.wikipedia.org/wiki/Operation_Nordli...  \n",
       "157     https://en.wikipedia.org/wiki/Operation_Konrad  \n",
       "175  https://en.wikipedia.org/wiki/Operation_Margar...  "
      ]
     },
     "execution_count": 22,
     "metadata": {},
     "output_type": "execute_result"
    }
   ],
   "source": [
    "battles.loc[mask, ['name', 'url']]"
   ]
  },
  {
   "cell_type": "code",
   "execution_count": 26,
   "metadata": {},
   "outputs": [
    {
     "data": {
      "text/plain": [
       "'https://en.wikipedia.org/wiki/Nevsky_Pyatachok'"
      ]
     },
     "execution_count": 26,
     "metadata": {},
     "output_type": "execute_result"
    }
   ],
   "source": [
    "battles.loc[mask, ['name', 'url']].iloc[3, 1]"
   ]
  },
  {
   "cell_type": "code",
   "execution_count": 27,
   "metadata": {},
   "outputs": [],
   "source": [
    "battles=battles[~mask]"
   ]
  },
  {
   "cell_type": "markdown",
   "metadata": {},
   "source": [
    "# Location"
   ]
  },
  {
   "cell_type": "code",
   "execution_count": 28,
   "metadata": {},
   "outputs": [],
   "source": [
    "pattern = r'/ ([\\d|\\.]+); ([\\d|\\.]+)'"
   ]
  },
  {
   "cell_type": "code",
   "execution_count": 29,
   "metadata": {},
   "outputs": [],
   "source": [
    "# battles.iloc[9]['Location']"
   ]
  },
  {
   "cell_type": "code",
   "execution_count": 30,
   "metadata": {},
   "outputs": [],
   "source": [
    "battles[['Lattitude', 'Longitude']] = battles.Location.str.extract(pattern)"
   ]
  },
  {
   "cell_type": "code",
   "execution_count": 31,
   "metadata": {},
   "outputs": [],
   "source": [
    "for col in  'Lattitude', 'Longitude':\n",
    "    battles[col] =  battles[col].astype(float)"
   ]
  },
  {
   "cell_type": "code",
   "execution_count": 32,
   "metadata": {},
   "outputs": [
    {
     "data": {
      "text/plain": [
       "'75.9%'"
      ]
     },
     "execution_count": 32,
     "metadata": {},
     "output_type": "execute_result"
    }
   ],
   "source": [
    "f\"{(battles['Lattitude'].isnull().sum() / len(battles)):.1%}\""
   ]
  },
  {
   "cell_type": "markdown",
   "metadata": {},
   "source": [
    "# Geocode"
   ]
  },
  {
   "cell_type": "markdown",
   "metadata": {},
   "source": [
    "So, we actually don't have coordinates for 78% of our battles, which is too hight. As an alternative, let's use the geocoding function we wrote in chapter 6! Of course, some addesses are obsolete, but most will, probably, get us to the coordinates"
   ]
  },
  {
   "cell_type": "code",
   "execution_count": 33,
   "metadata": {},
   "outputs": [],
   "source": [
    "from geocode import nominatim_geocode # copied the file from folder \"Chapter06\""
   ]
  },
  {
   "cell_type": "code",
   "execution_count": 34,
   "metadata": {},
   "outputs": [
    {
     "name": "stderr",
     "output_type": "stream",
     "text": [
      "0it [00:00, ?it/s]\n"
     ]
    }
   ],
   "source": [
    "from tqdm import tqdm, tqdm_notebook\n",
    "tqdm().pandas()"
   ]
  },
  {
   "cell_type": "code",
   "execution_count": 35,
   "metadata": {},
   "outputs": [],
   "source": [
    "geo_mask = battles['Lattitude'].isnull()"
   ]
  },
  {
   "cell_type": "code",
   "execution_count": 36,
   "metadata": {},
   "outputs": [
    {
     "data": {
      "text/plain": [
       "19                        Wytyczno, near Włodawa, Poland\n",
       "75         Rzhev and Velikie Luki salients, Russian SFSR\n",
       "2                 Near Mława, Warsaw Voivodeship, Poland\n",
       "128                                               Poland\n",
       "7                           Piotrków Trybunalski, Poland\n",
       "151                                 Belgrade, Yugoslavia\n",
       "113                        Kerch Peninsula, Soviet Union\n",
       "184                               Prague, Czechoslovakia\n",
       "76                             Tatsinskaya, Soviet Union\n",
       "132                       Western Ukraine/Eastern Poland\n",
       "64                   Demyansk, Russian SSR, Soviet Union\n",
       "27     Brest, Belarusian SSR, Soviet Union (Nominally...\n",
       "25                                      Petsamo, Finland\n",
       "183         Bautzen, Germany and surrounding rural areas\n",
       "120                                      Belorussian SSR\n",
       "Name: Location, dtype: object"
      ]
     },
     "execution_count": 36,
     "metadata": {},
     "output_type": "execute_result"
    }
   ],
   "source": [
    "battles.loc[geo_mask, 'Location'].sample(15, random_state=2019)"
   ]
  },
  {
   "cell_type": "code",
   "execution_count": 37,
   "metadata": {},
   "outputs": [],
   "source": [
    "location = battles['Location'].str.lower().str.replace('near ', '')"
   ]
  },
  {
   "cell_type": "code",
   "execution_count": 38,
   "metadata": {},
   "outputs": [],
   "source": [
    "replacements = {\n",
    "    'Ukrainian SSR, Soviet Union': 'Ukraine',\n",
    "    'Russian SFSR, Soviet Union': 'Russia',\n",
    "    'Russian SFSR': 'Russia',\n",
    "    'Belorussian SSR': 'Belorus',\n",
    "    'Soviet Union': '',\n",
    "    'USSR': '',\n",
    "    ', Poland (now Ukraine)': 'Ukraine',\n",
    "    'east prussia (now kaliningrad oblast)': 'Kaliningrad Oblast, Russia',\n",
    "    ', czechoslovakia': ', czech republic',\n",
    "    'königsberg, germany (now: kaliningrad, russia)': 'Kaliningrad Oblast, Russia',\n",
    "    'lwów, lwów voivodeship, poland': 'Lvov, Ukraine',\n",
    "    'leningrad region, ; narva, estonia': 'Narva, Estonia',\n",
    "    'Kingdom of Hungary': 'Hungary',\n",
    "    'odessa region, ukraine': 'Odessa, Ukraine'\n",
    "}"
   ]
  },
  {
   "cell_type": "code",
   "execution_count": 39,
   "metadata": {},
   "outputs": [],
   "source": [
    "for k, v in replacements.items():\n",
    "    location = location.str.replace(k.lower(), v.lower(), regex=False)"
   ]
  },
  {
   "cell_type": "code",
   "execution_count": 40,
   "metadata": {},
   "outputs": [],
   "source": [
    "def vectorized_geocode(x):\n",
    "    result = nominatim_geocode(x)\n",
    "    if len(result) == 0:\n",
    "        return dict()\n",
    "    return {k:result[0][k] for k in ('lat', 'lon', 'importance', 'display_name')}"
   ]
  },
  {
   "cell_type": "code",
   "execution_count": 41,
   "metadata": {},
   "outputs": [],
   "source": [
    "# nominatim_geocode('realm commissariat ostland\\ngeneral district of latvia\\nkreisgebiete liepaja\\nkreise aizpute\\nkreise kuldiga\\nkreise liepaja\\nkreise liepaja (city)\\nkreise talsi\\nkreise ventspils\\nkreisgebiete jelgava\\nkreise jelgava\\nkreise tukums\\ngeneral district of lithuania\\nkreisgebiete siauliai\\nkreise kretinga\\nkreise mazeikiai'.replace('\\n', ' '))"
   ]
  },
  {
   "cell_type": "code",
   "execution_count": 42,
   "metadata": {},
   "outputs": [],
   "source": [
    "location[location.fillna('').str.contains('kreisgebiete')] = 'Courland Peninsula'"
   ]
  },
  {
   "cell_type": "code",
   "execution_count": 43,
   "metadata": {},
   "outputs": [
    {
     "name": "stderr",
     "output_type": "stream",
     "text": [
      "100%|██████████| 101/101 [02:23<00:00,  1.43s/it]\n"
     ]
    }
   ],
   "source": [
    "response = location[geo_mask].str.replace('\\n', ' ').progress_apply(vectorized_geocode)"
   ]
  },
  {
   "cell_type": "code",
   "execution_count": 44,
   "metadata": {},
   "outputs": [
    {
     "data": {
      "text/plain": [
       "{'lat': '50.85983',\n",
       " 'lon': '20.576839',\n",
       " 'importance': 0.5,\n",
       " 'display_name': 'Mokra, Biesaki, Kielce, Świętokrzyskie Voivodeship, 25-707, Poland'}"
      ]
     },
     "execution_count": 44,
     "metadata": {},
     "output_type": "execute_result"
    }
   ],
   "source": [
    "response.iloc[0]"
   ]
  },
  {
   "cell_type": "code",
   "execution_count": 45,
   "metadata": {},
   "outputs": [
    {
     "data": {
      "text/plain": [
       "'Mokra, Kielce Voivodeship, Poland'"
      ]
     },
     "execution_count": 45,
     "metadata": {},
     "output_type": "execute_result"
    }
   ],
   "source": [
    "battles.loc[geo_mask, 'Location'].iloc[0]"
   ]
  },
  {
   "cell_type": "code",
   "execution_count": 46,
   "metadata": {},
   "outputs": [],
   "source": [
    "geo_df = pd.DataFrame(response.tolist(), index = response.index)\n",
    "geo_df.rename(columns={'lat': 'Lattitude', 'lon': ' Longitude'}, inplace=True)"
   ]
  },
  {
   "cell_type": "code",
   "execution_count": 47,
   "metadata": {},
   "outputs": [],
   "source": [
    "rmask = geo_df['importance'].isnull()"
   ]
  },
  {
   "cell_type": "code",
   "execution_count": 48,
   "metadata": {},
   "outputs": [
    {
     "data": {
      "text/plain": [
       "'28.6%'"
      ]
     },
     "execution_count": 48,
     "metadata": {},
     "output_type": "execute_result"
    }
   ],
   "source": [
    "f'{rmask.sum() / len(battles):.1%}'"
   ]
  },
  {
   "cell_type": "code",
   "execution_count": 49,
   "metadata": {},
   "outputs": [
    {
     "data": {
      "text/plain": [
       "2                      mława, warsaw voivodeship, poland\n",
       "4                   jordanów, kraków voivodeship, poland\n",
       "6                                   wizna, łomża, poland\n",
       "8          hel peninsula, pomeranian voivodeship, poland\n",
       "18                                          szackukraine\n",
       "19                             wytyczno, włodawa, poland\n",
       "27     brest, belarusian ssr,  (nominally part of pol...\n",
       "28              byelorussian soviet socialist republic, \n",
       "30                                    baltic countries, \n",
       "33                   finland, karelia, and murmansk area\n",
       "35               petsamo, litsa river, rybachy peninsula\n",
       "36              salla, kestenga, alakurtti, verman river\n",
       "38                                 uman, western ukraine\n",
       "49     southern shore of lake ladoga, present-day sin...\n",
       "58                                rostov-on-don region, \n",
       "64                               demyansk, russian ssr, \n",
       "65        izium/barvenkovo area, kharkov oblast, ukraine\n",
       "75               rzhev and velikie luki salients, russia\n",
       "81      krasny bor, present-day saint petersburg, russia\n",
       "83                                  ostrogozhsk, rossosh\n",
       "84                                voronezh, kastornoye, \n",
       "90                            lenino, byelorussian ssr, \n",
       "99     175 km sector of the front between uman and ki...\n",
       "100                     kamianets-podilskyi / tarnopol, \n",
       "102    southern leningrad region, novgorod, pskov[1] ...\n",
       "113                                    kerch peninsula, \n",
       "117                 karelo-finnish ssr, leningrad oblast\n",
       "126                   eastern poland and western belarus\n",
       "132                       western ukraine/eastern poland\n",
       "144       dukla pass, present-day slovakia-poland border\n",
       "148    west estonian archipelago (moonsund archipelag...\n",
       "155                                   Courland Peninsula\n",
       "160                       poznań and nearby area, poland\n",
       "168                               upper silesia, germany\n",
       "171    kolberg, pomerania, germany(now kołobrzeg, pol...\n",
       "173           drava river valley and transdanubian hills\n",
       "177                                 vienna, nazi germany\n",
       "183         bautzen, germany and surrounding rural areas\n",
       "Name: Location, dtype: object"
      ]
     },
     "execution_count": 49,
     "metadata": {},
     "output_type": "execute_result"
    }
   ],
   "source": [
    "location[geo_mask].loc[rmask]"
   ]
  },
  {
   "cell_type": "markdown",
   "metadata": {},
   "source": [
    "## Time"
   ]
  },
  {
   "cell_type": "code",
   "execution_count": 50,
   "metadata": {},
   "outputs": [],
   "source": [
    "# pd.to_datetime('September 1939')"
   ]
  },
  {
   "cell_type": "code",
   "execution_count": 51,
   "metadata": {},
   "outputs": [
    {
     "data": {
      "text/plain": [
       "'3 November 1943 – 13 November 1943(Offensive operation) 13 November 1943 – 22 December 1943(Defensive operation)'"
      ]
     },
     "execution_count": 51,
     "metadata": {},
     "output_type": "execute_result"
    }
   ],
   "source": [
    "battles.loc[94, 'Date']"
   ]
  },
  {
   "cell_type": "code",
   "execution_count": 52,
   "metadata": {},
   "outputs": [],
   "source": [
    "d = ('January', 'February', 'March', 'April', 'May', \n",
    "     'June', \"July\",' August', 'September', 'October', 'November', 'December')\n",
    "\n",
    "month_pattern = r'(' + \"|\".join(d) + ')'"
   ]
  },
  {
   "cell_type": "code",
   "execution_count": 53,
   "metadata": {},
   "outputs": [],
   "source": [
    "year_pattern = r'(19\\d\\d)'"
   ]
  },
  {
   "cell_type": "code",
   "execution_count": 54,
   "metadata": {},
   "outputs": [],
   "source": [
    "year_extracted = battles['Date'].str.extractall(year_pattern).unstack()"
   ]
  },
  {
   "cell_type": "code",
   "execution_count": 55,
   "metadata": {},
   "outputs": [
    {
     "data": {
      "text/html": [
       "<div>\n",
       "<style scoped>\n",
       "    .dataframe tbody tr th:only-of-type {\n",
       "        vertical-align: middle;\n",
       "    }\n",
       "\n",
       "    .dataframe tbody tr th {\n",
       "        vertical-align: top;\n",
       "    }\n",
       "\n",
       "    .dataframe thead tr th {\n",
       "        text-align: left;\n",
       "    }\n",
       "</style>\n",
       "<table border=\"1\" class=\"dataframe\">\n",
       "  <thead>\n",
       "    <tr>\n",
       "      <th></th>\n",
       "      <th colspan=\"4\" halign=\"left\">0</th>\n",
       "    </tr>\n",
       "    <tr>\n",
       "      <th>match</th>\n",
       "      <th>0</th>\n",
       "      <th>1</th>\n",
       "      <th>2</th>\n",
       "      <th>3</th>\n",
       "    </tr>\n",
       "  </thead>\n",
       "  <tbody>\n",
       "    <tr>\n",
       "      <th>94</th>\n",
       "      <td>1943</td>\n",
       "      <td>1943</td>\n",
       "      <td>1943</td>\n",
       "      <td>1943</td>\n",
       "    </tr>\n",
       "  </tbody>\n",
       "</table>\n",
       "</div>"
      ],
      "text/plain": [
       "          0                  \n",
       "match     0     1     2     3\n",
       "94     1943  1943  1943  1943"
      ]
     },
     "execution_count": 55,
     "metadata": {},
     "output_type": "execute_result"
    }
   ],
   "source": [
    "# len(d.iloc[:, -1].notnull())\n",
    "year_extracted[year_extracted.iloc[:, -1].notnull()]"
   ]
  },
  {
   "cell_type": "code",
   "execution_count": 56,
   "metadata": {},
   "outputs": [],
   "source": [
    "# d[d.iloc[:, -1].notnull()]"
   ]
  },
  {
   "cell_type": "code",
   "execution_count": 57,
   "metadata": {},
   "outputs": [
    {
     "data": {
      "text/plain": [
       "'3 November 1943 – 13 November 1943(Offensive operation) 13 November 1943 – 22 December 1943(Defensive operation)'"
      ]
     },
     "execution_count": 57,
     "metadata": {},
     "output_type": "execute_result"
    }
   ],
   "source": [
    "battles.loc[94, 'Date']"
   ]
  },
  {
   "cell_type": "code",
   "execution_count": 58,
   "metadata": {},
   "outputs": [],
   "source": [
    "year_extracted = year_extracted.iloc[:, :2]"
   ]
  },
  {
   "cell_type": "code",
   "execution_count": 59,
   "metadata": {},
   "outputs": [
    {
     "data": {
      "text/html": [
       "<div>\n",
       "<style scoped>\n",
       "    .dataframe tbody tr th:only-of-type {\n",
       "        vertical-align: middle;\n",
       "    }\n",
       "\n",
       "    .dataframe tbody tr th {\n",
       "        vertical-align: top;\n",
       "    }\n",
       "\n",
       "    .dataframe thead tr th {\n",
       "        text-align: left;\n",
       "    }\n",
       "</style>\n",
       "<table border=\"1\" class=\"dataframe\">\n",
       "  <thead>\n",
       "    <tr>\n",
       "      <th></th>\n",
       "      <th colspan=\"2\" halign=\"left\">0</th>\n",
       "    </tr>\n",
       "    <tr>\n",
       "      <th>match</th>\n",
       "      <th>0</th>\n",
       "      <th>1</th>\n",
       "    </tr>\n",
       "  </thead>\n",
       "  <tbody>\n",
       "    <tr>\n",
       "      <th>0</th>\n",
       "      <td>1939</td>\n",
       "      <td>NaN</td>\n",
       "    </tr>\n",
       "    <tr>\n",
       "      <th>1</th>\n",
       "      <td>1939</td>\n",
       "      <td>NaN</td>\n",
       "    </tr>\n",
       "    <tr>\n",
       "      <th>2</th>\n",
       "      <td>1939</td>\n",
       "      <td>NaN</td>\n",
       "    </tr>\n",
       "    <tr>\n",
       "      <th>3</th>\n",
       "      <td>1939</td>\n",
       "      <td>NaN</td>\n",
       "    </tr>\n",
       "    <tr>\n",
       "      <th>4</th>\n",
       "      <td>1939</td>\n",
       "      <td>NaN</td>\n",
       "    </tr>\n",
       "    <tr>\n",
       "      <th>5</th>\n",
       "      <td>1939</td>\n",
       "      <td>NaN</td>\n",
       "    </tr>\n",
       "    <tr>\n",
       "      <th>6</th>\n",
       "      <td>1939</td>\n",
       "      <td>NaN</td>\n",
       "    </tr>\n",
       "    <tr>\n",
       "      <th>7</th>\n",
       "      <td>1939</td>\n",
       "      <td>NaN</td>\n",
       "    </tr>\n",
       "    <tr>\n",
       "      <th>8</th>\n",
       "      <td>1939</td>\n",
       "      <td>NaN</td>\n",
       "    </tr>\n",
       "    <tr>\n",
       "      <th>9</th>\n",
       "      <td>1939</td>\n",
       "      <td>NaN</td>\n",
       "    </tr>\n",
       "  </tbody>\n",
       "</table>\n",
       "</div>"
      ],
      "text/plain": [
       "          0     \n",
       "match     0    1\n",
       "0      1939  NaN\n",
       "1      1939  NaN\n",
       "2      1939  NaN\n",
       "3      1939  NaN\n",
       "4      1939  NaN\n",
       "5      1939  NaN\n",
       "6      1939  NaN\n",
       "7      1939  NaN\n",
       "8      1939  NaN\n",
       "9      1939  NaN"
      ]
     },
     "execution_count": 59,
     "metadata": {},
     "output_type": "execute_result"
    }
   ],
   "source": [
    "year_extracted.head(10)"
   ]
  },
  {
   "cell_type": "code",
   "execution_count": 60,
   "metadata": {},
   "outputs": [],
   "source": [
    "year_extracted.iloc[:, 1] = year_extracted.iloc[:, 1].fillna(year_extracted.iloc[:, 0])"
   ]
  },
  {
   "cell_type": "code",
   "execution_count": 61,
   "metadata": {},
   "outputs": [],
   "source": [
    "month_extracted = battles['Date'].str.extractall(month_pattern).unstack()"
   ]
  },
  {
   "cell_type": "code",
   "execution_count": 62,
   "metadata": {},
   "outputs": [],
   "source": [
    "for i in range(2, month_extracted.shape[1]+1):\n",
    "    month_extracted.iloc[:, -1].fillna(month_extracted.iloc[:, -i], inplace=True)"
   ]
  },
  {
   "cell_type": "code",
   "execution_count": 63,
   "metadata": {},
   "outputs": [],
   "source": [
    "month_extracted = month_extracted.iloc[:, [0, -1]]"
   ]
  },
  {
   "cell_type": "code",
   "execution_count": 64,
   "metadata": {},
   "outputs": [
    {
     "name": "stderr",
     "output_type": "stream",
     "text": [
      "/Users/philippk/anaconda3/envs/py36/lib/python3.6/site-packages/pandas/core/indexing.py:1017: FutureWarning: \n",
      "Passing list-likes to .loc or [] with any missing label will raise\n",
      "KeyError in the future, you can use .reindex() as an alternative.\n",
      "\n",
      "See the documentation here:\n",
      "https://pandas.pydata.org/pandas-docs/stable/indexing.html#deprecate-loc-reindex-listlike\n",
      "  return getattr(section, self.name)[new_key]\n"
     ]
    }
   ],
   "source": [
    "year_extracted.columns = month_extracted.columns = ['start', 'end']\n",
    "I = battles.index\n",
    "cols = 'start', 'end'\n",
    "\n",
    "for col in cols:\n",
    "    battles[col] = pd.to_datetime(month_extracted.loc[I, col] + ' ' + year_extracted.loc[I, col])"
   ]
  },
  {
   "cell_type": "markdown",
   "metadata": {},
   "source": [
    "# Sides Swap"
   ]
  },
  {
   "cell_type": "code",
   "execution_count": 65,
   "metadata": {},
   "outputs": [],
   "source": [
    "words = ['Germany', 'Italy', 'Estonian conscripts']"
   ]
  },
  {
   "cell_type": "code",
   "execution_count": 66,
   "metadata": {},
   "outputs": [],
   "source": [
    "for word in words:\n",
    "    mask = battles['Belligerents.allies'].fillna('').str.contains(word)\n",
    "    axis_party = battles.loc[mask, ['Belligerents.allies', 'Casualties and losses.allies']].copy()\n",
    "    battles.loc[mask, ['Belligerents.allies', 'Casualties and losses.allies']] = battles.loc[mask, ['Belligerents.axis', 'Casualties and losses.axis']].values\n",
    "    battles.loc[mask, ['Belligerents.axis', 'Casualties and losses.axis']] = axis_party.values"
   ]
  },
  {
   "cell_type": "markdown",
   "metadata": {},
   "source": [
    "## Casualties"
   ]
  },
  {
   "cell_type": "code",
   "execution_count": 67,
   "metadata": {},
   "outputs": [
    {
     "data": {
      "text/plain": [
       "'15-21 killed and missing 40-53 wounded Remainder captured'"
      ]
     },
     "execution_count": 67,
     "metadata": {},
     "output_type": "execute_result"
    }
   ],
   "source": [
    "battles['Casualties and losses.allies'].iloc[0]"
   ]
  },
  {
   "cell_type": "code",
   "execution_count": 68,
   "metadata": {},
   "outputs": [],
   "source": [
    "digit_pattern = '([\\d|\\,|\\.]+)(?:\\[\\d+\\])?\\+?\\s*(?:{words})'\n",
    "\n",
    "keywords = { 'killed': ['men', 'dead', 'killed', 'casualties', 'kia'], \n",
    "             'wounded': ['wounded', 'sick', 'injured'], \n",
    "             'captured': ['captured', 'prisoners'],\n",
    "             'tanks': ['tank', 'panzer'],\n",
    "             'airplane': ['airplane', 'aircraft'],\n",
    "             'guns': ['artillery', 'gun', 'self propelled guns', 'field-guns', 'anti-tank guns'],\n",
    "             'ships': ['warships', 'boats', 'destroyer', 'minelayer'],\n",
    "             'submarines': ['submarines']\n",
    "}\n",
    "\n",
    "only_digits = '([\\d|\\,|\\.]+)\\Z'"
   ]
  },
  {
   "cell_type": "code",
   "execution_count": 69,
   "metadata": {},
   "outputs": [],
   "source": [
    "# column[column.fillna('').str.match(only_digits)].str.extract(only_digits)"
   ]
  },
  {
   "cell_type": "code",
   "execution_count": 70,
   "metadata": {},
   "outputs": [],
   "source": [
    "def _shy_convert_numeric(v):\n",
    "    if pd.isnull(v) or v in (',', '.'):\n",
    "        return pd.np.nan\n",
    "    \n",
    "    return int(v.replace(',', '').replace('.', ''))\n",
    "    "
   ]
  },
  {
   "cell_type": "code",
   "execution_count": 71,
   "metadata": {},
   "outputs": [
    {
     "name": "stdout",
     "output_type": "stream",
     "text": [
      "([\\d|\\,|\\.]+)(?:\\[\\d+\\])?\\+?\\s*(?:men|dead|killed|casualties|kia)\n",
      "([\\d|\\,|\\.]+)(?:\\[\\d+\\])?\\+?\\s*(?:wounded|sick|injured)\n",
      "([\\d|\\,|\\.]+)(?:\\[\\d+\\])?\\+?\\s*(?:captured|prisoners)\n",
      "([\\d|\\,|\\.]+)(?:\\[\\d+\\])?\\+?\\s*(?:tank|panzer)\n",
      "([\\d|\\,|\\.]+)(?:\\[\\d+\\])?\\+?\\s*(?:airplane|aircraft)\n",
      "([\\d|\\,|\\.]+)(?:\\[\\d+\\])?\\+?\\s*(?:artillery|gun|self propelled guns|field-guns|anti-tank guns)\n",
      "([\\d|\\,|\\.]+)(?:\\[\\d+\\])?\\+?\\s*(?:warships|boats|destroyer|minelayer)\n",
      "([\\d|\\,|\\.]+)(?:\\[\\d+\\])?\\+?\\s*(?:submarines)\n",
      "([\\d|\\,|\\.]+)(?:\\[\\d+\\])?\\+?\\s*(?:men|dead|killed|casualties|kia)\n",
      "([\\d|\\,|\\.]+)(?:\\[\\d+\\])?\\+?\\s*(?:wounded|sick|injured)\n",
      "([\\d|\\,|\\.]+)(?:\\[\\d+\\])?\\+?\\s*(?:captured|prisoners)\n",
      "([\\d|\\,|\\.]+)(?:\\[\\d+\\])?\\+?\\s*(?:tank|panzer)\n",
      "([\\d|\\,|\\.]+)(?:\\[\\d+\\])?\\+?\\s*(?:airplane|aircraft)\n",
      "([\\d|\\,|\\.]+)(?:\\[\\d+\\])?\\+?\\s*(?:artillery|gun|self propelled guns|field-guns|anti-tank guns)\n",
      "([\\d|\\,|\\.]+)(?:\\[\\d+\\])?\\+?\\s*(?:warships|boats|destroyer|minelayer)\n",
      "([\\d|\\,|\\.]+)(?:\\[\\d+\\])?\\+?\\s*(?:submarines)\n"
     ]
    }
   ],
   "source": [
    "results = {\n",
    "'allies' : pd.DataFrame(index=battles.index, columns=keywords.keys()),  # empty dataframes with the same index\n",
    "'axis' : pd.DataFrame(index=battles.index, columns=keywords.keys())\n",
    "}\n",
    "\n",
    "for name, edf in results.items():\n",
    "    column = battles[f'Casualties and losses.{name}']\n",
    "    for tp, keys in keywords.items():\n",
    "        pattern = digit_pattern.format(words=\"|\".join(keys))\n",
    "        print(pattern)\n",
    "        extracted = column.str.lower().str.extractall(pattern).unstack()\n",
    "        values = extracted.applymap(_shy_convert_numeric)\n",
    "#         if tp == 'killed':\n",
    "#             mask values.iloc[:, 0].notnull()\n",
    "        edf[tp] = values.min(1)\n",
    "    results[name] = edf.fillna(0).astype(int)\n",
    "    \n",
    "\n",
    "    b = column.fillna('').str.extract(only_digits).applymap(_shy_convert_numeric).iloc[:, 0]\n",
    "    mask = b.notnull()\n",
    "    results[name].loc[mask, 'killed'] = b[mask]"
   ]
  },
  {
   "cell_type": "code",
   "execution_count": 72,
   "metadata": {},
   "outputs": [
    {
     "data": {
      "text/html": [
       "<div>\n",
       "<style scoped>\n",
       "    .dataframe tbody tr th:only-of-type {\n",
       "        vertical-align: middle;\n",
       "    }\n",
       "\n",
       "    .dataframe tbody tr th {\n",
       "        vertical-align: top;\n",
       "    }\n",
       "\n",
       "    .dataframe thead tr th {\n",
       "        text-align: left;\n",
       "    }\n",
       "</style>\n",
       "<table border=\"1\" class=\"dataframe\">\n",
       "  <thead>\n",
       "    <tr>\n",
       "      <th></th>\n",
       "      <th colspan=\"5\" halign=\"left\">0</th>\n",
       "    </tr>\n",
       "    <tr>\n",
       "      <th>match</th>\n",
       "      <th>0</th>\n",
       "      <th>1</th>\n",
       "      <th>2</th>\n",
       "      <th>3</th>\n",
       "      <th>4</th>\n",
       "    </tr>\n",
       "  </thead>\n",
       "  <tbody>\n",
       "    <tr>\n",
       "      <th>0</th>\n",
       "      <td>400</td>\n",
       "      <td>NaN</td>\n",
       "      <td>NaN</td>\n",
       "      <td>NaN</td>\n",
       "      <td>NaN</td>\n",
       "    </tr>\n",
       "    <tr>\n",
       "      <th>1</th>\n",
       "      <td>800</td>\n",
       "      <td>NaN</td>\n",
       "      <td>NaN</td>\n",
       "      <td>NaN</td>\n",
       "      <td>NaN</td>\n",
       "    </tr>\n",
       "    <tr>\n",
       "      <th>2</th>\n",
       "      <td>1,800</td>\n",
       "      <td>NaN</td>\n",
       "      <td>NaN</td>\n",
       "      <td>NaN</td>\n",
       "      <td>NaN</td>\n",
       "    </tr>\n",
       "    <tr>\n",
       "      <th>3</th>\n",
       "      <td>506</td>\n",
       "      <td>NaN</td>\n",
       "      <td>NaN</td>\n",
       "      <td>NaN</td>\n",
       "      <td>NaN</td>\n",
       "    </tr>\n",
       "    <tr>\n",
       "      <th>5</th>\n",
       "      <td>650</td>\n",
       "      <td>NaN</td>\n",
       "      <td>NaN</td>\n",
       "      <td>NaN</td>\n",
       "      <td>NaN</td>\n",
       "    </tr>\n",
       "  </tbody>\n",
       "</table>\n",
       "</div>"
      ],
      "text/plain": [
       "           0                    \n",
       "match      0    1    2    3    4\n",
       "0        400  NaN  NaN  NaN  NaN\n",
       "1        800  NaN  NaN  NaN  NaN\n",
       "2      1,800  NaN  NaN  NaN  NaN\n",
       "3        506  NaN  NaN  NaN  NaN\n",
       "5        650  NaN  NaN  NaN  NaN"
      ]
     },
     "execution_count": 72,
     "metadata": {},
     "output_type": "execute_result"
    }
   ],
   "source": [
    "pattern = '([\\d|\\,]+)(?:\\[\\d+\\])?\\+?\\s*(?:men|dead|killed|casualties|kia)'\n",
    "battles[f'Casualties and losses.axis'].str.extractall(pattern).unstack().head(5)"
   ]
  },
  {
   "cell_type": "code",
   "execution_count": 73,
   "metadata": {},
   "outputs": [
    {
     "data": {
      "text/plain": [
       "'429 dead, 668 wounded [4]'"
      ]
     },
     "execution_count": 73,
     "metadata": {},
     "output_type": "execute_result"
    }
   ],
   "source": [
    "battles.loc[[27], 'Casualties and losses.axis'].iloc[0] #.str.extractall('([\\d|\\,]+)\\s[tank]')"
   ]
  },
  {
   "cell_type": "code",
   "execution_count": 74,
   "metadata": {},
   "outputs": [
    {
     "data": {
      "text/plain": [
       "killed        429.0\n",
       "wounded       668.0\n",
       "captured        0.0\n",
       "tanks           0.0\n",
       "airplane        0.0\n",
       "guns            0.0\n",
       "ships           0.0\n",
       "submarines      0.0\n",
       "Name: 27, dtype: float64"
      ]
     },
     "execution_count": 74,
     "metadata": {},
     "output_type": "execute_result"
    }
   ],
   "source": [
    "results['axis'].loc[27]"
   ]
  },
  {
   "cell_type": "code",
   "execution_count": 75,
   "metadata": {},
   "outputs": [
    {
     "data": {
      "text/html": [
       "<div>\n",
       "<style scoped>\n",
       "    .dataframe tbody tr th:only-of-type {\n",
       "        vertical-align: middle;\n",
       "    }\n",
       "\n",
       "    .dataframe tbody tr th {\n",
       "        vertical-align: top;\n",
       "    }\n",
       "\n",
       "    .dataframe thead th {\n",
       "        text-align: right;\n",
       "    }\n",
       "</style>\n",
       "<table border=\"1\" class=\"dataframe\">\n",
       "  <thead>\n",
       "    <tr style=\"text-align: right;\">\n",
       "      <th></th>\n",
       "      <th>killed</th>\n",
       "      <th>wounded</th>\n",
       "      <th>captured</th>\n",
       "      <th>tanks</th>\n",
       "      <th>airplane</th>\n",
       "      <th>guns</th>\n",
       "      <th>ships</th>\n",
       "      <th>submarines</th>\n",
       "    </tr>\n",
       "  </thead>\n",
       "  <tbody>\n",
       "    <tr>\n",
       "      <th>80</th>\n",
       "      <td>60000.0</td>\n",
       "      <td>0</td>\n",
       "      <td>4500</td>\n",
       "      <td>0</td>\n",
       "      <td>0</td>\n",
       "      <td>0</td>\n",
       "      <td>0</td>\n",
       "      <td>0</td>\n",
       "    </tr>\n",
       "  </tbody>\n",
       "</table>\n",
       "</div>"
      ],
      "text/plain": [
       "     killed  wounded  captured  tanks  airplane  guns  ships  submarines\n",
       "80  60000.0        0      4500      0         0     0      0           0"
      ]
     },
     "execution_count": 75,
     "metadata": {},
     "output_type": "execute_result"
    }
   ],
   "source": [
    "results['axis'][battles.name == 'Battle for Velikiye Luki (1943)']"
   ]
  },
  {
   "cell_type": "code",
   "execution_count": 76,
   "metadata": {},
   "outputs": [
    {
     "data": {
      "text/plain": [
       "'Soviet estimate: ~60.000 killed, missing or wounded, 4.500 captured [3]'"
      ]
     },
     "execution_count": 76,
     "metadata": {},
     "output_type": "execute_result"
    }
   ],
   "source": [
    "battles.loc[battles.name=='Battle for Velikiye Luki (1943)', 'Casualties and losses.axis'].iloc[0]"
   ]
  },
  {
   "cell_type": "code",
   "execution_count": null,
   "metadata": {},
   "outputs": [],
   "source": []
  },
  {
   "cell_type": "markdown",
   "metadata": {},
   "source": [
    "# Combine"
   ]
  },
  {
   "cell_type": "code",
   "execution_count": 77,
   "metadata": {},
   "outputs": [],
   "source": [
    "results['old_metrics'] = battles\n",
    "new_dataset = pd.concat(results, axis=1)"
   ]
  },
  {
   "cell_type": "markdown",
   "metadata": {},
   "source": [
    "# Quality Assurance"
   ]
  },
  {
   "cell_type": "code",
   "execution_count": 78,
   "metadata": {},
   "outputs": [],
   "source": [
    "idx = pd.IndexSlice"
   ]
  },
  {
   "cell_type": "code",
   "execution_count": 116,
   "metadata": {},
   "outputs": [],
   "source": [
    "assumptions = {\n",
    "    'killed': [0, 2_000_000],\n",
    "    'wounded': [0, 1_000_000],\n",
    "    'tanks': [0, 5_000],\n",
    "    'airplane': [0, 3_000],\n",
    "    'guns': [0, 30_000],\n",
    "    ('start', 'end'): [pd.to_datetime(el) for el in ('1939-01-01', '1945-12-31')]\n",
    "}"
   ]
  },
  {
   "cell_type": "code",
   "execution_count": 132,
   "metadata": {},
   "outputs": [],
   "source": [
    "def _check_assumptions(data, assumptions):\n",
    "    for k, (min_, max_) in assumptions.items():\n",
    "        df = data.loc[:, idx[:, k]]\n",
    "        for i in range(df.shape[1]):\n",
    "            assert df.iloc[:, i].between(min_, max_).all(), (df.iloc[:, i].name, df.iloc[:, i].describe())"
   ]
  },
  {
   "cell_type": "code",
   "execution_count": 130,
   "metadata": {},
   "outputs": [
    {
     "data": {
      "text/html": [
       "<div>\n",
       "<style scoped>\n",
       "    .dataframe tbody tr th:only-of-type {\n",
       "        vertical-align: middle;\n",
       "    }\n",
       "\n",
       "    .dataframe tbody tr th {\n",
       "        vertical-align: top;\n",
       "    }\n",
       "\n",
       "    .dataframe thead tr th {\n",
       "        text-align: left;\n",
       "    }\n",
       "</style>\n",
       "<table border=\"1\" class=\"dataframe\">\n",
       "  <thead>\n",
       "    <tr>\n",
       "      <th></th>\n",
       "      <th colspan=\"2\" halign=\"left\">old_metrics</th>\n",
       "    </tr>\n",
       "    <tr>\n",
       "      <th></th>\n",
       "      <th>name</th>\n",
       "      <th>url</th>\n",
       "    </tr>\n",
       "  </thead>\n",
       "  <tbody>\n",
       "    <tr>\n",
       "      <th>28</th>\n",
       "      <td>Battle of Białystok-Minsk</td>\n",
       "      <td>https://en.wikipedia.org/wiki/Battle_of_Bia%C5...</td>\n",
       "    </tr>\n",
       "    <tr>\n",
       "      <th>30</th>\n",
       "      <td>Baltic Operation</td>\n",
       "      <td>https://en.wikipedia.org/wiki/Baltic_Operation</td>\n",
       "    </tr>\n",
       "    <tr>\n",
       "      <th>37</th>\n",
       "      <td>Battle of Smolensk (1941)</td>\n",
       "      <td>https://en.wikipedia.org/wiki/Battle_of_Smolen...</td>\n",
       "    </tr>\n",
       "    <tr>\n",
       "      <th>65</th>\n",
       "      <td>Second Battle of Kharkov</td>\n",
       "      <td>https://en.wikipedia.org/wiki/Second_Battle_of...</td>\n",
       "    </tr>\n",
       "    <tr>\n",
       "      <th>72</th>\n",
       "      <td>Battle of Stalingrad</td>\n",
       "      <td>https://en.wikipedia.org/wiki/Battle_of_Stalin...</td>\n",
       "    </tr>\n",
       "    <tr>\n",
       "      <th>75</th>\n",
       "      <td>Operation Mars</td>\n",
       "      <td>https://en.wikipedia.org/wiki/Operation_Mars</td>\n",
       "    </tr>\n",
       "    <tr>\n",
       "      <th>87</th>\n",
       "      <td>Operation Kutuzov</td>\n",
       "      <td>https://en.wikipedia.org/wiki/Operation_Kutuzov</td>\n",
       "    </tr>\n",
       "    <tr>\n",
       "      <th>132</th>\n",
       "      <td>Lvov–Sandomierz Offensive</td>\n",
       "      <td>https://en.wikipedia.org/wiki/Lvov%E2%80%93San...</td>\n",
       "    </tr>\n",
       "    <tr>\n",
       "      <th>162</th>\n",
       "      <td>Heiligenbeil Pocket</td>\n",
       "      <td>https://en.wikipedia.org/wiki/Heiligenbeil_Pocket</td>\n",
       "    </tr>\n",
       "  </tbody>\n",
       "</table>\n",
       "</div>"
      ],
      "text/plain": [
       "                   old_metrics  \\\n",
       "                          name   \n",
       "28   Battle of Białystok-Minsk   \n",
       "30            Baltic Operation   \n",
       "37   Battle of Smolensk (1941)   \n",
       "65    Second Battle of Kharkov   \n",
       "72        Battle of Stalingrad   \n",
       "75              Operation Mars   \n",
       "87           Operation Kutuzov   \n",
       "132  Lvov–Sandomierz Offensive   \n",
       "162        Heiligenbeil Pocket   \n",
       "\n",
       "                                                        \n",
       "                                                   url  \n",
       "28   https://en.wikipedia.org/wiki/Battle_of_Bia%C5...  \n",
       "30      https://en.wikipedia.org/wiki/Baltic_Operation  \n",
       "37   https://en.wikipedia.org/wiki/Battle_of_Smolen...  \n",
       "65   https://en.wikipedia.org/wiki/Second_Battle_of...  \n",
       "72   https://en.wikipedia.org/wiki/Battle_of_Stalin...  \n",
       "75        https://en.wikipedia.org/wiki/Operation_Mars  \n",
       "87     https://en.wikipedia.org/wiki/Operation_Kutuzov  \n",
       "132  https://en.wikipedia.org/wiki/Lvov%E2%80%93San...  \n",
       "162  https://en.wikipedia.org/wiki/Heiligenbeil_Pocket  "
      ]
     },
     "execution_count": 130,
     "metadata": {},
     "output_type": "execute_result"
    }
   ],
   "source": [
    "d = new_dataset.loc[new_dataset.loc[:, idx['allies', 'tanks']] > 1_000 , idx['old_metrics', ['name', 'url']]] \n",
    "d"
   ]
  },
  {
   "cell_type": "code",
   "execution_count": 131,
   "metadata": {},
   "outputs": [
    {
     "data": {
      "text/plain": [
       "'https://en.wikipedia.org/wiki/Battle_of_Bia%C5%82ystok-Minsk'"
      ]
     },
     "execution_count": 131,
     "metadata": {},
     "output_type": "execute_result"
    }
   ],
   "source": [
    "d.iloc[0, 1]"
   ]
  },
  {
   "cell_type": "code",
   "execution_count": 133,
   "metadata": {},
   "outputs": [],
   "source": [
    "_check_assumptions(new_dataset, assumptions)"
   ]
  },
  {
   "cell_type": "code",
   "execution_count": 124,
   "metadata": {},
   "outputs": [
    {
     "data": {
      "text/html": [
       "<div>\n",
       "<style scoped>\n",
       "    .dataframe tbody tr th:only-of-type {\n",
       "        vertical-align: middle;\n",
       "    }\n",
       "\n",
       "    .dataframe tbody tr th {\n",
       "        vertical-align: top;\n",
       "    }\n",
       "\n",
       "    .dataframe thead tr th {\n",
       "        text-align: left;\n",
       "    }\n",
       "</style>\n",
       "<table border=\"1\" class=\"dataframe\">\n",
       "  <thead>\n",
       "    <tr>\n",
       "      <th></th>\n",
       "      <th>old_metrics</th>\n",
       "    </tr>\n",
       "    <tr>\n",
       "      <th></th>\n",
       "      <th>start</th>\n",
       "    </tr>\n",
       "  </thead>\n",
       "  <tbody>\n",
       "    <tr>\n",
       "      <th>135</th>\n",
       "      <td>NaT</td>\n",
       "    </tr>\n",
       "  </tbody>\n",
       "</table>\n",
       "</div>"
      ],
      "text/plain": [
       "    old_metrics\n",
       "          start\n",
       "135         NaT"
      ]
     },
     "execution_count": 124,
     "metadata": {},
     "output_type": "execute_result"
    }
   ],
   "source": [
    "new_dataset.loc[~new_dataset.loc[:, idx['old_metrics', 'start']].between(*[pd.to_datetime(el) for el in ('1939-01-01', '1945-12-31')]), idx['old_metrics', ['start']]]"
   ]
  },
  {
   "cell_type": "code",
   "execution_count": 127,
   "metadata": {},
   "outputs": [
    {
     "data": {
      "text/html": [
       "<div>\n",
       "<style scoped>\n",
       "    .dataframe tbody tr th:only-of-type {\n",
       "        vertical-align: middle;\n",
       "    }\n",
       "\n",
       "    .dataframe tbody tr th {\n",
       "        vertical-align: top;\n",
       "    }\n",
       "\n",
       "    .dataframe thead tr th {\n",
       "        text-align: left;\n",
       "    }\n",
       "</style>\n",
       "<table border=\"1\" class=\"dataframe\">\n",
       "  <thead>\n",
       "    <tr>\n",
       "      <th></th>\n",
       "      <th colspan=\"2\" halign=\"left\">old_metrics</th>\n",
       "    </tr>\n",
       "    <tr>\n",
       "      <th></th>\n",
       "      <th>name</th>\n",
       "      <th>url</th>\n",
       "    </tr>\n",
       "  </thead>\n",
       "  <tbody>\n",
       "    <tr>\n",
       "      <th>135</th>\n",
       "      <td>Battle of Studzianki</td>\n",
       "      <td>https://en.wikipedia.org/wiki/Battle_of_Studzi...</td>\n",
       "    </tr>\n",
       "  </tbody>\n",
       "</table>\n",
       "</div>"
      ],
      "text/plain": [
       "              old_metrics                                                   \n",
       "                     name                                                url\n",
       "135  Battle of Studzianki  https://en.wikipedia.org/wiki/Battle_of_Studzi..."
      ]
     },
     "execution_count": 127,
     "metadata": {},
     "output_type": "execute_result"
    }
   ],
   "source": [
    "new_dataset.loc[new_dataset.loc[:, idx['old_metrics', 'start']].isnull(), idx['old_metrics', ['name','url']]]"
   ]
  },
  {
   "cell_type": "code",
   "execution_count": 129,
   "metadata": {},
   "outputs": [],
   "source": [
    "new_dataset.loc[135, idx['old_metrics', 'start']] = pd.to_datetime('1944-08-09')\n",
    "new_dataset.loc[135, idx['old_metrics', 'end']] = pd.to_datetime('1944-08-16') # August 9–16, 1944"
   ]
  },
  {
   "cell_type": "code",
   "execution_count": 134,
   "metadata": {},
   "outputs": [],
   "source": [
    "_check_assumptions(new_dataset, assumptions)"
   ]
  },
  {
   "cell_type": "markdown",
   "metadata": {},
   "source": [
    "# Store"
   ]
  },
  {
   "cell_type": "code",
   "execution_count": 135,
   "metadata": {},
   "outputs": [],
   "source": [
    "new_dataset.to_csv('./data/EF_battles.csv', index=None)"
   ]
  },
  {
   "cell_type": "code",
   "execution_count": null,
   "metadata": {},
   "outputs": [],
   "source": []
  }
 ],
 "metadata": {
  "kernelspec": {
   "display_name": "Python 3",
   "language": "python",
   "name": "python3"
  },
  "language_info": {
   "codemirror_mode": {
    "name": "ipython",
    "version": 3
   },
   "file_extension": ".py",
   "mimetype": "text/x-python",
   "name": "python",
   "nbconvert_exporter": "python",
   "pygments_lexer": "ipython3",
   "version": "3.6.5"
  }
 },
 "nbformat": 4,
 "nbformat_minor": 2
}
