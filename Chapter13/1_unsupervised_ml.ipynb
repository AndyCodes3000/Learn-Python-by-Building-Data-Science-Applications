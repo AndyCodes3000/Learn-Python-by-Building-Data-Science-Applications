{
 "cells": [
  {
   "cell_type": "code",
   "execution_count": 27,
   "metadata": {},
   "outputs": [],
   "source": [
    "import pandas as pd\n",
    "import numpy as np\n",
    "\n",
    "%matplotlib inline\n",
    "import pylab as plt\n",
    "plt.style.use('fivethirtyeight')"
   ]
  },
  {
   "cell_type": "markdown",
   "metadata": {},
   "source": [
    "# Read data"
   ]
  },
  {
   "cell_type": "code",
   "execution_count": 51,
   "metadata": {},
   "outputs": [],
   "source": [
    "data = pd.read_csv('./data/EF_battles_corrected.csv', parse_dates=['start', 'end'])"
   ]
  },
  {
   "cell_type": "code",
   "execution_count": 52,
   "metadata": {},
   "outputs": [
    {
     "data": {
      "text/plain": [
       "(133, 29)"
      ]
     },
     "execution_count": 52,
     "metadata": {},
     "output_type": "execute_result"
    }
   ],
   "source": [
    "data.shape"
   ]
  },
  {
   "cell_type": "code",
   "execution_count": 54,
   "metadata": {},
   "outputs": [],
   "source": [
    "data['end_num'] = (data['end'].dt.year -1938) * 12 +  data['end'].dt.month\n",
    "data['start_num'] = (data['start'].dt.year -1938) * 12 +  data['start'].dt.month\n",
    "data['duration'] = (data['end_num'] - data['start_num']).clip(lower=1)"
   ]
  },
  {
   "cell_type": "code",
   "execution_count": 55,
   "metadata": {},
   "outputs": [
    {
     "data": {
      "text/plain": [
       "(133, 32)"
      ]
     },
     "execution_count": 55,
     "metadata": {},
     "output_type": "execute_result"
    }
   ],
   "source": [
    "data.shape"
   ]
  },
  {
   "cell_type": "markdown",
   "metadata": {},
   "source": [
    "### Data types and missing values"
   ]
  },
  {
   "cell_type": "code",
   "execution_count": 56,
   "metadata": {},
   "outputs": [
    {
     "data": {
      "text/plain": [
       "name                                 object\n",
       "url                                  object\n",
       "allies killed                       float64\n",
       "axis killed                         float64\n",
       "allies_destroyed_tanks                int64\n",
       "allies_destroyed_airplane             int64\n",
       "allies_destroyed_guns                 int64\n",
       "axis_destroyed_tanks                  int64\n",
       "axis_destroyed_airplane               int64\n",
       "axis_destroyed_guns                   int64\n",
       "belligerents.allies                  object\n",
       "belligerents.axis                    object\n",
       "axis_leaders                         object\n",
       "allies_leaders                       object\n",
       "result_prop                         float64\n",
       "result                               object\n",
       "axis_planes                         float64\n",
       "axis_guns                           float64\n",
       "axis_tanks                          float64\n",
       "axis_infantry                       float64\n",
       "allies_planes                       float64\n",
       "allies_guns                         float64\n",
       "allies_tanks                        float64\n",
       "allies_infantry                     float64\n",
       "level                                 int64\n",
       "parent                               object\n",
       "latlon                               object\n",
       "start                        datetime64[ns]\n",
       "end                          datetime64[ns]\n",
       "end_num                               int64\n",
       "start_num                             int64\n",
       "duration                              int64\n",
       "dtype: object"
      ]
     },
     "execution_count": 56,
     "metadata": {},
     "output_type": "execute_result"
    }
   ],
   "source": [
    "data.dtypes"
   ]
  },
  {
   "cell_type": "code",
   "execution_count": 57,
   "metadata": {},
   "outputs": [],
   "source": [
    "cols = [\n",
    "    'allies_infantry', 'axis_infantry',\n",
    "    'allies_tanks', 'axis_tanks',\n",
    "    'allies_guns', 'axis_guns'\n",
    "]\n"
   ]
  },
  {
   "cell_type": "code",
   "execution_count": 58,
   "metadata": {},
   "outputs": [],
   "source": [
    "mask = data[cols].notnull().all(1)"
   ]
  },
  {
   "cell_type": "code",
   "execution_count": 59,
   "metadata": {},
   "outputs": [],
   "source": [
    "data_kmeans = data.loc[mask, cols]"
   ]
  },
  {
   "cell_type": "code",
   "execution_count": 66,
   "metadata": {},
   "outputs": [
    {
     "data": {
      "text/plain": [
       "(19, 10)"
      ]
     },
     "execution_count": 66,
     "metadata": {},
     "output_type": "execute_result"
    }
   ],
   "source": [
    "data_kmeans.shape"
   ]
  },
  {
   "cell_type": "code",
   "execution_count": 68,
   "metadata": {},
   "outputs": [],
   "source": [
    "data['result_num'] = data['result'].map({'axis':-1, 'allies':1}).fillna(0)  # 0 for tie"
   ]
  },
  {
   "cell_type": "code",
   "execution_count": 69,
   "metadata": {},
   "outputs": [
    {
     "data": {
      "text/plain": [
       "-1.0    93\n",
       " 1.0    34\n",
       " 0.0     6\n",
       "Name: result_num, dtype: int64"
      ]
     },
     "execution_count": 69,
     "metadata": {},
     "output_type": "execute_result"
    }
   ],
   "source": [
    "data['result_num'].value_counts()"
   ]
  },
  {
   "cell_type": "markdown",
   "metadata": {},
   "source": [
    "# 1. Unsupervised learning: K-means"
   ]
  },
  {
   "cell_type": "code",
   "execution_count": 60,
   "metadata": {},
   "outputs": [],
   "source": [
    "from sklearn.cluster import KMeans\n",
    "model = KMeans(n_clusters=5)"
   ]
  },
  {
   "cell_type": "code",
   "execution_count": 61,
   "metadata": {},
   "outputs": [],
   "source": [
    "labels = model.fit_predict(data_kmeans) + 1  # for naming"
   ]
  },
  {
   "cell_type": "code",
   "execution_count": null,
   "metadata": {},
   "outputs": [],
   "source": []
  },
  {
   "cell_type": "code",
   "execution_count": 62,
   "metadata": {},
   "outputs": [
    {
     "name": "stdout",
     "output_type": "stream",
     "text": [
      "[5 4 5 2 4 6 3 5 3 3 5 5 6 5 4 3 5 3 4]\n"
     ]
    }
   ],
   "source": [
    "print(labels + 1)"
   ]
  },
  {
   "cell_type": "code",
   "execution_count": 63,
   "metadata": {},
   "outputs": [],
   "source": [
    "data_kmeans['label'] = ('Cluster ' + pd.Series((labels+1)).astype(str)).values\n",
    "data_kmeans[['name', 'result', 'start']] = data.loc[mask, ['name', 'result', 'start']]"
   ]
  },
  {
   "cell_type": "markdown",
   "metadata": {},
   "source": [
    "## Visualise"
   ]
  },
  {
   "cell_type": "code",
   "execution_count": 64,
   "metadata": {},
   "outputs": [],
   "source": [
    "import altair as alt\n"
   ]
  },
  {
   "cell_type": "code",
   "execution_count": 65,
   "metadata": {},
   "outputs": [
    {
     "data": {
      "application/vnd.vegalite.v3+json": {
       "$schema": "https://vega.github.io/schema/vega-lite/v3.4.0.json",
       "config": {
        "mark": {
         "tooltip": null
        },
        "view": {
         "height": 300,
         "width": 400
        }
       },
       "data": {
        "name": "data-c9650569cb61c9678d859d8276b23197"
       },
       "datasets": {
        "data-c9650569cb61c9678d859d8276b23197": [
         {
          "allies_guns": 16,
          "allies_infantry": 50000,
          "allies_tanks": 58,
          "axis_guns": 109,
          "axis_infantry": 5000,
          "axis_tanks": 498,
          "label": "Cluster 5",
          "name": "Battle of Jordanów",
          "result": "axis",
          "start": "1939-09-01T00:00:00"
         },
         {
          "allies_guns": 5573,
          "allies_infantry": 498000,
          "allies_tanks": 1393,
          "axis_guns": 7673,
          "axis_infantry": 655000,
          "axis_tanks": 1389,
          "label": "Cluster 4",
          "name": "Baltic Operation",
          "result": "axis",
          "start": "1941-06-01T00:00:00"
         },
         {
          "allies_guns": 4600,
          "allies_infantry": 352500,
          "allies_tanks": 500,
          "axis_guns": 700,
          "axis_infantry": 390000,
          "axis_tanks": 50,
          "label": "Cluster 5",
          "name": "Operation Iskra",
          "result": "axis",
          "start": "1943-01-01T00:00:00"
         },
         {
          "allies_guns": 7600,
          "allies_infantry": 1400000,
          "allies_tanks": 3232,
          "axis_guns": 14000,
          "axis_infantry": 1929406,
          "axis_tanks": 2470,
          "label": "Cluster 2",
          "name": "Battle of Moscow",
          "result": "allies",
          "start": "1941-10-01T00:00:00"
         },
         {
          "allies_guns": 13451,
          "allies_infantry": 187000,
          "allies_tanks": 894,
          "axis_guns": 10250,
          "axis_infantry": 1040000,
          "axis_tanks": 500,
          "label": "Cluster 4",
          "name": "Battle of Stalingrad",
          "result": "allies",
          "start": "1942-08-01T00:00:00"
         },
         {
          "allies_guns": 13451,
          "allies_infantry": 1173500,
          "allies_tanks": 894,
          "axis_guns": 3000,
          "axis_infantry": 1040000,
          "axis_tanks": 950,
          "label": "Cluster 6",
          "name": "Operation Uranus",
          "result": "allies",
          "start": "1942-11-01T00:00:00"
         },
         {
          "allies_guns": 26379,
          "allies_infantry": 1286000,
          "allies_tanks": 2409,
          "axis_guns": 5500,
          "axis_infantry": 300700,
          "axis_tanks": 625,
          "label": "Cluster 3",
          "name": "Operation Kutuzov",
          "result": "axis",
          "start": "1943-07-01T00:00:00"
         },
         {
          "allies_guns": 5300,
          "allies_infantry": 336700,
          "allies_tanks": 924,
          "axis_guns": 242,
          "axis_infantry": 140000,
          "axis_tanks": 318,
          "label": "Cluster 5",
          "name": "Korsun Pocket",
          "result": "allies",
          "start": "1944-01-01T00:00:00"
         },
         {
          "allies_guns": 8890,
          "allies_infantry": 691000,
          "allies_tanks": 670,
          "axis_guns": 3500,
          "axis_infantry": 400000,
          "axis_tanks": 450,
          "label": "Cluster 3",
          "name": "Uman-Botoshany Offensive",
          "result": "allies",
          "start": "1944-03-01T00:00:00"
         },
         {
          "allies_guns": 4600,
          "allies_infantry": 822000,
          "allies_tanks": 550,
          "axis_guns": 2389,
          "axis_infantry": 500000,
          "axis_tanks": 146,
          "label": "Cluster 3",
          "name": "Leningrad–Novgorod Offensive",
          "result": "allies",
          "start": "1944-01-01T00:00:00"
         },
         {
          "allies_guns": 5300,
          "allies_infantry": 336700,
          "allies_tanks": 524,
          "axis_guns": 242,
          "axis_infantry": 140000,
          "axis_tanks": 318,
          "label": "Cluster 5",
          "name": "Korsun-Cherkassy Pocket",
          "result": "allies",
          "start": "1944-01-01T00:00:00"
         },
         {
          "allies_guns": 10500,
          "allies_infantry": 451500,
          "allies_tanks": 800,
          "axis_guns": 1930,
          "axis_infantry": 75000,
          "axis_tanks": 110,
          "label": "Cluster 5",
          "name": "Vyborg–Petrozavodsk Offensive",
          "result": "allies",
          "start": "1944-06-01T00:00:00"
         },
         {
          "allies_guns": 11265,
          "allies_infantry": 1002200,
          "allies_tanks": 1979,
          "axis_guns": 6300,
          "axis_infantry": 900000,
          "axis_tanks": 900,
          "label": "Cluster 6",
          "name": "Lvov–Sandomierz Offensive",
          "result": "allies",
          "start": "1944-07-01T00:00:00"
         },
         {
          "allies_guns": 3241,
          "allies_infantry": 378000,
          "allies_tanks": 1000,
          "axis_guns": 2000,
          "axis_infantry": 100000,
          "axis_tanks": 350,
          "label": "Cluster 5",
          "name": "Battle of the Dukla Pass",
          "result": "axis",
          "start": "1944-09-01T00:00:00"
         },
         {
          "allies_guns": 2100,
          "allies_infantry": 150000,
          "allies_tanks": 125,
          "axis_guns": 3640,
          "axis_infantry": 580000,
          "axis_tanks": 520,
          "label": "Cluster 4",
          "name": "Belgrade Offensive",
          "result": "allies",
          "start": "1944-09-01T00:00:00"
         },
         {
          "allies_guns": 10238,
          "allies_infantry": 865506,
          "allies_tanks": 825,
          "axis_guns": 3500,
          "axis_infantry": 240952,
          "axis_tanks": 293,
          "label": "Cluster 3",
          "name": "Battle of Debrecen",
          "result": "axis",
          "start": "1944-10-01T00:00:00"
         },
         {
          "allies_guns": 5200,
          "allies_infantry": 137000,
          "allies_tanks": 528,
          "axis_guns": 4000,
          "axis_infantry": 130000,
          "axis_tanks": 108,
          "label": "Cluster 5",
          "name": "Battle of Königsberg",
          "result": "axis",
          "start": "1945-01-01T00:00:00"
         },
         {
          "allies_guns": 5425,
          "allies_infantry": 1171800,
          "allies_tanks": 1600,
          "axis_guns": 434,
          "axis_infantry": 270000,
          "axis_tanks": 772,
          "label": "Cluster 3",
          "name": "Vienna Offensive",
          "result": "allies",
          "start": "1945-04-01T00:00:00"
         },
         {
          "allies_guns": 2625,
          "allies_infantry": 112143,
          "allies_tanks": 587,
          "axis_guns": 16934,
          "axis_infantry": 1000000,
          "axis_tanks": 3059,
          "label": "Cluster 4",
          "name": "Battle of the Seelow Heights",
          "result": "allies",
          "start": "1945-04-01T00:00:00"
         }
        ]
       },
       "encoding": {
        "color": {
         "field": "label",
         "legend": {
          "title": "Cluster"
         },
         "type": "nominal"
        },
        "shape": {
         "field": "result",
         "type": "nominal"
        },
        "tooltip": [
         {
          "field": "allies_infantry",
          "type": "quantitative"
         },
         {
          "field": "axis_infantry",
          "type": "quantitative"
         },
         {
          "field": "allies_tanks",
          "type": "quantitative"
         },
         {
          "field": "axis_tanks",
          "type": "quantitative"
         },
         {
          "field": "allies_guns",
          "type": "quantitative"
         },
         {
          "field": "axis_guns",
          "type": "quantitative"
         },
         {
          "field": "label",
          "type": "nominal"
         },
         {
          "field": "name",
          "type": "nominal"
         },
         {
          "field": "result",
          "type": "nominal"
         },
         {
          "field": "start",
          "type": "temporal"
         }
        ],
        "x": {
         "field": "allies_infantry",
         "type": "quantitative"
        },
        "y": {
         "field": "axis_infantry",
         "type": "quantitative"
        }
       },
       "mark": "point",
       "selection": {
        "selector003": {
         "bind": "scales",
         "encodings": [
          "x",
          "y"
         ],
         "type": "interval"
        }
       }
      },
      "image/png": "[encoded data removed]",
      "text/plain": [
       "<VegaLite 3 object>\n",
       "\n",
       "If you see this message, it means the renderer has not been properly enabled\n",
       "for the frontend that you are using. For more information, see\n",
       "https://altair-viz.github.io/user_guide/troubleshooting.html\n"
      ]
     },
     "execution_count": 65,
     "metadata": {},
     "output_type": "execute_result"
    }
   ],
   "source": [
    "c = alt.Chart(data_kmeans).mark_point().encode(\n",
    "    color=alt.Color('label:N', legend=alt.Legend(title='Cluster')),\n",
    "    x='allies_infantry', y='axis_infantry', shape='result',\n",
    "    tooltip=data_kmeans.columns.tolist()).interactive()\n",
    "\n",
    "c"
   ]
  },
  {
   "cell_type": "markdown",
   "metadata": {},
   "source": [
    "# Scale"
   ]
  },
  {
   "cell_type": "code",
   "execution_count": 84,
   "metadata": {},
   "outputs": [],
   "source": [
    "from sklearn.preprocessing import scale"
   ]
  },
  {
   "cell_type": "code",
   "execution_count": 85,
   "metadata": {},
   "outputs": [],
   "source": [
    "data_scaled = scale(data_kmeans.drop(['label', 'name', 'start', 'result'], axis=1))"
   ]
  },
  {
   "cell_type": "code",
   "execution_count": 86,
   "metadata": {},
   "outputs": [],
   "source": [
    "labels_scaled = model.fit_predict(data_scaled) + 1"
   ]
  },
  {
   "cell_type": "code",
   "execution_count": 87,
   "metadata": {},
   "outputs": [],
   "source": [
    "# data_scaled['label'] = ('Cluster ' + pd.Series((labels_scaled +1)).astype(str)).values\n",
    "# data_scaled[['name', 'result', 'start']] = data.loc[~mask, ['name', 'result', 'start']]\n",
    "\n",
    "data_kmeans['label 2'] = ('Cluster ' + pd.Series((labels_scaled +1)).astype(str)).values"
   ]
  },
  {
   "cell_type": "code",
   "execution_count": 88,
   "metadata": {},
   "outputs": [],
   "source": [
    "c.data = data_kmeans"
   ]
  },
  {
   "cell_type": "code",
   "execution_count": 89,
   "metadata": {},
   "outputs": [
    {
     "data": {
      "application/vnd.vegalite.v3+json": {
       "$schema": "https://vega.github.io/schema/vega-lite/v3.3.0.json",
       "config": {
        "mark": {
         "tooltip": null
        },
        "view": {
         "height": 300,
         "width": 400
        }
       },
       "data": {
        "name": "data-3855ad11ffbf917cc8912d772e5f4b11"
       },
       "datasets": {
        "data-3855ad11ffbf917cc8912d772e5f4b11": [
         {
          "allies_guns": 0,
          "allies_infantry": 240,
          "allies_tanks": 0,
          "axis_guns": 0,
          "axis_infantry": 3400,
          "axis_tanks": 0,
          "label": "Cluster 1",
          "label 2": "Cluster 1",
          "name": "Battle of Westerplatte",
          "result": "axis",
          "start": "1939-09-01T00:00:00"
         },
         {
          "allies_guns": 16,
          "allies_infantry": 50000,
          "allies_tanks": 58,
          "axis_guns": 109,
          "axis_infantry": 5000,
          "axis_tanks": 498,
          "label": "Cluster 1",
          "label 2": "Cluster 1",
          "name": "Battle of Jordanów",
          "result": "axis",
          "start": "1939-09-01T00:00:00"
         },
         {
          "allies_guns": 6,
          "allies_infantry": 720,
          "allies_tanks": 0,
          "axis_guns": 657,
          "axis_infantry": 42200,
          "axis_tanks": 350,
          "label": "Cluster 1",
          "label 2": "Cluster 1",
          "name": "Battle of Wizna",
          "result": "axis",
          "start": "1939-09-01T00:00:00"
         },
         {
          "allies_guns": 46,
          "allies_infantry": 2800,
          "allies_tanks": 0,
          "axis_guns": 0,
          "axis_infantry": 38000,
          "axis_tanks": 0,
          "label": "Cluster 1",
          "label 2": "Cluster 1",
          "name": "Battle of Hel",
          "result": "axis",
          "start": "1939-09-01T00:00:00"
         },
         {
          "allies_guns": 0,
          "allies_infantry": 225000,
          "allies_tanks": 0,
          "axis_guns": 0,
          "axis_infantry": 425000,
          "axis_tanks": 500,
          "label": "Cluster 4",
          "label 2": "Cluster 1",
          "name": "Battle of the Bzura",
          "result": "axis",
          "start": "1939-09-01T00:00:00"
         },
         {
          "allies_guns": 0,
          "allies_infantry": 124000,
          "allies_tanks": 0,
          "axis_guns": 0,
          "axis_infantry": 175000,
          "axis_tanks": 0,
          "label": "Cluster 1",
          "label 2": "Cluster 1",
          "name": "Siege of Warsaw",
          "result": "axis",
          "start": "1939-09-01T00:00:00"
         },
         {
          "allies_guns": 30,
          "allies_infantry": 8800,
          "allies_tanks": 0,
          "axis_guns": 0,
          "axis_infantry": 175000,
          "axis_tanks": 200,
          "label": "Cluster 1",
          "label 2": "Cluster 1",
          "name": "Battle of Lwów",
          "result": "axis",
          "start": "1939-09-01T00:00:00"
         },
         {
          "allies_guns": 0,
          "allies_infantry": 70000,
          "allies_tanks": 400,
          "axis_guns": 0,
          "axis_infantry": 45000,
          "axis_tanks": 800,
          "label": "Cluster 1",
          "label 2": "Cluster 1",
          "name": "Battle of Tomaszów Lubelski",
          "result": "axis",
          "start": "1939-09-01T00:00:00"
         },
         {
          "allies_guns": 0,
          "allies_infantry": 22500,
          "allies_tanks": 0,
          "axis_guns": 0,
          "axis_infantry": 20000,
          "axis_tanks": 0,
          "label": "Cluster 1",
          "label 2": "Cluster 1",
          "name": "Battle of Krasnobród",
          "result": "allies",
          "start": "1939-09-01T00:00:00"
         },
         {
          "allies_guns": 0,
          "allies_infantry": 18000,
          "allies_tanks": 0,
          "axis_guns": 0,
          "axis_infantry": 30000,
          "axis_tanks": 400,
          "label": "Cluster 1",
          "label 2": "Cluster 1",
          "name": "Battle of Kock",
          "result": "allies",
          "start": "1939-10-01T00:00:00"
         },
         {
          "allies_guns": 22,
          "allies_infantry": 6500,
          "allies_tanks": 0,
          "axis_guns": 0,
          "axis_infantry": 20000,
          "axis_tanks": 200,
          "label": "Cluster 1",
          "label 2": "Cluster 1",
          "name": "Battle of Wilno",
          "result": "axis",
          "start": "1939-09-01T00:00:00"
         },
         {
          "allies_guns": 0,
          "allies_infantry": 4000,
          "allies_tanks": 0,
          "axis_guns": 0,
          "axis_infantry": 15000,
          "axis_tanks": 0,
          "label": "Cluster 1",
          "label 2": "Cluster 1",
          "name": "Battle of Szack",
          "result": "allies",
          "start": "1939-09-01T00:00:00"
         },
         {
          "allies_guns": 13,
          "allies_infantry": 2000,
          "allies_tanks": 0,
          "axis_guns": 200,
          "axis_infantry": 1200,
          "axis_tanks": 70,
          "label": "Cluster 1",
          "label 2": "Cluster 1",
          "name": "Battle of Wytyczno",
          "result": "axis",
          "start": "1939-10-01T00:00:00"
         },
         {
          "allies_guns": 0,
          "allies_infantry": 55000,
          "allies_tanks": 100,
          "axis_guns": 0,
          "axis_infantry": 11500,
          "axis_tanks": 0,
          "label": "Cluster 1",
          "label 2": "Cluster 1",
          "name": "Battle of Suomussalmi",
          "result": "axis",
          "start": "1939-12-01T00:00:00"
         },
         {
          "allies_guns": 0,
          "allies_infantry": 300000,
          "allies_tanks": 0,
          "axis_guns": 0,
          "axis_infantry": 15000,
          "axis_tanks": 0,
          "label": "Cluster 1",
          "label 2": "Cluster 1",
          "name": "Battle of Summa",
          "result": "allies",
          "start": "1939-12-01T00:00:00"
         },
         {
          "allies_guns": 0,
          "allies_infantry": 25000,
          "allies_tanks": 0,
          "axis_guns": 0,
          "axis_infantry": 10000,
          "axis_tanks": 0,
          "label": "Cluster 1",
          "label 2": "Cluster 1",
          "name": "Battle of Raate Road",
          "result": "axis",
          "start": "1940-01-01T00:00:00"
         },
         {
          "allies_guns": 0,
          "allies_infantry": 60000,
          "allies_tanks": 100,
          "axis_guns": 0,
          "axis_infantry": 15000,
          "axis_tanks": 0,
          "label": "Cluster 1",
          "label 2": "Cluster 1",
          "name": "Battle of Kollaa",
          "result": "axis",
          "start": "1939-12-01T00:00:00"
         },
         {
          "allies_guns": 0,
          "allies_infantry": 30000,
          "allies_tanks": 800,
          "axis_guns": 0,
          "axis_infantry": 750,
          "axis_tanks": 0,
          "label": "Cluster 1",
          "label 2": "Cluster 1",
          "name": "Battle of Petsamo",
          "result": "allies",
          "start": "1939-11-01T00:00:00"
         },
         {
          "allies_guns": 0,
          "allies_infantry": 9000,
          "allies_tanks": 3,
          "axis_guns": 0,
          "axis_infantry": 17000,
          "axis_tanks": 800,
          "label": "Cluster 1",
          "label 2": "Cluster 1",
          "name": "Defense of Brest Fortress",
          "result": "axis",
          "start": "1941-06-01T00:00:00"
         },
         {
          "allies_guns": 14171,
          "allies_infantry": 671165,
          "allies_tanks": 4522,
          "axis_guns": 0,
          "axis_infantry": 750000,
          "axis_tanks": 1936,
          "label": "Cluster 4",
          "label 2": "Cluster 5",
          "name": "Battle of Białystok-Minsk",
          "result": "axis",
          "start": "1941-06-01T00:00:00"
         },
         {
          "allies_guns": 5573,
          "allies_infantry": 498000,
          "allies_tanks": 1393,
          "axis_guns": 7673,
          "axis_infantry": 655000,
          "axis_tanks": 1389,
          "label": "Cluster 4",
          "label 2": "Cluster 2",
          "name": "Baltic Operation",
          "result": "axis",
          "start": "1941-06-01T00:00:00"
         },
         {
          "allies_guns": 0,
          "allies_infantry": 650000,
          "allies_tanks": 0,
          "axis_guns": 0,
          "axis_infantry": 917000,
          "axis_tanks": 0,
          "label": "Cluster 4",
          "label 2": "Cluster 1",
          "name": "Continuation War",
          "result": "allies",
          "start": "1941-06-01T00:00:00"
         },
         {
          "allies_guns": 0,
          "allies_infantry": 45000,
          "allies_tanks": 0,
          "axis_guns": 0,
          "axis_infantry": 27500,
          "axis_tanks": 0,
          "label": "Cluster 1",
          "label 2": "Cluster 1",
          "name": "Operation Platinum Fox",
          "result": "axis",
          "start": "1941-06-01T00:00:00"
         },
         {
          "allies_guns": 0,
          "allies_infantry": 78500,
          "allies_tanks": 200,
          "axis_guns": 0,
          "axis_infantry": 45000,
          "axis_tanks": 72,
          "label": "Cluster 1",
          "label 2": "Cluster 1",
          "name": "Operation Arctic Fox",
          "result": null,
          "start": "1941-07-01T00:00:00"
         },
         {
          "allies_guns": 0,
          "allies_infantry": 581600,
          "allies_tanks": 1545,
          "axis_guns": 0,
          "axis_infantry": 430000,
          "axis_tanks": 1780,
          "label": "Cluster 4",
          "label 2": "Cluster 5",
          "name": "Battle of Smolensk (1941)",
          "result": "axis",
          "start": "1941-07-01T00:00:00"
         },
         {
          "allies_guns": 858,
          "allies_infantry": 300000,
          "allies_tanks": 317,
          "axis_guns": 0,
          "axis_infantry": 400000,
          "axis_tanks": 600,
          "label": "Cluster 4",
          "label 2": "Cluster 1",
          "name": "Battle of Uman",
          "result": "axis",
          "start": "1941-07-01T00:00:00"
         },
         {
          "allies_guns": 240,
          "allies_infantry": 34500,
          "allies_tanks": 0,
          "axis_guns": 0,
          "axis_infantry": 340223,
          "axis_tanks": 0,
          "label": "Cluster 1",
          "label 2": "Cluster 1",
          "name": "Siege of Odessa (1941)",
          "result": "axis",
          "start": "1941-08-01T00:00:00"
         },
         {
          "allies_guns": 0,
          "allies_infantry": 627000,
          "allies_tanks": 0,
          "axis_guns": 0,
          "axis_infantry": 500000,
          "axis_tanks": 0,
          "label": "Cluster 4",
          "label 2": "Cluster 1",
          "name": "Battle of Kiev (1941)",
          "result": "axis",
          "start": "1941-08-01T00:00:00"
         },
         {
          "allies_guns": 0,
          "allies_infantry": 190000,
          "allies_tanks": 0,
          "axis_guns": 0,
          "axis_infantry": 300000,
          "axis_tanks": 0,
          "label": "Cluster 1",
          "label 2": "Cluster 1",
          "name": "Sinyavino Offensive (1942)",
          "result": null,
          "start": "1942-10-01T00:00:00"
         },
         {
          "allies_guns": 4600,
          "allies_infantry": 352500,
          "allies_tanks": 500,
          "axis_guns": 700,
          "axis_infantry": 390000,
          "axis_tanks": 50,
          "label": "Cluster 4",
          "label 2": "Cluster 1",
          "name": "Operation Iskra",
          "result": "axis",
          "start": "1943-01-01T00:00:00"
         },
         {
          "allies_guns": 0,
          "allies_infantry": 1500,
          "allies_tanks": 0,
          "axis_guns": 0,
          "axis_infantry": 30000,
          "axis_tanks": 12,
          "label": "Cluster 1",
          "label 2": "Cluster 1",
          "name": "First Battle of Kharkov",
          "result": "axis",
          "start": "1941-10-01T00:00:00"
         },
         {
          "allies_guns": 0,
          "allies_infantry": 32000,
          "allies_tanks": 0,
          "axis_guns": 0,
          "axis_infantry": 15000,
          "axis_tanks": 600,
          "label": "Cluster 1",
          "label 2": "Cluster 1",
          "name": "Battle at Borodino Field",
          "result": null,
          "start": "1941-10-01T00:00:00"
         },
         {
          "allies_guns": 0,
          "allies_infantry": 249800,
          "allies_tanks": 238,
          "axis_guns": 0,
          "axis_infantry": 232549,
          "axis_tanks": 257,
          "label": "Cluster 1",
          "label 2": "Cluster 1",
          "name": "Battle of the Kerch Peninsula",
          "result": "axis",
          "start": "1941-12-01T00:00:00"
         },
         {
          "allies_guns": 0,
          "allies_infantry": 349000,
          "allies_tanks": 120,
          "axis_guns": 0,
          "axis_infantry": 300000,
          "axis_tanks": 250,
          "label": "Cluster 4",
          "label 2": "Cluster 1",
          "name": "Battle of Rostov",
          "result": "axis",
          "start": "1941-11-01T00:00:00"
         },
         {
          "allies_guns": 7600,
          "allies_infantry": 1400000,
          "allies_tanks": 3232,
          "axis_guns": 14000,
          "axis_infantry": 1929406,
          "axis_tanks": 2470,
          "label": "Cluster 5",
          "label 2": "Cluster 2",
          "name": "Battle of Moscow",
          "result": "allies",
          "start": "1941-10-01T00:00:00"
         },
         {
          "allies_guns": 0,
          "allies_infantry": 400000,
          "allies_tanks": 0,
          "axis_guns": 0,
          "axis_infantry": 131000,
          "axis_tanks": 0,
          "label": "Cluster 1",
          "label 2": "Cluster 1",
          "name": "Demyansk Pocket",
          "result": "axis",
          "start": "1942-02-01T00:00:00"
         },
         {
          "allies_guns": 1154,
          "allies_infantry": 765300,
          "allies_tanks": 1476,
          "axis_guns": 0,
          "axis_infantry": 350000,
          "axis_tanks": 507,
          "label": "Cluster 3",
          "label 2": "Cluster 5",
          "name": "Second Battle of Kharkov",
          "result": "axis",
          "start": "1942-05-01T00:00:00"
         },
         {
          "allies_guns": 0,
          "allies_infantry": 800000,
          "allies_tanks": 0,
          "axis_guns": 0,
          "axis_infantry": 2500000,
          "axis_tanks": 0,
          "label": "Cluster 5",
          "label 2": "Cluster 4",
          "name": "Battle of Voronezh (1942)",
          "result": "axis",
          "start": "1942-06-01T00:00:00"
         },
         {
          "allies_guns": 13451,
          "allies_infantry": 187000,
          "allies_tanks": 894,
          "axis_guns": 10250,
          "axis_infantry": 1040000,
          "axis_tanks": 500,
          "label": "Cluster 4",
          "label 2": "Cluster 2",
          "name": "Battle of Stalingrad",
          "result": "allies",
          "start": "1942-08-01T00:00:00"
         },
         {
          "allies_guns": 13451,
          "allies_infantry": 1173500,
          "allies_tanks": 894,
          "axis_guns": 3000,
          "axis_infantry": 1040000,
          "axis_tanks": 950,
          "label": "Cluster 2",
          "label 2": "Cluster 3",
          "name": "Operation Uranus",
          "result": "allies",
          "start": "1942-11-01T00:00:00"
         },
         {
          "allies_guns": 0,
          "allies_infantry": 702923,
          "allies_tanks": 1718,
          "axis_guns": 0,
          "axis_infantry": 350000,
          "axis_tanks": 1615,
          "label": "Cluster 3",
          "label 2": "Cluster 5",
          "name": "Operation Mars",
          "result": "axis",
          "start": "1942-11-01T00:00:00"
         },
         {
          "allies_guns": 0,
          "allies_infantry": 6000,
          "allies_tanks": 0,
          "axis_guns": 0,
          "axis_infantry": 9000,
          "axis_tanks": 0,
          "label": "Cluster 1",
          "label 2": "Cluster 1",
          "name": "Battle of Nikolayevka",
          "result": "axis",
          "start": "1943-01-01T00:00:00"
         },
         {
          "allies_guns": 0,
          "allies_infantry": 50000,
          "allies_tanks": 250,
          "axis_guns": 1500,
          "axis_infantry": 150000,
          "axis_tanks": 630,
          "label": "Cluster 1",
          "label 2": "Cluster 1",
          "name": "Operation Winter Storm",
          "result": "allies",
          "start": "1942-12-01T00:00:00"
         },
         {
          "allies_guns": 0,
          "allies_infantry": 95608,
          "allies_tanks": 0,
          "axis_guns": 0,
          "axis_infantry": 100000,
          "axis_tanks": 0,
          "label": "Cluster 1",
          "label 2": "Cluster 1",
          "name": "Battle for Velikiye Luki (1943)",
          "result": "axis",
          "start": "1942-11-01T00:00:00"
         },
         {
          "allies_guns": 1000,
          "allies_infantry": 33000,
          "allies_tanks": 0,
          "axis_guns": 0,
          "axis_infantry": 5900,
          "axis_tanks": 0,
          "label": "Cluster 1",
          "label 2": "Cluster 1",
          "name": "Battle of Krasny Bor",
          "result": "axis",
          "start": "1943-02-01T00:00:00"
         },
         {
          "allies_guns": 0,
          "allies_infantry": 987000,
          "allies_tanks": 2100,
          "axis_guns": 0,
          "axis_infantry": 327900,
          "axis_tanks": 960,
          "label": "Cluster 3",
          "label 2": "Cluster 5",
          "name": "Battle of Voronezh (1943)",
          "result": "axis",
          "start": "1943-01-01T00:00:00"
         },
         {
          "allies_guns": 0,
          "allies_infantry": 70000,
          "allies_tanks": 0,
          "axis_guns": 0,
          "axis_infantry": 560000,
          "axis_tanks": 0,
          "label": "Cluster 4",
          "label 2": "Cluster 1",
          "name": "Third Battle of Kharkov",
          "result": "axis",
          "start": "1943-02-01T00:00:00"
         },
         {
          "allies_guns": 26379,
          "allies_infantry": 1286000,
          "allies_tanks": 2409,
          "axis_guns": 5500,
          "axis_infantry": 300700,
          "axis_tanks": 625,
          "label": "Cluster 3",
          "label 2": "Cluster 3",
          "name": "Operation Kutuzov",
          "result": "axis",
          "start": "1943-07-01T00:00:00"
         },
         {
          "allies_guns": 0,
          "allies_infantry": 165000,
          "allies_tanks": 0,
          "axis_guns": 0,
          "axis_infantry": 15000,
          "axis_tanks": 400,
          "label": "Cluster 1",
          "label 2": "Cluster 1",
          "name": "Battle of Lenino",
          "result": null,
          "start": "1943-10-01T00:00:00"
         },
         {
          "allies_guns": 5300,
          "allies_infantry": 336700,
          "allies_tanks": 924,
          "axis_guns": 242,
          "axis_infantry": 140000,
          "axis_tanks": 318,
          "label": "Cluster 1",
          "label 2": "Cluster 1",
          "name": "Korsun Pocket",
          "result": "allies",
          "start": "1944-01-01T00:00:00"
         },
         {
          "allies_guns": 8890,
          "allies_infantry": 691000,
          "allies_tanks": 670,
          "axis_guns": 3500,
          "axis_infantry": 400000,
          "axis_tanks": 450,
          "label": "Cluster 3",
          "label 2": "Cluster 3",
          "name": "Uman-Botoshany Offensive",
          "result": "allies",
          "start": "1944-03-01T00:00:00"
         },
         {
          "allies_guns": 4600,
          "allies_infantry": 822000,
          "allies_tanks": 550,
          "axis_guns": 2389,
          "axis_infantry": 500000,
          "axis_tanks": 146,
          "label": "Cluster 3",
          "label 2": "Cluster 3",
          "name": "Leningrad–Novgorod Offensive",
          "result": "allies",
          "start": "1944-01-01T00:00:00"
         },
         {
          "allies_guns": 5300,
          "allies_infantry": 336700,
          "allies_tanks": 524,
          "axis_guns": 242,
          "axis_infantry": 140000,
          "axis_tanks": 318,
          "label": "Cluster 1",
          "label 2": "Cluster 1",
          "name": "Korsun-Cherkassy Pocket",
          "result": "allies",
          "start": "1944-01-01T00:00:00"
         },
         {
          "allies_guns": 1200,
          "allies_infantry": 450000,
          "allies_tanks": 681,
          "axis_guns": 0,
          "axis_infantry": 150000,
          "axis_tanks": 110,
          "label": "Cluster 1",
          "label 2": "Cluster 1",
          "name": "Krasnoye Selo–Ropsha Offensive",
          "result": "axis",
          "start": "1944-01-01T00:00:00"
         },
         {
          "allies_guns": 0,
          "allies_infantry": 300000,
          "allies_tanks": 0,
          "axis_guns": 1500,
          "axis_infantry": 100000,
          "axis_tanks": 100,
          "label": "Cluster 1",
          "label 2": "Cluster 1",
          "name": "Kingisepp–Gdov Offensive",
          "result": "axis",
          "start": "1944-02-01T00:00:00"
         },
         {
          "allies_guns": 300,
          "allies_infantry": 46385,
          "allies_tanks": 0,
          "axis_guns": 36,
          "axis_infantry": 17100,
          "axis_tanks": 0,
          "label": "Cluster 1",
          "label 2": "Cluster 1",
          "name": "Battle of Auvere",
          "result": "axis",
          "start": "1944-07-01T00:00:00"
         },
         {
          "allies_guns": 0,
          "allies_infantry": 200000,
          "allies_tanks": 0,
          "axis_guns": 1500,
          "axis_infantry": 123541,
          "axis_tanks": 100,
          "label": "Cluster 1",
          "label 2": "Cluster 1",
          "name": "Narva Offensive (15–28 February 1944)",
          "result": "axis",
          "start": "1944-02-01T00:00:00"
         },
         {
          "allies_guns": 2500,
          "allies_infantry": 200000,
          "allies_tanks": 100,
          "axis_guns": 0,
          "axis_infantry": 123541,
          "axis_tanks": 0,
          "label": "Cluster 1",
          "label 2": "Cluster 1",
          "name": "Narva Offensive (1–4 March 1944)",
          "result": "axis",
          "start": "1944-03-01T00:00:00"
         },
         {
          "allies_guns": 0,
          "allies_infantry": 136830,
          "allies_tanks": 1830,
          "axis_guns": 0,
          "axis_infantry": 22250,
          "axis_tanks": 87,
          "label": "Cluster 1",
          "label 2": "Cluster 1",
          "name": "Battle of Tannenberg Line",
          "result": "axis",
          "start": "1944-07-01T00:00:00"
         },
         {
          "allies_guns": 10500,
          "allies_infantry": 451500,
          "allies_tanks": 800,
          "axis_guns": 1930,
          "axis_infantry": 75000,
          "axis_tanks": 110,
          "label": "Cluster 1",
          "label 2": "Cluster 3",
          "name": "Vyborg–Petrozavodsk Offensive",
          "result": "allies",
          "start": "1944-06-01T00:00:00"
         },
         {
          "allies_guns": 0,
          "allies_infantry": 7700,
          "allies_tanks": 0,
          "axis_guns": 0,
          "axis_infantry": 100000,
          "axis_tanks": 0,
          "label": "Cluster 1",
          "label 2": "Cluster 1",
          "name": "Vilnius Offensive",
          "result": "axis",
          "start": "1944-07-01T00:00:00"
         },
         {
          "allies_guns": 0,
          "allies_infantry": 150000,
          "allies_tanks": 0,
          "axis_guns": 0,
          "axis_infantry": 54000,
          "axis_tanks": 0,
          "label": "Cluster 1",
          "label 2": "Cluster 1",
          "name": "Battle of Tali-Ihantala",
          "result": "axis",
          "start": "1944-06-01T00:00:00"
         },
         {
          "allies_guns": 11265,
          "allies_infantry": 1002200,
          "allies_tanks": 1979,
          "axis_guns": 6300,
          "axis_infantry": 900000,
          "axis_tanks": 900,
          "label": "Cluster 2",
          "label 2": "Cluster 3",
          "name": "Lvov–Sandomierz Offensive",
          "result": "allies",
          "start": "1944-07-01T00:00:00"
         },
         {
          "allies_guns": 0,
          "allies_infantry": 49000,
          "allies_tanks": 0,
          "axis_guns": 0,
          "axis_infantry": 50000,
          "axis_tanks": 0,
          "label": "Cluster 1",
          "label 2": "Cluster 1",
          "name": "Warsaw Uprising",
          "result": "axis",
          "start": "1944-08-01T00:00:00"
         },
         {
          "allies_guns": 0,
          "allies_infantry": 153500,
          "allies_tanks": 0,
          "axis_guns": 0,
          "axis_infantry": 45000,
          "axis_tanks": 0,
          "label": "Cluster 1",
          "label 2": "Cluster 1",
          "name": "Battle of Studzianki",
          "result": "allies",
          "start": "1944-08-01T00:00:00"
         },
         {
          "allies_guns": 0,
          "allies_infantry": 225000,
          "allies_tanks": 100,
          "axis_guns": 0,
          "axis_infantry": 60000,
          "axis_tanks": 160,
          "label": "Cluster 1",
          "label 2": "Cluster 1",
          "name": "First Battle of Târgu Frumos",
          "result": "axis",
          "start": "1944-04-01T00:00:00"
         },
         {
          "allies_guns": 0,
          "allies_infantry": 18000,
          "allies_tanks": 0,
          "axis_guns": 0,
          "axis_infantry": 83000,
          "axis_tanks": 0,
          "label": "Cluster 1",
          "label 2": "Cluster 1",
          "name": "Slovak National Uprising",
          "result": "axis",
          "start": "1944-10-01T00:00:00"
         },
         {
          "allies_guns": 3241,
          "allies_infantry": 378000,
          "allies_tanks": 1000,
          "axis_guns": 2000,
          "axis_infantry": 100000,
          "axis_tanks": 350,
          "label": "Cluster 1",
          "label 2": "Cluster 1",
          "name": "Battle of the Dukla Pass",
          "result": "axis",
          "start": "1944-09-01T00:00:00"
         },
         {
          "allies_guns": 0,
          "allies_infantry": 10000,
          "allies_tanks": 0,
          "axis_guns": 0,
          "axis_infantry": 1500,
          "axis_tanks": 0,
          "label": "Cluster 1",
          "label 2": "Cluster 1",
          "name": "Battle of Porkuni",
          "result": "axis",
          "start": "1944-09-01T00:00:00"
         },
         {
          "allies_guns": 2100,
          "allies_infantry": 150000,
          "allies_tanks": 125,
          "axis_guns": 3640,
          "axis_infantry": 580000,
          "axis_tanks": 520,
          "label": "Cluster 4",
          "label 2": "Cluster 1",
          "name": "Belgrade Offensive",
          "result": "allies",
          "start": "1944-09-01T00:00:00"
         },
         {
          "allies_guns": 10238,
          "allies_infantry": 865506,
          "allies_tanks": 825,
          "axis_guns": 3500,
          "axis_infantry": 240952,
          "axis_tanks": 293,
          "label": "Cluster 3",
          "label 2": "Cluster 3",
          "name": "Battle of Debrecen",
          "result": "axis",
          "start": "1944-10-01T00:00:00"
         },
         {
          "allies_guns": 0,
          "allies_infantry": 105000,
          "allies_tanks": 0,
          "axis_guns": 0,
          "axis_infantry": 84000,
          "axis_tanks": 0,
          "label": "Cluster 1",
          "label 2": "Cluster 1",
          "name": "Battle of Poznań (1945)",
          "result": "axis",
          "start": "1945-01-01T00:00:00"
         },
         {
          "allies_guns": 5200,
          "allies_infantry": 137000,
          "allies_tanks": 528,
          "axis_guns": 4000,
          "axis_infantry": 130000,
          "axis_tanks": 108,
          "label": "Cluster 1",
          "label 2": "Cluster 1",
          "name": "Battle of Königsberg",
          "result": "axis",
          "start": "1945-01-01T00:00:00"
         },
         {
          "allies_guns": 0,
          "allies_infantry": 300000,
          "allies_tanks": 800,
          "axis_guns": 0,
          "axis_infantry": 30000,
          "axis_tanks": 400,
          "label": "Cluster 1",
          "label 2": "Cluster 1",
          "name": "Defense of Schwedt Bridgehead",
          "result": "allies",
          "start": "1945-02-01T00:00:00"
         },
         {
          "allies_guns": 0,
          "allies_infantry": 50000,
          "allies_tanks": 0,
          "axis_guns": 0,
          "axis_infantry": 87334,
          "axis_tanks": 0,
          "label": "Cluster 1",
          "label 2": "Cluster 1",
          "name": "Siege of Breslau",
          "result": "allies",
          "start": "1945-02-01T00:00:00"
         },
         {
          "allies_guns": 0,
          "allies_infantry": 28000,
          "allies_tanks": 0,
          "axis_guns": 0,
          "axis_infantry": 10000,
          "axis_tanks": 0,
          "label": "Cluster 1",
          "label 2": "Cluster 1",
          "name": "Battle of Kolberg",
          "result": "allies",
          "start": "1945-03-01T00:00:00"
         },
         {
          "allies_guns": 0,
          "allies_infantry": 450000,
          "allies_tanks": 0,
          "axis_guns": 0,
          "axis_infantry": 200000,
          "axis_tanks": 0,
          "label": "Cluster 1",
          "label 2": "Cluster 1",
          "name": "Battle of the Transdanubian Hills",
          "result": "allies",
          "start": "1945-03-01T00:00:00"
         },
         {
          "allies_guns": 0,
          "allies_infantry": 600000,
          "allies_tanks": 0,
          "axis_guns": 0,
          "axis_infantry": 300000,
          "axis_tanks": 0,
          "label": "Cluster 3",
          "label 2": "Cluster 1",
          "name": "Nagykanizsa–Kermend Offensive",
          "result": "allies",
          "start": "1945-03-01T00:00:00"
         },
         {
          "allies_guns": 5425,
          "allies_infantry": 1171800,
          "allies_tanks": 1600,
          "axis_guns": 434,
          "axis_infantry": 270000,
          "axis_tanks": 772,
          "label": "Cluster 3",
          "label 2": "Cluster 3",
          "name": "Vienna Offensive",
          "result": "allies",
          "start": "1945-04-01T00:00:00"
         },
         {
          "allies_guns": 2625,
          "allies_infantry": 112143,
          "allies_tanks": 587,
          "axis_guns": 16934,
          "axis_infantry": 1000000,
          "axis_tanks": 3059,
          "label": "Cluster 4",
          "label 2": "Cluster 2",
          "name": "Battle of the Seelow Heights",
          "result": "allies",
          "start": "1945-04-01T00:00:00"
         },
         {
          "allies_guns": 0,
          "allies_infantry": 280000,
          "allies_tanks": 0,
          "axis_guns": 0,
          "axis_infantry": 80000,
          "axis_tanks": 79,
          "label": "Cluster 1",
          "label 2": "Cluster 1",
          "name": "Battle of Halbe",
          "result": "axis",
          "start": "1945-04-01T00:00:00"
         },
         {
          "allies_guns": 0,
          "allies_infantry": 110000,
          "allies_tanks": 500,
          "axis_guns": 600,
          "axis_infantry": 50000,
          "axis_tanks": 300,
          "label": "Cluster 1",
          "label 2": "Cluster 1",
          "name": "Battle of Bautzen (1945)",
          "result": "axis",
          "start": "1945-04-01T00:00:00"
         },
         {
          "allies_guns": 0,
          "allies_infantry": 2046100,
          "allies_tanks": 0,
          "axis_guns": 0,
          "axis_infantry": 1089000,
          "axis_tanks": 0,
          "label": "Cluster 2",
          "label 2": "Cluster 3",
          "name": "Prague Offensive",
          "result": "allies",
          "start": "1945-05-01T00:00:00"
         },
         {
          "allies_guns": 0,
          "allies_infantry": 35000,
          "allies_tanks": 0,
          "axis_guns": 0,
          "axis_infantry": 1800,
          "axis_tanks": 0,
          "label": "Cluster 1",
          "label 2": "Cluster 1",
          "name": "Battle of Odzak",
          "result": "allies",
          "start": "1945-04-01T00:00:00"
         }
        ]
       },
       "encoding": {
        "color": {
         "field": "label 2",
         "legend": {
          "title": "Cluster"
         },
         "type": "nominal"
        },
        "shape": {
         "field": "result",
         "type": "nominal"
        },
        "tooltip": [
         {
          "field": "allies_infantry",
          "type": "quantitative"
         },
         {
          "field": "axis_infantry",
          "type": "quantitative"
         },
         {
          "field": "allies_tanks",
          "type": "quantitative"
         },
         {
          "field": "axis_tanks",
          "type": "quantitative"
         },
         {
          "field": "allies_guns",
          "type": "quantitative"
         },
         {
          "field": "axis_guns",
          "type": "quantitative"
         },
         {
          "field": "label",
          "type": "nominal"
         },
         {
          "field": "name",
          "type": "nominal"
         },
         {
          "field": "result",
          "type": "nominal"
         },
         {
          "field": "start",
          "type": "temporal"
         }
        ],
        "x": {
         "field": "allies_infantry",
         "type": "quantitative"
        },
        "y": {
         "field": "axis_infantry",
         "type": "quantitative"
        }
       },
       "mark": "point",
       "selection": {
        "selector007": {
         "bind": "scales",
         "encodings": [
          "x",
          "y"
         ],
         "type": "interval"
        }
       }
      },
      "image/png": "[encoded data removed]",
      "text/plain": [
       "<VegaLite 3 object>\n",
       "\n",
       "If you see this message, it means the renderer has not been properly enabled\n",
       "for the frontend that you are using. For more information, see\n",
       "https://altair-viz.github.io/user_guide/troubleshooting.html\n"
      ]
     },
     "execution_count": 89,
     "metadata": {},
     "output_type": "execute_result"
    }
   ],
   "source": [
    "c.encode(color=alt.Color('label 2:N', legend=alt.Legend(title='Cluster')))"
   ]
  },
  {
   "cell_type": "code",
   "execution_count": null,
   "metadata": {},
   "outputs": [],
   "source": [
    "data"
   ]
  }
 ],
 "metadata": {
  "kernelspec": {
   "display_name": "Python 3",
   "language": "python",
   "name": "python3"
  },
  "language_info": {
   "codemirror_mode": {
    "name": "ipython",
    "version": 3
   },
   "file_extension": ".py",
   "mimetype": "text/x-python",
   "name": "python",
   "nbconvert_exporter": "python",
   "pygments_lexer": "ipython3",
   "version": "3.7.3"
  }
 },
 "nbformat": 4,
 "nbformat_minor": 4
}
