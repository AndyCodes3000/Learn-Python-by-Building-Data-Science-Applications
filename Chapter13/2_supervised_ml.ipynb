{
 "cells": [
  {
   "cell_type": "code",
   "execution_count": 1,
   "metadata": {},
   "outputs": [],
   "source": [
    "import pandas as pd\n",
    "import numpy as np\n",
    "\n",
    "%matplotlib inline\n",
    "import pylab as plt\n",
    "plt.style.use('fivethirtyeight')"
   ]
  },
  {
   "cell_type": "code",
   "execution_count": 2,
   "metadata": {},
   "outputs": [],
   "source": [
    "from sklearn.model_selection import train_test_split\n",
    "from sklearn.metrics import accuracy_score, classification_report"
   ]
  },
  {
   "cell_type": "markdown",
   "metadata": {},
   "source": [
    "# Read data"
   ]
  },
  {
   "cell_type": "code",
   "execution_count": 3,
   "metadata": {},
   "outputs": [],
   "source": [
    "data = pd.read_csv('./data/EF_battles_corrected.csv', parse_dates=['start', 'end'])"
   ]
  },
  {
   "cell_type": "code",
   "execution_count": 4,
   "metadata": {},
   "outputs": [],
   "source": [
    "data['end_num'] = (data['end'].dt.year -1938) * 12 +  data['end'].dt.month\n",
    "data['start_num'] = (data['start'].dt.year -1938) * 12 +  data['start'].dt.month\n",
    "data['duration'] = (data['end_num'] - data['start_num']).clip(lower=1)"
   ]
  },
  {
   "cell_type": "code",
   "execution_count": 5,
   "metadata": {},
   "outputs": [],
   "source": [
    "cols = [\n",
    "    'allies_infantry', 'axis_infantry',\n",
    "    'allies_tanks', 'axis_tanks',\n",
    "    'allies_guns', 'axis_guns'\n",
    "]\n"
   ]
  },
  {
   "cell_type": "code",
   "execution_count": 6,
   "metadata": {},
   "outputs": [],
   "source": [
    "data['result_num'] = data['result'].map({'axis':-1, 'allies':1}).fillna(0)  # 0 for tie"
   ]
  },
  {
   "cell_type": "code",
   "execution_count": 7,
   "metadata": {},
   "outputs": [
    {
     "data": {
      "text/plain": [
       "-1.0    93\n",
       " 1.0    34\n",
       " 0.0     6\n",
       "Name: result_num, dtype: int64"
      ]
     },
     "execution_count": 7,
     "metadata": {},
     "output_type": "execute_result"
    }
   ],
   "source": [
    "data['result_num'].value_counts()"
   ]
  },
  {
   "cell_type": "code",
   "execution_count": 8,
   "metadata": {},
   "outputs": [],
   "source": [
    "from sklearn.model_selection import train_test_split"
   ]
  },
  {
   "cell_type": "code",
   "execution_count": 9,
   "metadata": {},
   "outputs": [],
   "source": [
    "mask = data[cols].isnull().any(1)\n",
    "X = data.loc[~mask, cols]\n",
    "y = data.loc[~mask, 'result_num']"
   ]
  },
  {
   "cell_type": "code",
   "execution_count": 10,
   "metadata": {},
   "outputs": [],
   "source": [
    "Xtrain, Xtest, ytrain, ytest = train_test_split(X, \n",
    "                                                y, \n",
    "                                                test_size=0.2, random_state=2018)"
   ]
  },
  {
   "cell_type": "code",
   "execution_count": 11,
   "metadata": {},
   "outputs": [],
   "source": [
    "from sklearn.preprocessing import StandardScaler\n",
    "s = StandardScaler()\n",
    "\n",
    "Xtrains = s.fit_transform(Xtrain)\n",
    "Xtests = s.transform(Xtest) # used mean and std from Xtrain"
   ]
  },
  {
   "cell_type": "markdown",
   "metadata": {},
   "source": [
    "# 2. Supervised Learning"
   ]
  },
  {
   "cell_type": "markdown",
   "metadata": {},
   "source": [
    "### KNN"
   ]
  },
  {
   "cell_type": "code",
   "execution_count": 12,
   "metadata": {},
   "outputs": [
    {
     "data": {
      "text/plain": [
       "KNeighborsClassifier(algorithm='auto', leaf_size=30, metric='minkowski',\n",
       "                     metric_params=None, n_jobs=None, n_neighbors=5, p=2,\n",
       "                     weights='uniform')"
      ]
     },
     "execution_count": 12,
     "metadata": {},
     "output_type": "execute_result"
    }
   ],
   "source": [
    "from sklearn.neighbors import KNeighborsClassifier\n",
    "model = KNeighborsClassifier(n_neighbors=5) # again, arbitrary number\n",
    "model.fit(Xtrains, ytrain)"
   ]
  },
  {
   "cell_type": "code",
   "execution_count": 13,
   "metadata": {},
   "outputs": [
    {
     "data": {
      "text/plain": [
       "0.5"
      ]
     },
     "execution_count": 13,
     "metadata": {},
     "output_type": "execute_result"
    }
   ],
   "source": [
    "ypred1 = model.predict(Xtest)\n",
    "accuracy_score(ytest, ypred1)"
   ]
  },
  {
   "cell_type": "code",
   "execution_count": 14,
   "metadata": {},
   "outputs": [
    {
     "data": {
      "text/plain": [
       "4     -1.0\n",
       "27    -1.0\n",
       "126    1.0\n",
       "71     1.0\n",
       "111    1.0\n",
       "70     1.0\n",
       "84     1.0\n",
       "118   -1.0\n",
       "128    1.0\n",
       "54     1.0\n",
       "98     1.0\n",
       "55     1.0\n",
       "73     1.0\n",
       "42    -1.0\n",
       "66    -1.0\n",
       "Name: result_num, dtype: float64"
      ]
     },
     "execution_count": 14,
     "metadata": {},
     "output_type": "execute_result"
    }
   ],
   "source": [
    "ytrain"
   ]
  },
  {
   "cell_type": "markdown",
   "metadata": {},
   "source": [
    "### Showing \"Neighbors\" - similar records"
   ]
  },
  {
   "cell_type": "code",
   "execution_count": 44,
   "metadata": {},
   "outputs": [
    {
     "data": {
      "text/plain": [
       "name                                                  Battle of the Dukla Pass\n",
       "url                          https://en.wikipedia.org/wiki/Battle_of_the_Du...\n",
       "allies killed                                                            10060\n",
       "axis killed                                                              70000\n",
       "allies_destroyed_tanks                                                       0\n",
       "allies_destroyed_airplane                                                    0\n",
       "allies_destroyed_guns                                                        0\n",
       "axis_destroyed_tanks                                                         0\n",
       "axis_destroyed_airplane                                                      0\n",
       "axis_destroyed_guns                                                          0\n",
       "belligerents.allies                              Soviet Union   Czechoslovakia\n",
       "belligerents.axis                                            Germany   Hungary\n",
       "axis_leaders                      Gotthard Heinrici,Béla Miklós,,Dezső László,\n",
       "allies_leaders               Ivan Konev,Andrei Grechko,Kirill Moskalenko,Lu...\n",
       "result_prop                                                                0.5\n",
       "result                                                                    axis\n",
       "axis_planes                                                                NaN\n",
       "axis_guns                                                                 2000\n",
       "axis_tanks                                                                 350\n",
       "axis_infantry                                                           100000\n",
       "allies_planes                                                              NaN\n",
       "allies_guns                                                               3241\n",
       "allies_tanks                                                              1000\n",
       "allies_infantry                                                         378000\n",
       "level                                                                      100\n",
       "parent                                                           Eastern Front\n",
       "latlon                                                                     NaN\n",
       "start                                                      1944-09-01 00:00:00\n",
       "end                                                        1944-10-01 00:00:00\n",
       "end_num                                                                     82\n",
       "start_num                                                                   81\n",
       "duration                                                                     1\n",
       "result_num                                                                  -1\n",
       "Name: 106, dtype: object"
      ]
     },
     "execution_count": 44,
     "metadata": {},
     "output_type": "execute_result"
    }
   ],
   "source": [
    "data.loc[106]"
   ]
  },
  {
   "cell_type": "code",
   "execution_count": 15,
   "metadata": {},
   "outputs": [
    {
     "data": {
      "text/html": [
       "<div>\n",
       "<style scoped>\n",
       "    .dataframe tbody tr th:only-of-type {\n",
       "        vertical-align: middle;\n",
       "    }\n",
       "\n",
       "    .dataframe tbody tr th {\n",
       "        vertical-align: top;\n",
       "    }\n",
       "\n",
       "    .dataframe thead th {\n",
       "        text-align: right;\n",
       "    }\n",
       "</style>\n",
       "<table border=\"1\" class=\"dataframe\">\n",
       "  <thead>\n",
       "    <tr style=\"text-align: right;\">\n",
       "      <th></th>\n",
       "      <th>allies_infantry</th>\n",
       "      <th>axis_infantry</th>\n",
       "      <th>allies_tanks</th>\n",
       "      <th>axis_tanks</th>\n",
       "      <th>allies_guns</th>\n",
       "      <th>axis_guns</th>\n",
       "    </tr>\n",
       "  </thead>\n",
       "  <tbody>\n",
       "    <tr>\n",
       "      <th>106</th>\n",
       "      <td>378000.0</td>\n",
       "      <td>100000.0</td>\n",
       "      <td>1000.0</td>\n",
       "      <td>350.0</td>\n",
       "      <td>3241.0</td>\n",
       "      <td>2000.0</td>\n",
       "    </tr>\n",
       "  </tbody>\n",
       "</table>\n",
       "</div>"
      ],
      "text/plain": [
       "     allies_infantry  axis_infantry  allies_tanks  axis_tanks  allies_guns  \\\n",
       "106         378000.0       100000.0        1000.0       350.0       3241.0   \n",
       "\n",
       "     axis_guns  \n",
       "106     2000.0  "
      ]
     },
     "execution_count": 15,
     "metadata": {},
     "output_type": "execute_result"
    }
   ],
   "source": [
    "Xtest.head(1)"
   ]
  },
  {
   "cell_type": "code",
   "execution_count": 16,
   "metadata": {},
   "outputs": [
    {
     "data": {
      "text/html": [
       "<div>\n",
       "<style scoped>\n",
       "    .dataframe tbody tr th:only-of-type {\n",
       "        vertical-align: middle;\n",
       "    }\n",
       "\n",
       "    .dataframe tbody tr th {\n",
       "        vertical-align: top;\n",
       "    }\n",
       "\n",
       "    .dataframe thead th {\n",
       "        text-align: right;\n",
       "    }\n",
       "</style>\n",
       "<table border=\"1\" class=\"dataframe\">\n",
       "  <thead>\n",
       "    <tr style=\"text-align: right;\">\n",
       "      <th></th>\n",
       "      <th>allies_infantry</th>\n",
       "      <th>axis_infantry</th>\n",
       "      <th>allies_tanks</th>\n",
       "      <th>axis_tanks</th>\n",
       "      <th>allies_guns</th>\n",
       "      <th>axis_guns</th>\n",
       "    </tr>\n",
       "  </thead>\n",
       "  <tbody>\n",
       "    <tr>\n",
       "      <th>55</th>\n",
       "      <td>1173500.0</td>\n",
       "      <td>1040000.0</td>\n",
       "      <td>894.0</td>\n",
       "      <td>950.0</td>\n",
       "      <td>13451.0</td>\n",
       "      <td>3000.0</td>\n",
       "    </tr>\n",
       "    <tr>\n",
       "      <th>66</th>\n",
       "      <td>1286000.0</td>\n",
       "      <td>300700.0</td>\n",
       "      <td>2409.0</td>\n",
       "      <td>625.0</td>\n",
       "      <td>26379.0</td>\n",
       "      <td>5500.0</td>\n",
       "    </tr>\n",
       "    <tr>\n",
       "      <th>98</th>\n",
       "      <td>1002200.0</td>\n",
       "      <td>900000.0</td>\n",
       "      <td>1979.0</td>\n",
       "      <td>900.0</td>\n",
       "      <td>11265.0</td>\n",
       "      <td>6300.0</td>\n",
       "    </tr>\n",
       "    <tr>\n",
       "      <th>126</th>\n",
       "      <td>1171800.0</td>\n",
       "      <td>270000.0</td>\n",
       "      <td>1600.0</td>\n",
       "      <td>772.0</td>\n",
       "      <td>5425.0</td>\n",
       "      <td>434.0</td>\n",
       "    </tr>\n",
       "    <tr>\n",
       "      <th>73</th>\n",
       "      <td>822000.0</td>\n",
       "      <td>500000.0</td>\n",
       "      <td>550.0</td>\n",
       "      <td>146.0</td>\n",
       "      <td>4600.0</td>\n",
       "      <td>2389.0</td>\n",
       "    </tr>\n",
       "  </tbody>\n",
       "</table>\n",
       "</div>"
      ],
      "text/plain": [
       "     allies_infantry  axis_infantry  allies_tanks  axis_tanks  allies_guns  \\\n",
       "55         1173500.0      1040000.0         894.0       950.0      13451.0   \n",
       "66         1286000.0       300700.0        2409.0       625.0      26379.0   \n",
       "98         1002200.0       900000.0        1979.0       900.0      11265.0   \n",
       "126        1171800.0       270000.0        1600.0       772.0       5425.0   \n",
       "73          822000.0       500000.0         550.0       146.0       4600.0   \n",
       "\n",
       "     axis_guns  \n",
       "55      3000.0  \n",
       "66      5500.0  \n",
       "98      6300.0  \n",
       "126      434.0  \n",
       "73      2389.0  "
      ]
     },
     "execution_count": 16,
     "metadata": {},
     "output_type": "execute_result"
    }
   ],
   "source": [
    "Xtrain.iloc[model.kneighbors(Xtest.head(1))[1][0]]"
   ]
  },
  {
   "cell_type": "code",
   "execution_count": 51,
   "metadata": {},
   "outputs": [
    {
     "data": {
      "text/plain": [
       "106   1944-09-01\n",
       "55    1942-11-01\n",
       "66    1943-07-01\n",
       "98    1944-07-01\n",
       "126   1945-04-01\n",
       "73    1944-01-01\n",
       "Name: start, dtype: datetime64[ns]"
      ]
     },
     "execution_count": 51,
     "metadata": {},
     "output_type": "execute_result"
    }
   ],
   "source": [
    "data.loc[[106, 55, 66,98, 126, 73], 'start']"
   ]
  },
  {
   "cell_type": "markdown",
   "metadata": {},
   "source": [
    "# Linear Regression"
   ]
  },
  {
   "cell_type": "code",
   "execution_count": 17,
   "metadata": {},
   "outputs": [],
   "source": [
    "from sklearn.linear_model import LinearRegression\n",
    "from sklearn.metrics import median_absolute_error"
   ]
  },
  {
   "cell_type": "code",
   "execution_count": 18,
   "metadata": {},
   "outputs": [],
   "source": [
    "cols = [\n",
    "    'allies_infantry', 'axis_infantry',\n",
    "    'allies_tanks', 'axis_tanks',\n",
    "    'allies_guns', 'axis_guns',\n",
    "    'start_num'\n",
    "]\n"
   ]
  },
  {
   "cell_type": "code",
   "execution_count": 19,
   "metadata": {},
   "outputs": [],
   "source": [
    "mask = data[cols + ['allies killed']].isnull().any(1)"
   ]
  },
  {
   "cell_type": "code",
   "execution_count": 20,
   "metadata": {},
   "outputs": [],
   "source": [
    "y = data.loc[~mask, 'allies killed']\n",
    "X = data.loc[~mask, cols]"
   ]
  },
  {
   "cell_type": "code",
   "execution_count": 21,
   "metadata": {},
   "outputs": [],
   "source": [
    "Xtrain, Xtest, ytrain, ytest = train_test_split(X, \n",
    "                                                y, \n",
    "                                                test_size=0.3, random_state=2019)"
   ]
  },
  {
   "cell_type": "code",
   "execution_count": 22,
   "metadata": {},
   "outputs": [
    {
     "data": {
      "text/plain": [
       "LinearRegression(copy_X=True, fit_intercept=True, n_jobs=None, normalize=False)"
      ]
     },
     "execution_count": 22,
     "metadata": {},
     "output_type": "execute_result"
    }
   ],
   "source": [
    "model = LinearRegression()\n",
    "model.fit(Xtrain, ytrain)"
   ]
  },
  {
   "cell_type": "code",
   "execution_count": 23,
   "metadata": {},
   "outputs": [],
   "source": [
    "ypred = model.predict(Xtest)"
   ]
  },
  {
   "cell_type": "code",
   "execution_count": 24,
   "metadata": {},
   "outputs": [
    {
     "data": {
      "text/plain": [
       "42584.419274116095"
      ]
     },
     "execution_count": 24,
     "metadata": {},
     "output_type": "execute_result"
    }
   ],
   "source": [
    "median_absolute_error(ytest, ypred)"
   ]
  },
  {
   "cell_type": "code",
   "execution_count": 25,
   "metadata": {},
   "outputs": [
    {
     "data": {
      "text/plain": [
       "111    4.934710e+04\n",
       "27    -3.582174e+04\n",
       "42     2.148667e+04\n",
       "106   -1.191980e+03\n",
       "54    -1.007381e+06\n",
       "49    -9.226890e+05\n",
       "Name: allies killed, dtype: float64"
      ]
     },
     "execution_count": 25,
     "metadata": {},
     "output_type": "execute_result"
    }
   ],
   "source": [
    "(ypred - ytest)"
   ]
  },
  {
   "cell_type": "code",
   "execution_count": 26,
   "metadata": {},
   "outputs": [
    {
     "data": {
      "text/plain": [
       "allies_infantry     0.024922\n",
       "axis_infantry       0.079912\n",
       "allies_tanks      -25.215543\n",
       "axis_tanks        -19.178557\n",
       "allies_guns         3.797002\n",
       "axis_guns           0.387496\n",
       "start_num         -50.093280\n",
       "dtype: float64"
      ]
     },
     "execution_count": 26,
     "metadata": {},
     "output_type": "execute_result"
    }
   ],
   "source": [
    "pd.Series(model.coef_, index=X.columns)"
   ]
  },
  {
   "cell_type": "markdown",
   "metadata": {},
   "source": [
    "# Decision tree"
   ]
  },
  {
   "cell_type": "code",
   "execution_count": 52,
   "metadata": {},
   "outputs": [],
   "source": [
    "from sklearn.tree import DecisionTreeClassifier, export_graphviz\n",
    "from io import StringIO\n",
    "from IPython.display import Image  \n",
    "import pydotplus"
   ]
  },
  {
   "cell_type": "code",
   "execution_count": 53,
   "metadata": {},
   "outputs": [],
   "source": [
    "cols = [\n",
    "    'allies_infantry', 'axis_infantry',\n",
    "    'allies_tanks', 'axis_tanks',\n",
    "    'allies_guns', 'axis_guns'\n",
    "]\n"
   ]
  },
  {
   "cell_type": "code",
   "execution_count": 54,
   "metadata": {},
   "outputs": [],
   "source": [
    "mask = data[cols].isnull().any(1)\n",
    "X = data.loc[~mask, cols]\n",
    "y = data.loc[~mask, 'result_num']"
   ]
  },
  {
   "cell_type": "code",
   "execution_count": 55,
   "metadata": {},
   "outputs": [],
   "source": [
    "Xtrain, Xtest, ytrain, ytest = train_test_split(X, \n",
    "                                                y, \n",
    "                                                test_size=0.2, random_state=2019)"
   ]
  },
  {
   "cell_type": "code",
   "execution_count": 56,
   "metadata": {},
   "outputs": [
    {
     "data": {
      "text/plain": [
       "DecisionTreeClassifier(class_weight=None, criterion='gini', max_depth=None,\n",
       "                       max_features=None, max_leaf_nodes=None,\n",
       "                       min_impurity_decrease=0.0, min_impurity_split=None,\n",
       "                       min_samples_leaf=1, min_samples_split=2,\n",
       "                       min_weight_fraction_leaf=0.0, presort=False,\n",
       "                       random_state=2019, splitter='best')"
      ]
     },
     "execution_count": 56,
     "metadata": {},
     "output_type": "execute_result"
    }
   ],
   "source": [
    "tree_model = DecisionTreeClassifier(random_state=2019)\n",
    "tree_model.fit(Xtrain, ytrain)"
   ]
  },
  {
   "cell_type": "code",
   "execution_count": 57,
   "metadata": {},
   "outputs": [
    {
     "data": {
      "text/plain": [
       "0.5"
      ]
     },
     "execution_count": 57,
     "metadata": {},
     "output_type": "execute_result"
    }
   ],
   "source": [
    "accuracy_score(ytest, tree_model.predict(Xtest))"
   ]
  },
  {
   "cell_type": "code",
   "execution_count": 58,
   "metadata": {},
   "outputs": [
    {
     "data": {
      "text/plain": [
       "array([ 1.,  1.,  1., -1.])"
      ]
     },
     "execution_count": 58,
     "metadata": {},
     "output_type": "execute_result"
    }
   ],
   "source": [
    "tree_model.predict(Xtest)"
   ]
  },
  {
   "cell_type": "markdown",
   "metadata": {},
   "source": [
    "## Visualize the graph"
   ]
  },
  {
   "cell_type": "code",
   "execution_count": 59,
   "metadata": {},
   "outputs": [
    {
     "data": {
      "image/png": "[encoded data removed]",
      "text/plain": [
       "<IPython.core.display.Image object>"
      ]
     },
     "execution_count": 59,
     "metadata": {},
     "output_type": "execute_result"
    }
   ],
   "source": [
    "dot_data = StringIO()\n",
    "\n",
    "export_graphviz(tree_model, out_file=dot_data,  \n",
    "                filled=True, rounded=True,\n",
    "                special_characters=True, feature_names=cols)\n",
    "\n",
    "graph = pydotplus.graph_from_dot_data(dot_data.getvalue())  \n",
    "Image(graph.create_png())"
   ]
  },
  {
   "cell_type": "code",
   "execution_count": null,
   "metadata": {},
   "outputs": [],
   "source": []
  }
 ],
 "metadata": {
  "kernelspec": {
   "display_name": "Python 3",
   "language": "python",
   "name": "python3"
  },
  "language_info": {
   "codemirror_mode": {
    "name": "ipython",
    "version": 3
   },
   "file_extension": ".py",
   "mimetype": "text/x-python",
   "name": "python",
   "nbconvert_exporter": "python",
   "pygments_lexer": "ipython3",
   "version": "3.7.3"
  }
 },
 "nbformat": 4,
 "nbformat_minor": 4
}
