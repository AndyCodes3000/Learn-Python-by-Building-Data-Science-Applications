{
 "cells": [
  {
   "cell_type": "code",
   "execution_count": 75,
   "metadata": {},
   "outputs": [],
   "source": [
    "import pandas as pd\n",
    "from sklearn.ensemble import RandomForestRegressor\n",
    "from sklearn.preprocessing import OrdinalEncoder, OneHotEncoder\n",
    "from sklearn.compose import ColumnTransformer\n",
    "from sklearn.pipeline import Pipeline\n",
    "from sklearn.model_selection import  cross_validate\n",
    "from sklearn.base import BaseEstimator\n",
    "from sklearn.metrics import (make_scorer, mean_absolute_error)"
   ]
  },
  {
   "cell_type": "code",
   "execution_count": 76,
   "metadata": {},
   "outputs": [
    {
     "data": {
      "text/plain": [
       "'0.21.1'"
      ]
     },
     "execution_count": 76,
     "metadata": {},
     "output_type": "execute_result"
    }
   ],
   "source": [
    "from sklearn import __version__\n",
    "__version__\n"
   ]
  },
  {
   "cell_type": "code",
   "execution_count": 77,
   "metadata": {},
   "outputs": [],
   "source": [
    "from _compute_median import _read_all_data"
   ]
  },
  {
   "cell_type": "code",
   "execution_count": 78,
   "metadata": {},
   "outputs": [],
   "source": [
    "data = _read_all_data()"
   ]
  },
  {
   "cell_type": "code",
   "execution_count": 79,
   "metadata": {},
   "outputs": [
    {
     "data": {
      "text/html": [
       "<div>\n",
       "<style scoped>\n",
       "    .dataframe tbody tr th:only-of-type {\n",
       "        vertical-align: middle;\n",
       "    }\n",
       "\n",
       "    .dataframe tbody tr th {\n",
       "        vertical-align: top;\n",
       "    }\n",
       "\n",
       "    .dataframe thead th {\n",
       "        text-align: right;\n",
       "    }\n",
       "</style>\n",
       "<table border=\"1\" class=\"dataframe\">\n",
       "  <thead>\n",
       "    <tr style=\"text-align: right;\">\n",
       "      <th></th>\n",
       "      <th>address_type</th>\n",
       "      <th>agency</th>\n",
       "      <th>agency_name</th>\n",
       "      <th>bbl</th>\n",
       "      <th>borough</th>\n",
       "      <th>city</th>\n",
       "      <th>closed_date</th>\n",
       "      <th>community_board</th>\n",
       "      <th>complaint_type</th>\n",
       "      <th>created_date</th>\n",
       "      <th>...</th>\n",
       "      <th>taxi_pick_up_location</th>\n",
       "      <th>unique_key</th>\n",
       "      <th>x_coordinate_state_plane</th>\n",
       "      <th>y_coordinate_state_plane</th>\n",
       "      <th>bridge_highway_direction</th>\n",
       "      <th>bridge_highway_name</th>\n",
       "      <th>bridge_highway_segment</th>\n",
       "      <th>landmark</th>\n",
       "      <th>road_ramp</th>\n",
       "      <th>vehicle_type</th>\n",
       "    </tr>\n",
       "  </thead>\n",
       "  <tbody>\n",
       "    <tr>\n",
       "      <th>0</th>\n",
       "      <td>ADDRESS</td>\n",
       "      <td>DSNY</td>\n",
       "      <td>Department of Sanitation</td>\n",
       "      <td>4.035140e+09</td>\n",
       "      <td>QUEENS</td>\n",
       "      <td>Ridgewood</td>\n",
       "      <td>NaT</td>\n",
       "      <td>05 QUEENS</td>\n",
       "      <td>Electronics Waste</td>\n",
       "      <td>2019-06-08 00:00:00</td>\n",
       "      <td>...</td>\n",
       "      <td>NaN</td>\n",
       "      <td>42895926</td>\n",
       "      <td>1012550.0</td>\n",
       "      <td>195539.0</td>\n",
       "      <td>NaN</td>\n",
       "      <td>NaN</td>\n",
       "      <td>NaN</td>\n",
       "      <td>NaN</td>\n",
       "      <td>NaN</td>\n",
       "      <td>NaN</td>\n",
       "    </tr>\n",
       "    <tr>\n",
       "      <th>1</th>\n",
       "      <td>ADDRESS</td>\n",
       "      <td>NYPD</td>\n",
       "      <td>New York City Police Department</td>\n",
       "      <td>3.052260e+09</td>\n",
       "      <td>BROOKLYN</td>\n",
       "      <td>BROOKLYN</td>\n",
       "      <td>NaT</td>\n",
       "      <td>14 BROOKLYN</td>\n",
       "      <td>Noise - Commercial</td>\n",
       "      <td>2019-06-08 00:00:09</td>\n",
       "      <td>...</td>\n",
       "      <td>NaN</td>\n",
       "      <td>42903971</td>\n",
       "      <td>997657.0</td>\n",
       "      <td>171220.0</td>\n",
       "      <td>NaN</td>\n",
       "      <td>NaN</td>\n",
       "      <td>NaN</td>\n",
       "      <td>NaN</td>\n",
       "      <td>NaN</td>\n",
       "      <td>NaN</td>\n",
       "    </tr>\n",
       "    <tr>\n",
       "      <th>2</th>\n",
       "      <td>ADDRESS</td>\n",
       "      <td>NYPD</td>\n",
       "      <td>New York City Police Department</td>\n",
       "      <td>2.023950e+09</td>\n",
       "      <td>BRONX</td>\n",
       "      <td>BRONX</td>\n",
       "      <td>2019-06-08 01:16:40</td>\n",
       "      <td>03 BRONX</td>\n",
       "      <td>Noise - Residential</td>\n",
       "      <td>2019-06-08 00:00:10</td>\n",
       "      <td>...</td>\n",
       "      <td>NaN</td>\n",
       "      <td>42903748</td>\n",
       "      <td>1009513.0</td>\n",
       "      <td>242412.0</td>\n",
       "      <td>NaN</td>\n",
       "      <td>NaN</td>\n",
       "      <td>NaN</td>\n",
       "      <td>NaN</td>\n",
       "      <td>NaN</td>\n",
       "      <td>NaN</td>\n",
       "    </tr>\n",
       "    <tr>\n",
       "      <th>3</th>\n",
       "      <td>ADDRESS</td>\n",
       "      <td>NYPD</td>\n",
       "      <td>New York City Police Department</td>\n",
       "      <td>4.003320e+09</td>\n",
       "      <td>QUEENS</td>\n",
       "      <td>ASTORIA</td>\n",
       "      <td>NaT</td>\n",
       "      <td>01 QUEENS</td>\n",
       "      <td>Noise - Residential</td>\n",
       "      <td>2019-06-08 00:00:10</td>\n",
       "      <td>...</td>\n",
       "      <td>NaN</td>\n",
       "      <td>42902798</td>\n",
       "      <td>1002120.0</td>\n",
       "      <td>216630.0</td>\n",
       "      <td>NaN</td>\n",
       "      <td>NaN</td>\n",
       "      <td>NaN</td>\n",
       "      <td>NaN</td>\n",
       "      <td>NaN</td>\n",
       "      <td>NaN</td>\n",
       "    </tr>\n",
       "  </tbody>\n",
       "</table>\n",
       "<p>4 rows × 41 columns</p>\n",
       "</div>"
      ],
      "text/plain": [
       "  address_type agency                      agency_name           bbl  \\\n",
       "0      ADDRESS   DSNY         Department of Sanitation  4.035140e+09   \n",
       "1      ADDRESS   NYPD  New York City Police Department  3.052260e+09   \n",
       "2      ADDRESS   NYPD  New York City Police Department  2.023950e+09   \n",
       "3      ADDRESS   NYPD  New York City Police Department  4.003320e+09   \n",
       "\n",
       "    borough       city         closed_date community_board  \\\n",
       "0    QUEENS  Ridgewood                 NaT       05 QUEENS   \n",
       "1  BROOKLYN   BROOKLYN                 NaT     14 BROOKLYN   \n",
       "2     BRONX      BRONX 2019-06-08 01:16:40        03 BRONX   \n",
       "3    QUEENS    ASTORIA                 NaT       01 QUEENS   \n",
       "\n",
       "        complaint_type        created_date      ...       \\\n",
       "0    Electronics Waste 2019-06-08 00:00:00      ...        \n",
       "1   Noise - Commercial 2019-06-08 00:00:09      ...        \n",
       "2  Noise - Residential 2019-06-08 00:00:10      ...        \n",
       "3  Noise - Residential 2019-06-08 00:00:10      ...        \n",
       "\n",
       "  taxi_pick_up_location unique_key x_coordinate_state_plane  \\\n",
       "0                   NaN   42895926                1012550.0   \n",
       "1                   NaN   42903971                 997657.0   \n",
       "2                   NaN   42903748                1009513.0   \n",
       "3                   NaN   42902798                1002120.0   \n",
       "\n",
       "  y_coordinate_state_plane bridge_highway_direction bridge_highway_name  \\\n",
       "0                 195539.0                      NaN                 NaN   \n",
       "1                 171220.0                      NaN                 NaN   \n",
       "2                 242412.0                      NaN                 NaN   \n",
       "3                 216630.0                      NaN                 NaN   \n",
       "\n",
       "   bridge_highway_segment landmark road_ramp  vehicle_type  \n",
       "0                     NaN      NaN       NaN           NaN  \n",
       "1                     NaN      NaN       NaN           NaN  \n",
       "2                     NaN      NaN       NaN           NaN  \n",
       "3                     NaN      NaN       NaN           NaN  \n",
       "\n",
       "[4 rows x 41 columns]"
      ]
     },
     "execution_count": 79,
     "metadata": {},
     "output_type": "execute_result"
    }
   ],
   "source": [
    "data.head(4)"
   ]
  },
  {
   "cell_type": "code",
   "execution_count": 80,
   "metadata": {},
   "outputs": [
    {
     "data": {
      "text/plain": [
       "Index(['address_type', 'agency', 'agency_name', 'bbl', 'borough', 'city',\n",
       "       'closed_date', 'community_board', 'complaint_type', 'created_date',\n",
       "       'cross_street_1', 'cross_street_2', 'descriptor', 'due_date',\n",
       "       'facility_type', 'incident_address', 'incident_zip',\n",
       "       'intersection_street_1', 'intersection_street_2', 'latitude',\n",
       "       'location', 'location_type', 'longitude', 'open_data_channel_type',\n",
       "       'park_borough', 'park_facility_name', 'resolution_action_updated_date',\n",
       "       'resolution_description', 'status', 'street_name',\n",
       "       'taxi_company_borough', 'taxi_pick_up_location', 'unique_key',\n",
       "       'x_coordinate_state_plane', 'y_coordinate_state_plane',\n",
       "       'bridge_highway_direction', 'bridge_highway_name',\n",
       "       'bridge_highway_segment', 'landmark', 'road_ramp', 'vehicle_type'],\n",
       "      dtype='object')"
      ]
     },
     "execution_count": 80,
     "metadata": {},
     "output_type": "execute_result"
    }
   ],
   "source": [
    "data.columns"
   ]
  },
  {
   "cell_type": "code",
   "execution_count": 81,
   "metadata": {},
   "outputs": [],
   "source": [
    "features = ['complaint_type', 'latitude','longitude', 'created_date']"
   ]
  },
  {
   "cell_type": "code",
   "execution_count": 82,
   "metadata": {},
   "outputs": [],
   "source": [
    "data['time_to_action'] = (data['resolution_action_updated_date'] - data['created_date']) # / pd.np.timedelta64(1, 'M')"
   ]
  },
  {
   "cell_type": "code",
   "execution_count": 83,
   "metadata": {},
   "outputs": [],
   "source": [
    "data_ = data.loc[data.complaint_type.str.contains('Noise'), features + ['time_to_action']]\n",
    "data_ = data_[data_.notnull().all(1)]"
   ]
  },
  {
   "cell_type": "code",
   "execution_count": 84,
   "metadata": {},
   "outputs": [],
   "source": [
    "data_['time_to_action'] = (data_['time_to_action'].dt.seconds / 3600).astype(int)"
   ]
  },
  {
   "cell_type": "code",
   "execution_count": 85,
   "metadata": {},
   "outputs": [],
   "source": [
    "y = data_['time_to_action']\n",
    "X = data_.drop('time_to_action', axis=1)"
   ]
  },
  {
   "cell_type": "code",
   "execution_count": 86,
   "metadata": {},
   "outputs": [
    {
     "data": {
      "text/plain": [
       "17626"
      ]
     },
     "execution_count": 86,
     "metadata": {},
     "output_type": "execute_result"
    }
   ],
   "source": [
    "len(X)"
   ]
  },
  {
   "cell_type": "markdown",
   "metadata": {},
   "source": [
    "# Little cleaning"
   ]
  },
  {
   "cell_type": "code",
   "execution_count": 87,
   "metadata": {},
   "outputs": [
    {
     "data": {
      "text/plain": [
       "array(['Noise - Commercial', 'Noise - Residential',\n",
       "       'Noise - Street/Sidewalk', 'Noise - Vehicle', 'Noise - Park',\n",
       "       'Noise', 'Noise - House of Worship', 'Collection Truck Noise'],\n",
       "      dtype=object)"
      ]
     },
     "execution_count": 87,
     "metadata": {},
     "output_type": "execute_result"
    }
   ],
   "source": [
    "X['complaint_type'].unique()"
   ]
  },
  {
   "cell_type": "code",
   "execution_count": 88,
   "metadata": {},
   "outputs": [],
   "source": [
    "proper_names = {\n",
    "    'Noise - Commercial':'commercial', \n",
    "    'Noise - Residential':'residential',\n",
    "    'Noise - Street/Sidewalk':'street',\n",
    "    'Noise - Vehicle':'vehicle', \n",
    "    'Noise - Park':'park',\n",
    "    'Noise':'other', \n",
    "    'Noise - House of Worship':'worship', \n",
    "    'Collection Truck Noise':'truck'\n",
    "}"
   ]
  },
  {
   "cell_type": "code",
   "execution_count": 89,
   "metadata": {},
   "outputs": [],
   "source": [
    "X['complaint_type'] = X['complaint_type'].map(proper_names)"
   ]
  },
  {
   "cell_type": "code",
   "execution_count": 90,
   "metadata": {},
   "outputs": [
    {
     "data": {
      "text/html": [
       "<div>\n",
       "<style scoped>\n",
       "    .dataframe tbody tr th:only-of-type {\n",
       "        vertical-align: middle;\n",
       "    }\n",
       "\n",
       "    .dataframe tbody tr th {\n",
       "        vertical-align: top;\n",
       "    }\n",
       "\n",
       "    .dataframe thead th {\n",
       "        text-align: right;\n",
       "    }\n",
       "</style>\n",
       "<table border=\"1\" class=\"dataframe\">\n",
       "  <thead>\n",
       "    <tr style=\"text-align: right;\">\n",
       "      <th></th>\n",
       "      <th>complaint_type</th>\n",
       "      <th>latitude</th>\n",
       "      <th>longitude</th>\n",
       "      <th>created_date</th>\n",
       "    </tr>\n",
       "  </thead>\n",
       "  <tbody>\n",
       "    <tr>\n",
       "      <th>1</th>\n",
       "      <td>commercial</td>\n",
       "      <td>40.636626</td>\n",
       "      <td>-73.951694</td>\n",
       "      <td>2019-06-08 00:00:09</td>\n",
       "    </tr>\n",
       "    <tr>\n",
       "      <th>2</th>\n",
       "      <td>residential</td>\n",
       "      <td>40.832004</td>\n",
       "      <td>-73.908709</td>\n",
       "      <td>2019-06-08 00:00:10</td>\n",
       "    </tr>\n",
       "    <tr>\n",
       "      <th>3</th>\n",
       "      <td>residential</td>\n",
       "      <td>40.761258</td>\n",
       "      <td>-73.935493</td>\n",
       "      <td>2019-06-08 00:00:10</td>\n",
       "    </tr>\n",
       "    <tr>\n",
       "      <th>8</th>\n",
       "      <td>residential</td>\n",
       "      <td>40.707498</td>\n",
       "      <td>-73.949284</td>\n",
       "      <td>2019-06-08 00:01:01</td>\n",
       "    </tr>\n",
       "    <tr>\n",
       "      <th>9</th>\n",
       "      <td>commercial</td>\n",
       "      <td>40.707686</td>\n",
       "      <td>-73.931992</td>\n",
       "      <td>2019-06-08 00:01:31</td>\n",
       "    </tr>\n",
       "  </tbody>\n",
       "</table>\n",
       "</div>"
      ],
      "text/plain": [
       "  complaint_type   latitude  longitude        created_date\n",
       "1     commercial  40.636626 -73.951694 2019-06-08 00:00:09\n",
       "2    residential  40.832004 -73.908709 2019-06-08 00:00:10\n",
       "3    residential  40.761258 -73.935493 2019-06-08 00:00:10\n",
       "8    residential  40.707498 -73.949284 2019-06-08 00:01:01\n",
       "9     commercial  40.707686 -73.931992 2019-06-08 00:01:31"
      ]
     },
     "execution_count": 90,
     "metadata": {},
     "output_type": "execute_result"
    }
   ],
   "source": [
    "X.head(5)"
   ]
  },
  {
   "cell_type": "markdown",
   "metadata": {},
   "source": [
    "## Feature Generation"
   ]
  },
  {
   "cell_type": "code",
   "execution_count": 91,
   "metadata": {},
   "outputs": [],
   "source": [
    "# class TimeTransformer(BaseEstimator):\n",
    "#     cols = None\n",
    "    \n",
    "#     def __init__(self, cols=None):\n",
    "#         self.cols = cols\n",
    "    \n",
    "#     def fit(self, X=None, y=None, groups=None):\n",
    "        \n",
    "#         if self.cols is None:\n",
    "#             self.cols = X.select_dtypes(include=pd.np.datetime64).columns\n",
    "#         return self\n",
    "    \n",
    "#     def transform(self, X, y=None, groups=None, cols=None):\n",
    "        \n",
    "#         for col in self.cols:\n",
    "#             dates = X[col]\n",
    "#             X = X.drop(col, axis=1)\n",
    "#             X[f'{col}_dow'] = dates.dt.dayofweek\n",
    "#             X[f'{col}_doy'] = dates.dt.dayofyear\n",
    "#             X[f'{col}_tod'] = dates.dt.second\n",
    "\n",
    "#         return X\n",
    "\n",
    "from ml import TimeTransformer"
   ]
  },
  {
   "cell_type": "code",
   "execution_count": 92,
   "metadata": {},
   "outputs": [],
   "source": [
    "t = TimeTransformer()"
   ]
  },
  {
   "cell_type": "code",
   "execution_count": 93,
   "metadata": {},
   "outputs": [
    {
     "data": {
      "text/html": [
       "<div>\n",
       "<style scoped>\n",
       "    .dataframe tbody tr th:only-of-type {\n",
       "        vertical-align: middle;\n",
       "    }\n",
       "\n",
       "    .dataframe tbody tr th {\n",
       "        vertical-align: top;\n",
       "    }\n",
       "\n",
       "    .dataframe thead th {\n",
       "        text-align: right;\n",
       "    }\n",
       "</style>\n",
       "<table border=\"1\" class=\"dataframe\">\n",
       "  <thead>\n",
       "    <tr style=\"text-align: right;\">\n",
       "      <th></th>\n",
       "      <th>complaint_type</th>\n",
       "      <th>latitude</th>\n",
       "      <th>longitude</th>\n",
       "      <th>created_date_dow</th>\n",
       "      <th>created_date_doy</th>\n",
       "      <th>created_date_tod</th>\n",
       "    </tr>\n",
       "  </thead>\n",
       "  <tbody>\n",
       "    <tr>\n",
       "      <th>1</th>\n",
       "      <td>commercial</td>\n",
       "      <td>40.636626</td>\n",
       "      <td>-73.951694</td>\n",
       "      <td>5</td>\n",
       "      <td>159</td>\n",
       "      <td>9</td>\n",
       "    </tr>\n",
       "    <tr>\n",
       "      <th>2</th>\n",
       "      <td>residential</td>\n",
       "      <td>40.832004</td>\n",
       "      <td>-73.908709</td>\n",
       "      <td>5</td>\n",
       "      <td>159</td>\n",
       "      <td>10</td>\n",
       "    </tr>\n",
       "    <tr>\n",
       "      <th>3</th>\n",
       "      <td>residential</td>\n",
       "      <td>40.761258</td>\n",
       "      <td>-73.935493</td>\n",
       "      <td>5</td>\n",
       "      <td>159</td>\n",
       "      <td>10</td>\n",
       "    </tr>\n",
       "  </tbody>\n",
       "</table>\n",
       "</div>"
      ],
      "text/plain": [
       "  complaint_type   latitude  longitude  created_date_dow  created_date_doy  \\\n",
       "1     commercial  40.636626 -73.951694                 5               159   \n",
       "2    residential  40.832004 -73.908709                 5               159   \n",
       "3    residential  40.761258 -73.935493                 5               159   \n",
       "\n",
       "   created_date_tod  \n",
       "1                 9  \n",
       "2                10  \n",
       "3                10  "
      ]
     },
     "execution_count": 93,
     "metadata": {},
     "output_type": "execute_result"
    }
   ],
   "source": [
    "t.fit(X).transform(X).head(3)"
   ]
  },
  {
   "cell_type": "code",
   "execution_count": 94,
   "metadata": {},
   "outputs": [],
   "source": [
    "cats = X['complaint_type'].unique().tolist()"
   ]
  },
  {
   "cell_type": "code",
   "execution_count": 95,
   "metadata": {},
   "outputs": [],
   "source": [
    "ct = ColumnTransformer(\n",
    "        transformers=[\n",
    "            ('ordinal', OrdinalEncoder(categories=[cats,]), ['complaint_type']),\n",
    "            ('time', TimeTransformer(cols=['created_date']), ['created_date',])\n",
    "        ], remainder='passthrough')"
   ]
  },
  {
   "cell_type": "code",
   "execution_count": 96,
   "metadata": {},
   "outputs": [],
   "source": [
    "model = RandomForestRegressor(n_estimators=100)"
   ]
  },
  {
   "cell_type": "code",
   "execution_count": 97,
   "metadata": {},
   "outputs": [],
   "source": [
    "pipe = Pipeline(steps=[('preprocessor', ct),\n",
    "                        ('model', model)])"
   ]
  },
  {
   "cell_type": "markdown",
   "metadata": {},
   "source": [
    "## Cross-validate"
   ]
  },
  {
   "cell_type": "code",
   "execution_count": 98,
   "metadata": {},
   "outputs": [
    {
     "name": "stderr",
     "output_type": "stream",
     "text": [
      "[Parallel(n_jobs=3)]: Using backend LokyBackend with 3 concurrent workers.\n",
      "[Parallel(n_jobs=3)]: Done   5 out of   5 | elapsed:    9.3s finished\n"
     ]
    }
   ],
   "source": [
    "cv = cross_validate(pipe, X, y, cv=5, scoring=make_scorer(mean_absolute_error),\n",
    "                    verbose=1, n_jobs=3)"
   ]
  },
  {
   "cell_type": "code",
   "execution_count": 99,
   "metadata": {},
   "outputs": [
    {
     "data": {
      "text/html": [
       "<div>\n",
       "<style scoped>\n",
       "    .dataframe tbody tr th:only-of-type {\n",
       "        vertical-align: middle;\n",
       "    }\n",
       "\n",
       "    .dataframe tbody tr th {\n",
       "        vertical-align: top;\n",
       "    }\n",
       "\n",
       "    .dataframe thead th {\n",
       "        text-align: right;\n",
       "    }\n",
       "</style>\n",
       "<table border=\"1\" class=\"dataframe\">\n",
       "  <thead>\n",
       "    <tr style=\"text-align: right;\">\n",
       "      <th></th>\n",
       "      <th>fit_time</th>\n",
       "      <th>score_time</th>\n",
       "      <th>test_score</th>\n",
       "    </tr>\n",
       "  </thead>\n",
       "  <tbody>\n",
       "    <tr>\n",
       "      <th>0</th>\n",
       "      <td>3.798304</td>\n",
       "      <td>0.063160</td>\n",
       "      <td>2.568024</td>\n",
       "    </tr>\n",
       "    <tr>\n",
       "      <th>1</th>\n",
       "      <td>3.818128</td>\n",
       "      <td>0.057942</td>\n",
       "      <td>3.049546</td>\n",
       "    </tr>\n",
       "    <tr>\n",
       "      <th>2</th>\n",
       "      <td>3.827793</td>\n",
       "      <td>0.065426</td>\n",
       "      <td>2.801460</td>\n",
       "    </tr>\n",
       "    <tr>\n",
       "      <th>3</th>\n",
       "      <td>3.648316</td>\n",
       "      <td>0.054539</td>\n",
       "      <td>2.683843</td>\n",
       "    </tr>\n",
       "    <tr>\n",
       "      <th>4</th>\n",
       "      <td>3.691697</td>\n",
       "      <td>0.061576</td>\n",
       "      <td>2.775557</td>\n",
       "    </tr>\n",
       "  </tbody>\n",
       "</table>\n",
       "</div>"
      ],
      "text/plain": [
       "   fit_time  score_time  test_score\n",
       "0  3.798304    0.063160    2.568024\n",
       "1  3.818128    0.057942    3.049546\n",
       "2  3.827793    0.065426    2.801460\n",
       "3  3.648316    0.054539    2.683843\n",
       "4  3.691697    0.061576    2.775557"
      ]
     },
     "execution_count": 99,
     "metadata": {},
     "output_type": "execute_result"
    }
   ],
   "source": [
    "pd.DataFrame(cv)"
   ]
  },
  {
   "cell_type": "code",
   "execution_count": 100,
   "metadata": {},
   "outputs": [
    {
     "data": {
      "text/plain": [
       "2.7756860646509987"
      ]
     },
     "execution_count": 100,
     "metadata": {},
     "output_type": "execute_result"
    }
   ],
   "source": [
    "pd.DataFrame(cv)['test_score'].mean()"
   ]
  },
  {
   "cell_type": "markdown",
   "metadata": {},
   "source": [
    "## Train and store Model"
   ]
  },
  {
   "cell_type": "code",
   "execution_count": 101,
   "metadata": {},
   "outputs": [
    {
     "data": {
      "text/plain": [
       "Pipeline(memory=None,\n",
       "         steps=[('preprocessor',\n",
       "                 ColumnTransformer(n_jobs=None, remainder='passthrough',\n",
       "                                   sparse_threshold=0.3,\n",
       "                                   transformer_weights=None,\n",
       "                                   transformers=[('ordinal',\n",
       "                                                  OrdinalEncoder(categories=[['commercial',\n",
       "                                                                              'residential',\n",
       "                                                                              'street',\n",
       "                                                                              'vehicle',\n",
       "                                                                              'park',\n",
       "                                                                              'other',\n",
       "                                                                              'worship',\n",
       "                                                                              'truck']],\n",
       "                                                                 dtype=<class 'numpy.float64'>),\n",
       "                                                  ['complaint_type']),\n",
       "                                                 ('time',\n",
       "                                                  TimeTransforme...\n",
       "                                   verbose=False)),\n",
       "                ('model',\n",
       "                 RandomForestRegressor(bootstrap=True, criterion='mse',\n",
       "                                       max_depth=None, max_features='auto',\n",
       "                                       max_leaf_nodes=None,\n",
       "                                       min_impurity_decrease=0.0,\n",
       "                                       min_impurity_split=None,\n",
       "                                       min_samples_leaf=1, min_samples_split=2,\n",
       "                                       min_weight_fraction_leaf=0.0,\n",
       "                                       n_estimators=100, n_jobs=None,\n",
       "                                       oob_score=False, random_state=None,\n",
       "                                       verbose=0, warm_start=False))],\n",
       "         verbose=False)"
      ]
     },
     "execution_count": 101,
     "metadata": {},
     "output_type": "execute_result"
    }
   ],
   "source": [
    "pipe.fit(X, y)"
   ]
  },
  {
   "cell_type": "code",
   "execution_count": 102,
   "metadata": {},
   "outputs": [
    {
     "data": {
      "text/plain": [
       "0.93"
      ]
     },
     "execution_count": 102,
     "metadata": {},
     "output_type": "execute_result"
    }
   ],
   "source": [
    "pipe.predict(X.head(1))[0]"
   ]
  },
  {
   "cell_type": "code",
   "execution_count": 103,
   "metadata": {},
   "outputs": [],
   "source": [
    "# from joblib import dump, load\n",
    "import pickle"
   ]
  },
  {
   "cell_type": "code",
   "execution_count": 104,
   "metadata": {},
   "outputs": [],
   "source": [
    "with open('./model.pkl', 'wb') as f:\n",
    "    pickle.dump(pipe, f)\n"
   ]
  },
  {
   "cell_type": "markdown",
   "metadata": {},
   "source": [
    "## Testing"
   ]
  },
  {
   "cell_type": "code",
   "execution_count": 105,
   "metadata": {},
   "outputs": [],
   "source": [
    "singleton = pd.DataFrame([{'complaint_type':'dummy', \n",
    "                           'latitude':1.1111, \n",
    "                           'longitude':1.1111,\n",
    "                           'created_date':pd.to_datetime('2019-01-01')}])"
   ]
  },
  {
   "cell_type": "code",
   "execution_count": 106,
   "metadata": {},
   "outputs": [],
   "source": [
    "BODY = {\n",
    "    'complaint_type': 'residential',\n",
    "    'lat': \"40.636626\",\n",
    "    'lon': \"-73.951694\",\n",
    "    \"date\": \"2019-06-08 00:00:09\"\n",
    "}"
   ]
  },
  {
   "cell_type": "code",
   "execution_count": 107,
   "metadata": {},
   "outputs": [],
   "source": [
    "mapping = {\n",
    "    'lon': 'longitude',\n",
    "    'lat': 'latitude',\n",
    "    'date': 'created_date'\n",
    "}\n",
    "\n",
    "dtypes = {\n",
    "    'lon': float,\n",
    "    'lat': float,\n",
    "    'date': pd.to_datetime\n",
    "}"
   ]
  },
  {
   "cell_type": "code",
   "execution_count": 108,
   "metadata": {},
   "outputs": [],
   "source": [
    "singleton.loc[0, 'complaint_type'] = BODY['complaint_type']\n",
    "\n",
    "for k, col in mapping.items():\n",
    "    singleton.loc[0, col] = dtypes[k](BODY.get(k, pd.np.nan))"
   ]
  },
  {
   "cell_type": "code",
   "execution_count": 109,
   "metadata": {},
   "outputs": [
    {
     "data": {
      "text/html": [
       "<div>\n",
       "<style scoped>\n",
       "    .dataframe tbody tr th:only-of-type {\n",
       "        vertical-align: middle;\n",
       "    }\n",
       "\n",
       "    .dataframe tbody tr th {\n",
       "        vertical-align: top;\n",
       "    }\n",
       "\n",
       "    .dataframe thead th {\n",
       "        text-align: right;\n",
       "    }\n",
       "</style>\n",
       "<table border=\"1\" class=\"dataframe\">\n",
       "  <thead>\n",
       "    <tr style=\"text-align: right;\">\n",
       "      <th></th>\n",
       "      <th>complaint_type</th>\n",
       "      <th>created_date</th>\n",
       "      <th>latitude</th>\n",
       "      <th>longitude</th>\n",
       "    </tr>\n",
       "  </thead>\n",
       "  <tbody>\n",
       "    <tr>\n",
       "      <th>0</th>\n",
       "      <td>residential</td>\n",
       "      <td>2019-06-08 00:00:09</td>\n",
       "      <td>40.636626</td>\n",
       "      <td>-73.951694</td>\n",
       "    </tr>\n",
       "  </tbody>\n",
       "</table>\n",
       "</div>"
      ],
      "text/plain": [
       "  complaint_type        created_date   latitude  longitude\n",
       "0    residential 2019-06-08 00:00:09  40.636626 -73.951694"
      ]
     },
     "execution_count": 109,
     "metadata": {},
     "output_type": "execute_result"
    }
   ],
   "source": [
    "singleton"
   ]
  },
  {
   "cell_type": "code",
   "execution_count": 110,
   "metadata": {},
   "outputs": [
    {
     "data": {
      "text/plain": [
       "complaint_type            object\n",
       "created_date      datetime64[ns]\n",
       "latitude                 float64\n",
       "longitude                float64\n",
       "dtype: object"
      ]
     },
     "execution_count": 110,
     "metadata": {},
     "output_type": "execute_result"
    }
   ],
   "source": [
    "singleton.dtypes"
   ]
  },
  {
   "cell_type": "code",
   "execution_count": 111,
   "metadata": {},
   "outputs": [
    {
     "data": {
      "text/plain": [
       "complaint_type            object\n",
       "latitude                 float64\n",
       "longitude                float64\n",
       "created_date      datetime64[ns]\n",
       "dtype: object"
      ]
     },
     "execution_count": 111,
     "metadata": {},
     "output_type": "execute_result"
    }
   ],
   "source": [
    "X.dtypes"
   ]
  },
  {
   "cell_type": "code",
   "execution_count": 112,
   "metadata": {},
   "outputs": [
    {
     "data": {
      "text/plain": [
       "0.82"
      ]
     },
     "execution_count": 112,
     "metadata": {},
     "output_type": "execute_result"
    }
   ],
   "source": [
    "pipe.predict(singleton[['complaint_type', 'latitude', 'longitude','created_date']])[0]"
   ]
  },
  {
   "cell_type": "code",
   "execution_count": null,
   "metadata": {},
   "outputs": [],
   "source": []
  }
 ],
 "metadata": {
  "kernelspec": {
   "display_name": "Python [conda env:py37]",
   "language": "python",
   "name": "conda-env-py37-py"
  },
  "language_info": {
   "codemirror_mode": {
    "name": "ipython",
    "version": 3
   },
   "file_extension": ".py",
   "mimetype": "text/x-python",
   "name": "python",
   "nbconvert_exporter": "python",
   "pygments_lexer": "ipython3",
   "version": "3.7.3"
  }
 },
 "nbformat": 4,
 "nbformat_minor": 2
}
