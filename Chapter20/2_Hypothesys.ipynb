{
 "cells": [
  {
   "cell_type": "code",
   "execution_count": 15,
   "metadata": {},
   "outputs": [],
   "source": [
    "from hypothesis import strategies as st"
   ]
  },
  {
   "cell_type": "code",
   "execution_count": 16,
   "metadata": {},
   "outputs": [],
   "source": [
    "from hypothesis.extra.pandas import column, data_frames, series"
   ]
  },
  {
   "cell_type": "code",
   "execution_count": 17,
   "metadata": {},
   "outputs": [],
   "source": [
    "from hypothesis import given"
   ]
  },
  {
   "cell_type": "markdown",
   "metadata": {},
   "source": [
    "# Generate string to parse"
   ]
  },
  {
   "cell_type": "code",
   "execution_count": 18,
   "metadata": {},
   "outputs": [],
   "source": [
    "from hypothesis.strategies import integers, randoms, composite\n",
    "from hypothesis.extra.pandas import series\n",
    "from hypothesis import given, strategies as st "
   ]
  },
  {
   "cell_type": "code",
   "execution_count": 19,
   "metadata": {},
   "outputs": [],
   "source": [
    "units = [\n",
    "    ' men',\n",
    "    ' guns',\n",
    "    ' tanks',\n",
    "    ' airplanes',\n",
    "    ' captured'\n",
    "]"
   ]
  },
  {
   "cell_type": "code",
   "execution_count": 20,
   "metadata": {},
   "outputs": [
    {
     "data": {
      "text/plain": [
       "\u001b[0;31mSignature:\u001b[0m \u001b[0mst\u001b[0m\u001b[0;34m.\u001b[0m\u001b[0mintegers\u001b[0m\u001b[0;34m(\u001b[0m\u001b[0mmin_value\u001b[0m\u001b[0;34m=\u001b[0m\u001b[0;32mNone\u001b[0m\u001b[0;34m,\u001b[0m \u001b[0mmax_value\u001b[0m\u001b[0;34m=\u001b[0m\u001b[0;32mNone\u001b[0m\u001b[0;34m)\u001b[0m\u001b[0;34m\u001b[0m\u001b[0;34m\u001b[0m\u001b[0m\n",
       "\u001b[0;31mDocstring:\u001b[0m\n",
       "Returns a strategy which generates integers; in Python 2 these may be\n",
       "ints or longs.\n",
       "\n",
       "If min_value is not None then all values will be >= min_value. If\n",
       "max_value is not None then all values will be <= max_value\n",
       "\n",
       "Examples from this strategy will shrink towards zero, and negative values\n",
       "will also shrink towards positive (i.e. -n may be replaced by +n).\n",
       "\u001b[0;31mFile:\u001b[0m      /anaconda3/envs/packt/lib/python3.7/site-packages/hypothesis/_strategies.py\n",
       "\u001b[0;31mType:\u001b[0m      function\n"
      ]
     },
     "metadata": {},
     "output_type": "display_data"
    }
   ],
   "source": [
    "?st.integers"
   ]
  },
  {
   "cell_type": "code",
   "execution_count": 21,
   "metadata": {},
   "outputs": [],
   "source": [
    "def generate_text(values, r):\n",
    "    r.shuffle(units)\n",
    "    result = ''\n",
    "    for i, el in enumerate(values):\n",
    "        result += str(el)\n",
    "        result +=  (units[i] + ' ')\n",
    "    \n",
    "    return (values, result.strip())"
   ]
  },
  {
   "cell_type": "code",
   "execution_count": null,
   "metadata": {},
   "outputs": [],
   "source": []
  },
  {
   "cell_type": "code",
   "execution_count": 22,
   "metadata": {},
   "outputs": [],
   "source": [
    "StrSintetic = st.builds(generate_text, \n",
    "                        st.lists(st.integers(min_value=1, max_value=2000), min_size=2, max_size=5), \n",
    "                        st.randoms()) "
   ]
  },
  {
   "cell_type": "code",
   "execution_count": 23,
   "metadata": {},
   "outputs": [],
   "source": [
    "SyntSeries = series(StrSintetic)"
   ]
  },
  {
   "cell_type": "code",
   "execution_count": 24,
   "metadata": {},
   "outputs": [
    {
     "data": {
      "text/plain": [
       "0    ([776, 1240, 1750, 1578, 810], 776 airplanes 1...\n",
       "1           ([502, 1939], 502 captured 1939 airplanes)\n",
       "2    ([1055, 117, 428, 652], 1055 airplanes 117 gun...\n",
       "3    ([87, 921, 596, 1500, 313], 87 captured 921 gu...\n",
       "dtype: object"
      ]
     },
     "execution_count": 24,
     "metadata": {},
     "output_type": "execute_result"
    }
   ],
   "source": [
    "SyntSeries.example()"
   ]
  },
  {
   "cell_type": "code",
   "execution_count": null,
   "metadata": {},
   "outputs": [],
   "source": []
  }
 ],
 "metadata": {
  "kernelspec": {
   "display_name": "Python 3",
   "language": "python",
   "name": "python3"
  },
  "language_info": {
   "codemirror_mode": {
    "name": "ipython",
    "version": 3
   },
   "file_extension": ".py",
   "mimetype": "text/x-python",
   "name": "python",
   "nbconvert_exporter": "python",
   "pygments_lexer": "ipython3",
   "version": "3.7.3"
  }
 },
 "nbformat": 4,
 "nbformat_minor": 4
}
